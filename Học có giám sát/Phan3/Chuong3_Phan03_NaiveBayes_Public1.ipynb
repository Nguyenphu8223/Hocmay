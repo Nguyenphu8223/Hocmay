{
 "cells": [
  {
   "cell_type": "markdown",
   "metadata": {},
   "source": [
    "<center>\n",
    "    <h2> CHƯƠNG 3 - PHẦN 03: NAIVE BAYES VÀ BÀI TOÁN NLP</h2>\n",
    "</center>\n",
    "\n",
    "---\n",
    "**NỘI DUNG BÀI HỌC:**\n",
    "1. NLP và bài toán phân lớp văn bản\n",
    "2. Thuật toán Naïve bayes\n",
    "3. Phân loại comment trên twitter\n",
    "4. Bài tập Thực hành\n",
    "---\n",
    "Copyright @dangvannam - FIT.HUMG @2024"
   ]
  },
  {
   "cell_type": "markdown",
   "metadata": {},
   "source": [
    "## 1. NLP và bài toán phân lớp văn bản\n",
    "---\n",
    "* Xử lý ngôn ngữ tự nhiên – NLP (Natural Language Processing) là một trong những lĩnh vực quan trọng của trí tuệ nhân tạo. Rất nhiều ứng dụng của NLP đã, đang và ngày càng có ảnh hưởng sâu rộng tới mọi mặt của đời sống con người\n",
    "* NLP là một lĩnh vực khoa học máy tính, kỹ thuật thông tin và trí tuệ nhân tạo tập trung vào nghiên cứu các tương tác về mặt ngôn ngữ giữa máy tính và con người, cụ thể hơn là làm thế nào để lập trình cho máy tính xử lý và phân tích một lượng lớn dữ liệu ngôn ngữ tự nhiên.\n",
    "* Một số ứng dụng quan trọng của NLP:\n",
    "    1. Các hệ thống máy dịch; \n",
    "    2. Ứng dụng trong xử lý văn bản và ngôn ngữ; \n",
    "    3. Ứng dụng trong tóm tắt và phân loại văn bản, \n",
    "    4. Hệ thống chatbot; trợ lý ảo.\n",
    "    5. Tổng đài tự động (ACC)…. \n",
    "* Trong các ứng dụng của NLP, bài toán phân lớp văn bản là một trong những bài toán quan trọng và kinh điển nhất. \n",
    "* Mục tiêu của một hệ thống phân lớp văn bản là nó có thể tự động phân lớp một văn bản cho trước, để xác định xem văn bản đó thuộc lớp nào. \n",
    "* Các ứng dụng của phân lớp văn bản rất đa dạng như: Hiểu được ý nghĩa, đánh giá, bình luận của người dùng; Lọc email rác; Phân tích cảm xúc; Phân lớp tin tức các bài báo điện tử…\n"
   ]
  },
  {
   "cell_type": "markdown",
   "metadata": {},
   "source": [
    "## 2.THUẬT TOÁN NAIVE BAYES\n",
    "---\n",
    "* Naive Bayes Classifiers (NBC)  là một trong những thuật toán tiêu biểu cho bài toán phân lớp dựa trên lý thuyết xác suất áp dụng định lý Bayes. \n",
    "\n",
    "* Định lý Bayes cho phép chúng ta có thể tính toán một xác suất chưa biết dựa vào các xác suất có điều kiện khác. Với công thức tổng quát tính xác suất của biến cố A với điều kiện biến cố Bk xảy ra trước (hay được gọi là xác suất hậu nghiệm):\n",
    "\n",
    "<img src='pic/naivebayes.png'>\n",
    "\n",
    "Trong công thức Naïve Bayes, Giả thiết các chiều dữ liệu là độc lập với nhau\n",
    "\n",
    "Có 3 loại phân bố xác suất phổ biến là: \n",
    "1. Gausian naïve bayes: sử dụng chủ yếu trong loại dữ liệu mà các thành phần là các biến liên tục. Với mỗi chiều dữ liệu I và một nhãn c, xi tuân theo một phân phối chuẩn có kỳ vọng  μ và phương sai σ\n",
    "\n",
    "2. multinomial naïve bayes: Mô hình này được sử dụng chủ yếu bài toán phân loại văn bản và vector đặc trưng được xây dựng dựa trên ý tưởng Bag of Words (BoW)!\n",
    "\n",
    "3. Bernoulli naïve bayes: Mô hình này được áp dụng cho các loại dữ liệu mà mỗi thành phần là một giá trị nhị phân (0|1).\n",
    "\n",
    "<img src='Pic/type.jpg' width='600px'>\n"
   ]
  },
  {
   "cell_type": "code",
   "execution_count": null,
   "metadata": {},
   "outputs": [],
   "source": []
  },
  {
   "cell_type": "markdown",
   "metadata": {
    "colab_type": "text",
    "id": "Y2OUp3hR29W9"
   },
   "source": [
    "## 3. Phân loại Comment độc (TOXIC)  - không độc (NON TOXIC) sử dụng thuật toán Naive Bayes\n",
    "\n",
    "---\n",
    "Xử lý ngôn ngữ tự nhiên (natural language processing - NLP) là một nhánh của trí tuệ nhân tạo tập trung vào các ứng dụng trên ngôn ngữ của con người. Trong trí tuệ nhân tạo thì xử lý ngôn ngữ tự nhiên là một trong những phần khó nhất vì nó liên quan đến việc phải hiểu ý nghĩa ngôn ngữ-công cụ hoàn hảo nhất của tư duy và giao tiếp. (wikipedia)\n",
    "\n",
    "<img src='Pic/Picture1.jpg'>\n",
    "\n",
    "Tập dữ liệu bao gồm 56700 comment với 2 thuộc tính (class, tweet),\n",
    "\n",
    "\n",
    "1.   Class cho biết comment này thuộc lớp nào:\n",
    "    *   0 : Không độc - Non Toxic\n",
    "    *   1 : Độc - Toxic \n",
    "2. Tweet tập hợp các commnet, dữ liệu này chưa được xử lý.\n",
    "\n",
    "\n",
    "**CÁC VẤN ĐỀ GIẢI QUYẾT TRONG PROJECT:**\n",
    "* Nghiên cứu các phương pháp tiền xử lý dữ liệu văn bản\n",
    "* Nghiên cứu các phương pháp trích chọn đặc trưng của dữ liệu văn bản\n",
    "* Nghiên cứu sử dụng các thuật toán học máy phân lớp văn bản (Toxic - Non Toxic)\n",
    "\n",
    "<img src='Pic/Picture2.png'>"
   ]
  },
  {
   "cell_type": "markdown",
   "metadata": {
    "colab_type": "text",
    "id": "lKK4HIas7F4w"
   },
   "source": [
    "### 3.1. TẢI TẬP DỮ LIỆU DATA_NLP VÀ QUAN SÁT TẬP DỮ LIỆU\n",
    "---\n"
   ]
  },
  {
   "cell_type": "code",
   "execution_count": 1,
   "metadata": {},
   "outputs": [],
   "source": [
    "#Gọi các thư viện:\n",
    "import pandas as pd\n",
    "import numpy as np\n",
    "import matplotlib.pyplot as plt\n",
    "#-----------------------------------------\n",
    "import warnings\n",
    "warnings.filterwarnings('ignore')"
   ]
  },
  {
   "cell_type": "code",
   "execution_count": 2,
   "metadata": {
    "colab": {
     "base_uri": "https://localhost:8080/",
     "height": 202
    },
    "colab_type": "code",
    "id": "KUwc65m76cUI",
    "outputId": "0bc5bbbe-7096-4b12-f992-abd2e8db6289"
   },
   "outputs": [
    {
     "name": "stdout",
     "output_type": "stream",
     "text": [
      "<class 'pandas.core.frame.DataFrame'>\n",
      "RangeIndex: 56700 entries, 0 to 56699\n",
      "Data columns (total 2 columns):\n",
      " #   Column  Non-Null Count  Dtype \n",
      "---  ------  --------------  ----- \n",
      " 0   class   56700 non-null  int64 \n",
      " 1   tweet   56700 non-null  object\n",
      "dtypes: int64(1), object(1)\n",
      "memory usage: 886.1+ KB\n"
     ]
    }
   ],
   "source": [
    "#Đọc file dữ liệu Data_NLP.csv vào biến data\n",
    "data = pd.read_csv('Data/Data_NLP.csv')\n",
    "data.info()"
   ]
  },
  {
   "cell_type": "code",
   "execution_count": 3,
   "metadata": {},
   "outputs": [
    {
     "data": {
      "text/html": [
       "<div>\n",
       "<style scoped>\n",
       "    .dataframe tbody tr th:only-of-type {\n",
       "        vertical-align: middle;\n",
       "    }\n",
       "\n",
       "    .dataframe tbody tr th {\n",
       "        vertical-align: top;\n",
       "    }\n",
       "\n",
       "    .dataframe thead th {\n",
       "        text-align: right;\n",
       "    }\n",
       "</style>\n",
       "<table border=\"1\" class=\"dataframe\">\n",
       "  <thead>\n",
       "    <tr style=\"text-align: right;\">\n",
       "      <th></th>\n",
       "      <th>class</th>\n",
       "      <th>tweet</th>\n",
       "    </tr>\n",
       "  </thead>\n",
       "  <tbody>\n",
       "    <tr>\n",
       "      <th>0</th>\n",
       "      <td>0</td>\n",
       "      <td>!!! RT @mayasolovely: As a woman you shouldn't...</td>\n",
       "    </tr>\n",
       "    <tr>\n",
       "      <th>1</th>\n",
       "      <td>1</td>\n",
       "      <td>!!!!! RT @mleew17: boy dats cold...tyga dwn ba...</td>\n",
       "    </tr>\n",
       "    <tr>\n",
       "      <th>2</th>\n",
       "      <td>1</td>\n",
       "      <td>!!!!!!! RT @UrKindOfBrand Dawg!!!! RT @80sbaby...</td>\n",
       "    </tr>\n",
       "    <tr>\n",
       "      <th>3</th>\n",
       "      <td>1</td>\n",
       "      <td>!!!!!!!!! RT @C_G_Anderson: @viva_based she lo...</td>\n",
       "    </tr>\n",
       "    <tr>\n",
       "      <th>4</th>\n",
       "      <td>1</td>\n",
       "      <td>!!!!!!!!!!!!! RT @ShenikaRoberts: The shit you...</td>\n",
       "    </tr>\n",
       "  </tbody>\n",
       "</table>\n",
       "</div>"
      ],
      "text/plain": [
       "   class                                              tweet\n",
       "0      0  !!! RT @mayasolovely: As a woman you shouldn't...\n",
       "1      1  !!!!! RT @mleew17: boy dats cold...tyga dwn ba...\n",
       "2      1  !!!!!!! RT @UrKindOfBrand Dawg!!!! RT @80sbaby...\n",
       "3      1  !!!!!!!!! RT @C_G_Anderson: @viva_based she lo...\n",
       "4      1  !!!!!!!!!!!!! RT @ShenikaRoberts: The shit you..."
      ]
     },
     "execution_count": 3,
     "metadata": {},
     "output_type": "execute_result"
    }
   ],
   "source": [
    "#Hiển thị 5 dòng đầu tiên\n",
    "data.head()"
   ]
  },
  {
   "cell_type": "code",
   "execution_count": 4,
   "metadata": {
    "colab": {
     "base_uri": "https://localhost:8080/",
     "height": 343
    },
    "colab_type": "code",
    "id": "fDT8NVvmiiLC",
    "outputId": "a1008912-b77d-4d22-c885-aac8ab35cbfc"
   },
   "outputs": [
    {
     "data": {
      "text/html": [
       "<div>\n",
       "<style scoped>\n",
       "    .dataframe tbody tr th:only-of-type {\n",
       "        vertical-align: middle;\n",
       "    }\n",
       "\n",
       "    .dataframe tbody tr th {\n",
       "        vertical-align: top;\n",
       "    }\n",
       "\n",
       "    .dataframe thead th {\n",
       "        text-align: right;\n",
       "    }\n",
       "</style>\n",
       "<table border=\"1\" class=\"dataframe\">\n",
       "  <thead>\n",
       "    <tr style=\"text-align: right;\">\n",
       "      <th></th>\n",
       "      <th>class</th>\n",
       "      <th>tweet</th>\n",
       "    </tr>\n",
       "  </thead>\n",
       "  <tbody>\n",
       "    <tr>\n",
       "      <th>56695</th>\n",
       "      <td>1</td>\n",
       "      <td>i couldn't end #2016 without mentioning #trump...</td>\n",
       "    </tr>\n",
       "    <tr>\n",
       "      <th>56696</th>\n",
       "      <td>0</td>\n",
       "      <td>#chateaubriand #stovells absolutely lovely #fo...</td>\n",
       "    </tr>\n",
       "    <tr>\n",
       "      <th>56697</th>\n",
       "      <td>0</td>\n",
       "      <td>@user #frarou woohoo! #euro2016 kicks off..!</td>\n",
       "    </tr>\n",
       "    <tr>\n",
       "      <th>56698</th>\n",
       "      <td>0</td>\n",
       "      <td>and here i thought @user  and i were having a ...</td>\n",
       "    </tr>\n",
       "    <tr>\n",
       "      <th>56699</th>\n",
       "      <td>0</td>\n",
       "      <td>happy tuesday!! feeling fantastic today. looki...</td>\n",
       "    </tr>\n",
       "  </tbody>\n",
       "</table>\n",
       "</div>"
      ],
      "text/plain": [
       "       class                                              tweet\n",
       "56695      1  i couldn't end #2016 without mentioning #trump...\n",
       "56696      0  #chateaubriand #stovells absolutely lovely #fo...\n",
       "56697      0     @user #frarou woohoo! #euro2016 kicks off..!  \n",
       "56698      0  and here i thought @user  and i were having a ...\n",
       "56699      0  happy tuesday!! feeling fantastic today. looki..."
      ]
     },
     "execution_count": 4,
     "metadata": {},
     "output_type": "execute_result"
    }
   ],
   "source": [
    "#Hiển thị 5 dòng cuối cùng\n",
    "data.tail()"
   ]
  },
  {
   "cell_type": "code",
   "execution_count": 5,
   "metadata": {
    "colab": {
     "base_uri": "https://localhost:8080/",
     "height": 50
    },
    "colab_type": "code",
    "id": "GWEMPKiQiqxY",
    "outputId": "2f555f53-9d68-46fe-ac78-a23669391431"
   },
   "outputs": [
    {
     "name": "stdout",
     "output_type": "stream",
     "text": [
      "[['so excited to learn more!   #learn']]\n"
     ]
    }
   ],
   "source": [
    "#Hiển thị nội dung một comment bất kỳ\n",
    "print(data.loc[[30000],['tweet']].values)"
   ]
  },
  {
   "cell_type": "markdown",
   "metadata": {},
   "source": [
    "**Kiểm tra dữ liệu thiếu, dữ liệu trùng lặp:**\n",
    "---"
   ]
  },
  {
   "cell_type": "code",
   "execution_count": 6,
   "metadata": {
    "colab": {
     "base_uri": "https://localhost:8080/",
     "height": 165
    },
    "colab_type": "code",
    "id": "9BZj5GlxhDR_",
    "outputId": "7efee8f9-9623-4078-c132-d460b67e0d41"
   },
   "outputs": [
    {
     "data": {
      "text/plain": [
       "class    0\n",
       "tweet    0\n",
       "dtype: int64"
      ]
     },
     "execution_count": 6,
     "metadata": {},
     "output_type": "execute_result"
    }
   ],
   "source": [
    "#Kiểm tra dữ liệu missing trong tập: \n",
    "data.isnull().sum()"
   ]
  },
  {
   "cell_type": "code",
   "execution_count": 7,
   "metadata": {},
   "outputs": [
    {
     "data": {
      "text/plain": [
       "2429"
      ]
     },
     "execution_count": 7,
     "metadata": {},
     "output_type": "execute_result"
    }
   ],
   "source": [
    "#Kiểm tra dữ liệu trùng lặp:\n",
    "data.duplicated().sum()"
   ]
  },
  {
   "cell_type": "code",
   "execution_count": 8,
   "metadata": {},
   "outputs": [
    {
     "data": {
      "text/html": [
       "<div>\n",
       "<style scoped>\n",
       "    .dataframe tbody tr th:only-of-type {\n",
       "        vertical-align: middle;\n",
       "    }\n",
       "\n",
       "    .dataframe tbody tr th {\n",
       "        vertical-align: top;\n",
       "    }\n",
       "\n",
       "    .dataframe thead th {\n",
       "        text-align: right;\n",
       "    }\n",
       "</style>\n",
       "<table border=\"1\" class=\"dataframe\">\n",
       "  <thead>\n",
       "    <tr style=\"text-align: right;\">\n",
       "      <th></th>\n",
       "      <th>class</th>\n",
       "      <th>tweet</th>\n",
       "    </tr>\n",
       "  </thead>\n",
       "  <tbody>\n",
       "    <tr>\n",
       "      <th>37332</th>\n",
       "      <td>0</td>\n",
       "      <td>#fathersday ! looking for something to do? s...</td>\n",
       "    </tr>\n",
       "    <tr>\n",
       "      <th>56547</th>\n",
       "      <td>0</td>\n",
       "      <td>#fathersday ! looking for something to do? s...</td>\n",
       "    </tr>\n",
       "    <tr>\n",
       "      <th>52183</th>\n",
       "      <td>0</td>\n",
       "      <td>#fathersday ! looking for something to do? s...</td>\n",
       "    </tr>\n",
       "    <tr>\n",
       "      <th>47075</th>\n",
       "      <td>0</td>\n",
       "      <td>#fathersday ! looking for something to do? s...</td>\n",
       "    </tr>\n",
       "    <tr>\n",
       "      <th>55171</th>\n",
       "      <td>0</td>\n",
       "      <td>#friday! we look forward to a wonderful week...</td>\n",
       "    </tr>\n",
       "    <tr>\n",
       "      <th>...</th>\n",
       "      <td>...</td>\n",
       "      <td>...</td>\n",
       "    </tr>\n",
       "    <tr>\n",
       "      <th>48366</th>\n",
       "      <td>0</td>\n",
       "      <td>ð   #tech 10 symptoms of having a paner obs...</td>\n",
       "    </tr>\n",
       "    <tr>\n",
       "      <th>50083</th>\n",
       "      <td>0</td>\n",
       "      <td>ð   #tech how bitcoin will revolutionise ga...</td>\n",
       "    </tr>\n",
       "    <tr>\n",
       "      <th>34745</th>\n",
       "      <td>0</td>\n",
       "      <td>ðquote of the day ð  #bless #thankful #o...</td>\n",
       "    </tr>\n",
       "    <tr>\n",
       "      <th>28937</th>\n",
       "      <td>0</td>\n",
       "      <td>ðquote of the day ð  #bless #thankful #o...</td>\n",
       "    </tr>\n",
       "    <tr>\n",
       "      <th>26768</th>\n",
       "      <td>0</td>\n",
       "      <td>ðquote of the day ð  #bless #thankful #o...</td>\n",
       "    </tr>\n",
       "  </tbody>\n",
       "</table>\n",
       "<p>2429 rows × 2 columns</p>\n",
       "</div>"
      ],
      "text/plain": [
       "       class                                              tweet\n",
       "37332      0    #fathersday ! looking for something to do? s...\n",
       "56547      0    #fathersday ! looking for something to do? s...\n",
       "52183      0    #fathersday ! looking for something to do? s...\n",
       "47075      0    #fathersday ! looking for something to do? s...\n",
       "55171      0    #friday! we look forward to a wonderful week...\n",
       "...      ...                                                ...\n",
       "48366      0  ð   #tech 10 symptoms of having a paner obs...\n",
       "50083      0  ð   #tech how bitcoin will revolutionise ga...\n",
       "34745      0  ðquote of the day ð  #bless #thankful #o...\n",
       "28937      0  ðquote of the day ð  #bless #thankful #o...\n",
       "26768      0  ðquote of the day ð  #bless #thankful #o...\n",
       "\n",
       "[2429 rows x 2 columns]"
      ]
     },
     "execution_count": 8,
     "metadata": {},
     "output_type": "execute_result"
    }
   ],
   "source": [
    "#Liệt kê các bản ghi trùng lặp\n",
    "data[data.duplicated()==True].sort_values(by='tweet')"
   ]
  },
  {
   "cell_type": "code",
   "execution_count": 9,
   "metadata": {},
   "outputs": [
    {
     "name": "stdout",
     "output_type": "stream",
     "text": [
      "<class 'pandas.core.frame.DataFrame'>\n",
      "Int64Index: 54271 entries, 0 to 56699\n",
      "Data columns (total 2 columns):\n",
      " #   Column  Non-Null Count  Dtype \n",
      "---  ------  --------------  ----- \n",
      " 0   class   54271 non-null  int64 \n",
      " 1   tweet   54271 non-null  object\n",
      "dtypes: int64(1), object(1)\n",
      "memory usage: 1.2+ MB\n"
     ]
    }
   ],
   "source": [
    "#Xóa các dữ liệu trùng lặp giữ lại bản ghi đầu tiên:\n",
    "data.drop_duplicates(keep='first',inplace=True)\n",
    "data.info()"
   ]
  },
  {
   "cell_type": "markdown",
   "metadata": {
    "colab_type": "text",
    "id": "UGmKfPWf8yRu"
   },
   "source": [
    "### 3.2.TIỀN XỬ LÝ DỮ LIỆU VĂN BẢN\n",
    "---\n",
    "\n",
    "Sử dụng thư viện Natural Language Tool Kit (NLTK) thực hiện xử lý các comment\n",
    "\n",
    "NLTK là một bộ công cụ dành riêng cho Natural Language Processing và được tích hợp vào Python. Nó đang ngày càng hoàn thiện và tích hợp các công cụ mới bởi hàng nghìn lập trình viên và cộng tác viên trên khắp thế giới. NLTK bao gồm những thư viện hàm, các công cụ phân tích, các corpus, wordnet, …giúp đơn giản hóa, tiết kiệm thời gian và công sức cho các lập trình viên. Python kết hợp với NLTK là bộ công cụ hữu hiệu và mạnh mẽ nhất dành cho Natural Language Processing.\n",
    "\n",
    "http://www.nltk.org/\n"
   ]
  },
  {
   "cell_type": "code",
   "execution_count": 10,
   "metadata": {
    "colab": {
     "base_uri": "https://localhost:8080/",
     "height": 151
    },
    "colab_type": "code",
    "id": "QA_5uA_K88yQ",
    "outputId": "13193c55-844c-4e1d-d0e9-5bb90b5be8ab"
   },
   "outputs": [
    {
     "name": "stdout",
     "output_type": "stream",
     "text": [
      "3.8.1\n"
     ]
    }
   ],
   "source": [
    "#Khai báo sử dụng thư viện NLTK\n",
    "# Bỏ tag để download\n",
    "import nltk\n",
    "# nltk.download('punkt')\n",
    "# nltk.download('wordnet')\n",
    "# nltk.download('averaged_perceptron_tagger')\n",
    "\n",
    "print(nltk.__version__)"
   ]
  },
  {
   "cell_type": "markdown",
   "metadata": {
    "colab_type": "text",
    "id": "I2f4esC0zAce"
   },
   "source": [
    "### 3.3.1) Làm sạch dữ liệu\n",
    "----\n",
    "Mục đích bước này là loại bỏ noise trong data của bạn. Đa phần noise là các thẻ HTML, JavaScript, và đương nhiên nếu cứ để noise để tiến hành xử lý sẽ dẫn đến kết quả xử lý không tốt.\n",
    "\n",
    "Thư viện re — Regular expression operations: thao tác với biểu thức chính quy\n",
    "\n",
    "https://regex101.com/"
   ]
  },
  {
   "cell_type": "markdown",
   "metadata": {},
   "source": [
    "I am --> I'm\n",
    "You are --> You're\n",
    "I have --> I've\n",
    "Can not --> cann't\n",
    "I will --? I'll\n",
    "....\n",
    "--> Chuẩn hóa thống nhất về 1 dạng: Đầy đủ | viết tắt"
   ]
  },
  {
   "cell_type": "code",
   "execution_count": 11,
   "metadata": {
    "colab": {},
    "colab_type": "code",
    "id": "wdZSsvTX_-K8"
   },
   "outputs": [],
   "source": [
    "#Thư viện re — Regular expression operations: thao tác với biểu thức chính quy\n",
    "import re\n",
    "\n",
    "#hàm decontracted thực hiện chuyển đổi các phần viết tắt thành câu đầy đủ\n",
    "def decontracted(st):\n",
    "    # specific\n",
    "    st = re.sub(r\"won\\'t\", \"will not\", st)\n",
    "    st = re.sub(r\"can\\'t\", \"can not\", st)\n",
    "    # general\n",
    "    st = re.sub(r\"n\\'t\", \" not\", st)\n",
    "    st = re.sub(r\"\\'re\", \" are\", st)\n",
    "    st = re.sub(r\"\\'s\", \" is\", st)\n",
    "    st = re.sub(r\"\\'d\", \" would\", st)\n",
    "    st = re.sub(r\"\\'ll\", \" will\", st)\n",
    "    st = re.sub(r\"\\'ve\", \" have\", st)\n",
    "    st = re.sub(r\"\\'m\", \" am\", st)\n",
    "    return st"
   ]
  },
  {
   "cell_type": "code",
   "execution_count": 12,
   "metadata": {},
   "outputs": [
    {
     "name": "stdout",
     "output_type": "stream",
     "text": [
      "Dữ liệu ban đầu: \n",
      " \"SORRY JB FAN &#65292;REALLY JUSTIN COME BACK\". \n",
      "That's the top comment on a Justin Timberlake video with 10 million views. \n",
      "Son of a fucking bitch! I'm looking forward this video. Have you been seen it yet. \n",
      "fanjustin@gmail.com; https://allflim.com\n",
      "-----------------------------------------------\n",
      "Dữ liệu sau khi xử lý: \n",
      " \"SORRY JB FAN &#65292;REALLY JUSTIN COME BACK\". \n",
      "That is the top comment on a Justin Timberlake video with 10 million views. \n",
      "Son of a fucking bitch! I am looking forward this video. Have you been seen it yet. \n",
      "fanjustin@gmail.com; https://allflim.com\n"
     ]
    }
   ],
   "source": [
    "#Kiểm tra decontracted:\n",
    "text=\"\"\"\"SORRY JB FAN &#65292;REALLY JUSTIN COME BACK\". \n",
    "That's the top comment on a Justin Timberlake video with 10 million views. \n",
    "Son of a fucking bitch! I'm looking forward this video. Have you been seen it yet. \n",
    "fanjustin@gmail.com; https://allflim.com\"\"\"\n",
    "\n",
    "print(\"Dữ liệu ban đầu: \\n\", text)\n",
    "print('-----------------------------------------------')\n",
    "\n",
    "text1 = decontracted(text)\n",
    "print(\"Dữ liệu sau khi xử lý: \\n\", text1)"
   ]
  },
  {
   "cell_type": "code",
   "execution_count": null,
   "metadata": {},
   "outputs": [],
   "source": []
  },
  {
   "cell_type": "code",
   "execution_count": 13,
   "metadata": {
    "colab": {},
    "colab_type": "code",
    "id": "0GoT4TzvUzP1"
   },
   "outputs": [],
   "source": [
    " #hàm clear_link thực hiện loại bỏ liên kết (link), địa chỉ email trong câu\n",
    "def clear_link(st):\n",
    "    #Remove links/email\n",
    "    word = re.sub(r'((http|https)\\:\\/\\/)?[a-zA-Z0-9\\.\\/\\?\\:@\\-_=#]+\\.([a-zA-Z]){2,6}([a-zA-Z0-9\\.\\&\\/\\?\\:@\\-_=#])*', \n",
    "                '', st, flags=re.MULTILINE)\n",
    "    word = re.sub(r'(@[^\\s]*)', \"\", word)\n",
    "    #word = re.sub('[\\W]', ' ', st)\n",
    "    return word"
   ]
  },
  {
   "cell_type": "code",
   "execution_count": 14,
   "metadata": {},
   "outputs": [
    {
     "name": "stdout",
     "output_type": "stream",
     "text": [
      "Dữ liệu ban đầu: \n",
      " \"SORRY JB FAN &#65292;REALLY JUSTIN COME BACK\". \n",
      "That's the top comment on a Justin Timberlake video with 10 million views. \n",
      "Son of a fucking bitch! I'm looking forward this video. Have you been seen it yet. \n",
      "fanjustin@gmail.com; https://allflim.com\n",
      "-----------------------------------------------\n",
      "Dữ liệu sau khi xử lý: \n",
      " \"SORRY JB FAN &#65292;REALLY JUSTIN COME BACK\". \n",
      "That's the top comment on a Justin Timberlake video with 10 million views. \n",
      "Son of a fucking bitch! I'm looking forward this video. Have you been seen it yet. \n",
      "; \n"
     ]
    }
   ],
   "source": [
    "#Kiểm tra clear_link:\n",
    "print(\"Dữ liệu ban đầu: \\n\", text)\n",
    "print('-----------------------------------------------')\n",
    "\n",
    "text1 = clear_link(text)\n",
    "print(\"Dữ liệu sau khi xử lý: \\n\", text1)"
   ]
  },
  {
   "cell_type": "code",
   "execution_count": null,
   "metadata": {},
   "outputs": [],
   "source": []
  },
  {
   "cell_type": "code",
   "execution_count": 15,
   "metadata": {
    "colab": {},
    "colab_type": "code",
    "id": "2tdlyIHJWXOJ"
   },
   "outputs": [],
   "source": [
    "#Hàm clear_punctuation thực hiện loai bỏ các dấu câu, ký tự đặc biệt trong chuỗi\n",
    "def clear_punctuation(st):\n",
    "    word = re.sub(r'[^\\w\\s]', '',st)\n",
    "    return word"
   ]
  },
  {
   "cell_type": "code",
   "execution_count": 16,
   "metadata": {},
   "outputs": [
    {
     "name": "stdout",
     "output_type": "stream",
     "text": [
      "Dữ liệu ban đầu: \n",
      " \"SORRY JB FAN &#65292;REALLY JUSTIN COME BACK\". \n",
      "That's the top comment on a Justin Timberlake video with 10 million views. \n",
      "Son of a fucking bitch! I'm looking forward this video. Have you been seen it yet. \n",
      "fanjustin@gmail.com; https://allflim.com\n",
      "-----------------------------------------------\n",
      "Dữ liệu sau khi xử lý: \n",
      " SORRY JB FAN 65292REALLY JUSTIN COME BACK \n",
      "Thats the top comment on a Justin Timberlake video with 10 million views \n",
      "Son of a fucking bitch Im looking forward this video Have you been seen it yet \n",
      "fanjustingmailcom httpsallflimcom\n"
     ]
    }
   ],
   "source": [
    "#Kiểm tra clear_punctuation:\n",
    "print(\"Dữ liệu ban đầu: \\n\", text)\n",
    "print('-----------------------------------------------')\n",
    "\n",
    "text1 = clear_punctuation(text)\n",
    "print(\"Dữ liệu sau khi xử lý: \\n\", text1)"
   ]
  },
  {
   "cell_type": "code",
   "execution_count": null,
   "metadata": {},
   "outputs": [],
   "source": []
  },
  {
   "cell_type": "code",
   "execution_count": 17,
   "metadata": {
    "colab": {},
    "colab_type": "code",
    "id": "0QqSC2daXV41"
   },
   "outputs": [],
   "source": [
    "#Hàm clear_special loại bỏ các ký tự chỉ để lại các ký tự chữ a-z, A-Z\n",
    "def clear_special(st):\n",
    "    word = re.sub('[^a-zA-Z]', ' ', st)\n",
    "    return word"
   ]
  },
  {
   "cell_type": "code",
   "execution_count": 18,
   "metadata": {},
   "outputs": [
    {
     "name": "stdout",
     "output_type": "stream",
     "text": [
      "Dữ liệu ban đầu: \n",
      " \"SORRY JB FAN &#65292;REALLY JUSTIN COME BACK\". \n",
      "That's the top comment on a Justin Timberlake video with 10 million views. \n",
      "Son of a fucking bitch! I'm looking forward this video. Have you been seen it yet. \n",
      "fanjustin@gmail.com; https://allflim.com\n",
      "-----------------------------------------------\n",
      "Dữ liệu sau khi xử lý: \n",
      "  SORRY JB FAN         REALLY JUSTIN COME BACK    That s the top comment on a Justin Timberlake video with    million views   Son of a fucking bitch  I m looking forward this video  Have you been seen it yet   fanjustin gmail com  https   allflim com\n"
     ]
    }
   ],
   "source": [
    "#Kiểm tra clear_special:\n",
    "print(\"Dữ liệu ban đầu: \\n\", text)\n",
    "print('-----------------------------------------------')\n",
    "\n",
    "text1 = clear_special(text)\n",
    "print(\"Dữ liệu sau khi xử lý: \\n\", text1)"
   ]
  },
  {
   "cell_type": "code",
   "execution_count": null,
   "metadata": {},
   "outputs": [],
   "source": []
  },
  {
   "cell_type": "code",
   "execution_count": 19,
   "metadata": {
    "colab": {},
    "colab_type": "code",
    "id": "Hp_haEeNXbn8"
   },
   "outputs": [],
   "source": [
    "#Hàm clear_noise kết hợp sử dụng các hàm ở trên để xử lý chuỗi\n",
    "def clear_noise(word):\n",
    "    word = word.lower()         # chuyển toàn bộ sang chữ thường để xử lý\n",
    "    word = decontracted(word)\n",
    "    word = clear_link(word)\n",
    "    word = clear_punctuation(word)\n",
    "    word = clear_special(word)\n",
    "    return word"
   ]
  },
  {
   "cell_type": "code",
   "execution_count": 20,
   "metadata": {
    "colab": {
     "base_uri": "https://localhost:8080/",
     "height": 50
    },
    "colab_type": "code",
    "id": "FN33R8CIDWvO",
    "outputId": "19876ac0-999e-4133-a362-7559bf474f43"
   },
   "outputs": [
    {
     "name": "stdout",
     "output_type": "stream",
     "text": [
      "Dữ liệu ban đầu: \n",
      " \"SORRY JB FAN &#65292;REALLY JUSTIN COME BACK\". \n",
      "That is the top comment on a Justin Timberlake video with 10 million views. \n",
      "Son of a fucking bitch! I'm looking forward this video. Have you been seen it yet. \n",
      "fanjustin@gmail.com; https://allflim.com\n",
      "-----------------------------------------------\n",
      "Dữ liệu sau khi làm sạch: \n",
      " sorry jb fan      really justin come back  that is the top comment on a justin timberlake video with    million views  son of a fucking bitch i am looking forward this video have you been seen it yet   \n"
     ]
    }
   ],
   "source": [
    "#Kiểm tra clear_noise:\n",
    "text=\"\"\"\"SORRY JB FAN &#65292;REALLY JUSTIN COME BACK\". \n",
    "That is the top comment on a Justin Timberlake video with 10 million views. \n",
    "Son of a fucking bitch! I'm looking forward this video. Have you been seen it yet. \n",
    "fanjustin@gmail.com; https://allflim.com\"\"\"\n",
    "\n",
    "print(\"Dữ liệu ban đầu: \\n\", text)\n",
    "print('-----------------------------------------------')\n",
    "text1 = clear_noise(text)\n",
    "print(\"Dữ liệu sau khi làm sạch: \\n\", clear_noise(text1))"
   ]
  },
  {
   "cell_type": "code",
   "execution_count": null,
   "metadata": {},
   "outputs": [],
   "source": []
  },
  {
   "cell_type": "markdown",
   "metadata": {
    "colab_type": "text",
    "id": "SDwf8ElpbloG"
   },
   "source": [
    "### 3.3.2) Loại bỏ stopword\n",
    "---\n",
    "\n",
    "StopWords là những từ xuất hiện nhiều trong ngôn ngữ tự nhiên, tuy nhiên lại không mang nhiều ý nghĩa. Ở tiếng việt StopWords là những từ như: để, này, kia... Tiếng anh là những từ như: is, that, this... Tham khảo thêm tại danh sách stopwords trong tiếng việt\n",
    "\n",
    "Có rất nhiều cách để loại bỏ StopWords nhưng có 2 cách chính là:\n",
    "\n",
    "* Dùng từ điển\n",
    "\n",
    "* Dựa theo tần suất xuất hiện của từ"
   ]
  },
  {
   "cell_type": "code",
   "execution_count": 21,
   "metadata": {
    "colab": {
     "base_uri": "https://localhost:8080/",
     "height": 50
    },
    "colab_type": "code",
    "id": "Ji4XxzOipK1a",
    "outputId": "47b305ea-f1f1-4693-b146-4766b92c29d5"
   },
   "outputs": [],
   "source": [
    "#stopwords là những từ xuất hiện nhiều trong văn bản, nhưng ko có ý nghĩa \n",
    "#Load danh sách Stopword trong tiếng anh\n",
    "\n",
    "# nltk.download('stopwords')\n",
    "from nltk.corpus import stopwords\n",
    "stop = stopwords.words('english')"
   ]
  },
  {
   "cell_type": "code",
   "execution_count": 22,
   "metadata": {
    "colab": {
     "base_uri": "https://localhost:8080/",
     "height": 54
    },
    "colab_type": "code",
    "id": "vMavhhICna57",
    "outputId": "9c066ae6-a12e-4ccf-fd6a-af08188fcada",
    "scrolled": true
   },
   "outputs": [
    {
     "name": "stdout",
     "output_type": "stream",
     "text": [
      "Hiển thị danh sách các stopwords trong tiếng anh:\n",
      " ['i', 'me', 'my', 'myself', 'we', 'our', 'ours', 'ourselves', 'you', \"you're\", \"you've\", \"you'll\", \"you'd\", 'your', 'yours', 'yourself', 'yourselves', 'he', 'him', 'his', 'himself', 'she', \"she's\", 'her', 'hers', 'herself', 'it', \"it's\", 'its', 'itself', 'they', 'them', 'their', 'theirs', 'themselves', 'what', 'which', 'who', 'whom', 'this', 'that', \"that'll\", 'these', 'those', 'am', 'is', 'are', 'was', 'were', 'be', 'been', 'being', 'have', 'has', 'had', 'having', 'do', 'does', 'did', 'doing', 'a', 'an', 'the', 'and', 'but', 'if', 'or', 'because', 'as', 'until', 'while', 'of', 'at', 'by', 'for', 'with', 'about', 'against', 'between', 'into', 'through', 'during', 'before', 'after', 'above', 'below', 'to', 'from', 'up', 'down', 'in', 'out', 'on', 'off', 'over', 'under', 'again', 'further', 'then', 'once', 'here', 'there', 'when', 'where', 'why', 'how', 'all', 'any', 'both', 'each', 'few', 'more', 'most', 'other', 'some', 'such', 'no', 'nor', 'not', 'only', 'own', 'same', 'so', 'than', 'too', 'very', 's', 't', 'can', 'will', 'just', 'don', \"don't\", 'should', \"should've\", 'now', 'd', 'll', 'm', 'o', 're', 've', 'y', 'ain', 'aren', \"aren't\", 'couldn', \"couldn't\", 'didn', \"didn't\", 'doesn', \"doesn't\", 'hadn', \"hadn't\", 'hasn', \"hasn't\", 'haven', \"haven't\", 'isn', \"isn't\", 'ma', 'mightn', \"mightn't\", 'mustn', \"mustn't\", 'needn', \"needn't\", 'shan', \"shan't\", 'shouldn', \"shouldn't\", 'wasn', \"wasn't\", 'weren', \"weren't\", 'won', \"won't\", 'wouldn', \"wouldn't\"]\n"
     ]
    }
   ],
   "source": [
    "#Hiển thị danh sách các stopwords trong tiếng anh\n",
    "print('Hiển thị danh sách các stopwords trong tiếng anh:\\n',stop)"
   ]
  },
  {
   "cell_type": "code",
   "execution_count": 23,
   "metadata": {
    "colab": {},
    "colab_type": "code",
    "id": "427fDeFnnqMI"
   },
   "outputs": [],
   "source": [
    "#hàm clear_stopwords lọai bỏ các từ stopword trong câu\n",
    "def clear_stopwords(st):\n",
    "    word = \" \".join(st for st in st.split() if st not in stop)\n",
    "    return word"
   ]
  },
  {
   "cell_type": "code",
   "execution_count": 24,
   "metadata": {
    "colab": {
     "base_uri": "https://localhost:8080/",
     "height": 50
    },
    "colab_type": "code",
    "id": "SWJrRRWMoUCl",
    "outputId": "05e57fad-2d3c-4bf3-c919-5da320731084"
   },
   "outputs": [
    {
     "name": "stdout",
     "output_type": "stream",
     "text": [
      "Dữ liệu ban đầu: \n",
      " sorry jb fan      really justin come back  that is the top comment on a justin timberlake video with    million views  son of a fucking bitch i am looking forward this video have you been seen it yet   \n",
      "-------------------------------------\n",
      "Dữ liệu loại bỏ stopwords:\n",
      " sorry jb fan really justin come back top comment justin timberlake video million views son fucking bitch looking forward video seen yet\n"
     ]
    }
   ],
   "source": [
    "print('Dữ liệu ban đầu: \\n',text1)\n",
    "print('-------------------------------------')\n",
    "text2 = clear_stopwords(text1)\n",
    "print('Dữ liệu loại bỏ stopwords:\\n',text2)"
   ]
  },
  {
   "cell_type": "code",
   "execution_count": null,
   "metadata": {},
   "outputs": [],
   "source": []
  },
  {
   "cell_type": "markdown",
   "metadata": {
    "colab_type": "text",
    "id": "y_ue2I8nh1VH"
   },
   "source": [
    "### 3.3.3) Chuẩn hóa từ (Stemming và Lemmatization)\n",
    "---\n",
    "Trong quá trình xử lý ngôn ngữ tự nhiên, chúng ta sẽ có nhu cầu so sánh các từ (token) với nhau. Việc so sánh này tưởng chừng như đơn giản là lấy 2 chuỗi ký tự và dùng phép “==” để kiểm tra, nhưng thực tế thì không phải là như vậy. Đối với một số ngôn ngữ, tiêu biểu là tiếng Anh, mỗi từ có thể có nhiều biến thể khác nhau. Điều này làm cho việc so sánh giữa các từ là không thể mặc dù về mặc ý nghĩa cơ bản là như nhau. Ví dụ các từ “walks“, “walking“, “walked” đều là các biến thể của từ “walk” và đều mang ý nghĩa là “đi bộ”. Vậy làm sao để so sánh các từ như thế với nhau? Lemmatization và Stemming chính là 2 kỹ thuật thường được dùng cho việc này.\n",
    "\n",
    "Stemming là kỹ thuật dùng để biến đổi 1 từ về dạng gốc (được gọi là stem hoặc root form) bằng cách cực kỳ đơn giản là loại bỏ 1 số ký tự nằm ở cuối từ mà nó nghĩ rằng là biến thể của từ. Ví dụ như chúng ta thấy các từ như walked, walking, walks chỉ khác nhau là ở những ký tự cuối cùng, bằng cách bỏ đi các hậu tố –ed, –ing hoặc –s, chúng ta sẽ được từ nguyên gốc là walk. Người ta gọi các bộ xử lý stemming là Stemmer.\n",
    "\n",
    "Bởi vì nguyên tắc hoạt động của stemmer rất là đơn giản như vậy cho nên tốc độ xử lý của nó rất là nhanh, và kết quả stem đôi khi không được như chúng ta mong muốn. Chẳng hạn như từ goes sẽ được stem thành từ goe (bỏ chữ s cuối từ) trong khi đó stem của từ go vẫn là go, kết quả là 2 từ “goes” và “go” sau khi được stem thì vẫn không giống nhau. Một nhược điểm khác là nếu các từ dạng bất quy tắt như went hay spoke thì stemmer sẽ không thể đưa các từ này về dạng gốc là go hay speak.\n",
    "\n",
    "Tuy có các nhược điểm như trên nhưng trong thực tế Stemming vẫn được sử dụng khá phổ biến trong NLP vì nó có tốc độ xử lý nhanh và kết quả cuối cùng nhìn chung không hề tệ khi so với Lemmatization."
   ]
  },
  {
   "cell_type": "code",
   "execution_count": null,
   "metadata": {},
   "outputs": [],
   "source": []
  },
  {
   "cell_type": "code",
   "execution_count": 25,
   "metadata": {
    "colab": {},
    "colab_type": "code",
    "id": "4a7qdK1KjHpA"
   },
   "outputs": [],
   "source": [
    "from nltk.stem import WordNetLemmatizer\n",
    "wn = WordNetLemmatizer()\n",
    "import string\n",
    "my_sw = ['rt', 'ht', 'fb', 'amp', 'gt']\n",
    "\n",
    "def black_txt(token):\n",
    "    if token == 'u':\n",
    "        token = 'you'\n",
    "    return  token not in stop and token not in list(string.punctuation) and token not in my_sw\n",
    "\n",
    "\n",
    "def fun_stemlem(word):\n",
    "    list_word_clean = []\n",
    "    for w1 in word.split(\" \"):\n",
    "        if  black_txt(w1.lower()):\n",
    "            word_lemma =  wn.lemmatize(w1,  pos=\"v\")\n",
    "            list_word_clean.append(word_lemma)\n",
    "\n",
    "  #Cleaning, lowering and remove whitespaces\n",
    "    word = \" \".join(list_word_clean)\n",
    "    return word "
   ]
  },
  {
   "cell_type": "code",
   "execution_count": 26,
   "metadata": {},
   "outputs": [
    {
     "name": "stdout",
     "output_type": "stream",
     "text": [
      "Dữ liệu ban đầu: \n",
      " sorry jb fan really justin come back top comment justin timberlake video million views son fucking bitch looking forward video seen yet\n",
      "-------------------------------------\n",
      "Dữ liệu sau khi đã chuẩn hóa:\n",
      " sorry jb fan really justin come back top comment justin timberlake video million view son fuck bitch look forward video see yet\n"
     ]
    }
   ],
   "source": [
    "print('Dữ liệu ban đầu: \\n',text2)\n",
    "print('-------------------------------------')\n",
    "text3 = fun_stemlem(text2)\n",
    "print('Dữ liệu sau khi đã chuẩn hóa:\\n',text3)"
   ]
  },
  {
   "cell_type": "code",
   "execution_count": 27,
   "metadata": {
    "colab": {
     "base_uri": "https://localhost:8080/",
     "height": 54
    },
    "colab_type": "code",
    "id": "f3spT140lfz-",
    "outputId": "843bef10-30b0-4f66-a4fa-3cd1c3d1bab8"
   },
   "outputs": [
    {
     "data": {
      "text/plain": [
       "'&amp; my sister is really going to fucken deny it but yet sprays the room with febreeze , like really bitch why are you going to deny it'"
      ]
     },
     "execution_count": 27,
     "metadata": {},
     "output_type": "execute_result"
    }
   ],
   "source": [
    "#Ví dụ một comment trong data:\n",
    "st1 = data.iloc[2000]['tweet']\n",
    "st1"
   ]
  },
  {
   "cell_type": "code",
   "execution_count": 28,
   "metadata": {
    "colab": {
     "base_uri": "https://localhost:8080/",
     "height": 54
    },
    "colab_type": "code",
    "id": "ozS-E8nojxD2",
    "outputId": "433896df-e455-4519-d4b8-2e04d624635a"
   },
   "outputs": [
    {
     "name": "stdout",
     "output_type": "stream",
     "text": [
      "1.----------Chuỗi ban đầu------------------------:\n",
      "  &amp; my sister is really going to fucken deny it but yet sprays the room with febreeze , like really bitch why are you going to deny it\n",
      "\n",
      " 2.----------Chuỗi loại bỏ nhiễu:-----------------:\n",
      " amp my sister is really going to fucken deny it but yet sprays the room with febreeze  like really bitch why are you going to deny it\n",
      "\n",
      " 3.----------Chuỗi loại bỏ stopwords--------------:\n",
      " amp sister really going fucken deny yet sprays room febreeze like really bitch going deny\n",
      "\n",
      " 4.--Chuỗi loại xử lý Stemming và Lemmatization---:\n",
      " sister really go fucken deny yet spray room febreeze like really bitch go deny\n"
     ]
    }
   ],
   "source": [
    "print('1.----------Chuỗi ban đầu------------------------:\\n ', st1)\n",
    "sta = clear_noise(st1)\n",
    "print('\\n 2.----------Chuỗi loại bỏ nhiễu:-----------------:\\n',sta)\n",
    "stb = clear_stopwords(sta)\n",
    "print('\\n 3.----------Chuỗi loại bỏ stopwords--------------:\\n',stb)\n",
    "stc = fun_stemlem(stb)\n",
    "print('\\n 4.--Chuỗi loại xử lý Stemming và Lemmatization---:\\n',stc)   "
   ]
  },
  {
   "cell_type": "markdown",
   "metadata": {
    "colab_type": "text",
    "id": "0emrSyAVnRXL"
   },
   "source": [
    "### 3.3.4) Tiền Xử lý toàn bộ tập dữ liệu với các hàm đã xây dựng\n",
    "---\n"
   ]
  },
  {
   "cell_type": "code",
   "execution_count": 29,
   "metadata": {
    "colab": {},
    "colab_type": "code",
    "id": "suNXjcecnYuY"
   },
   "outputs": [],
   "source": [
    "#Xây dựng hàm prepare_data: để thực hiện tiền xử lý dữ liệu\n",
    "def prepare_data(word):\n",
    "    word = clear_noise(word)        #Loại bỏ nhiễu trong các comment\n",
    "    word = clear_stopwords(word)    #Loại bỏ stopword trong các comment\n",
    "    word = fun_stemlem(word)        #Chuẩn hóa comment\n",
    "    return word"
   ]
  },
  {
   "cell_type": "code",
   "execution_count": 30,
   "metadata": {
    "colab": {
     "base_uri": "https://localhost:8080/",
     "height": 306
    },
    "colab_type": "code",
    "id": "V5GNdQJXnw9u",
    "outputId": "5b963ed3-3d6d-4b97-8a7b-3011b8b3f3b0"
   },
   "outputs": [
    {
     "name": "stdout",
     "output_type": "stream",
     "text": [
      "6095 \n",
      " a.Dữ liệu gốc          : @hidalgoparadise lol its #hoe bitch ass \n",
      " b.Dữ liệu sau chuẩn hóa: lol hoe bitch ass\n",
      "************\n",
      "6096 \n",
      " a.Dữ liệu gốc          : @hiyathanda_alps \"that hoe over there\" \n",
      " b.Dữ liệu sau chuẩn hóa: hoe\n",
      "************\n",
      "6097 \n",
      " a.Dữ liệu gốc          : @hmianturner boooooi that's TMI for these hoes \n",
      " b.Dữ liệu sau chuẩn hóa: boooooi tmi hoe\n",
      "************\n",
      "6098 \n",
      " a.Dữ liệu gốc          : @hoes &#9829; \n",
      " b.Dữ liệu sau chuẩn hóa: \n",
      "************\n",
      "6099 \n",
      " a.Dữ liệu gốc          : @holmes0786 only if its yellow cake &amp; chocolate frosting \n",
      " b.Dữ liệu sau chuẩn hóa: yellow cake chocolate frost\n",
      "************\n"
     ]
    }
   ],
   "source": [
    "#Hiển thị danh sách các từ trước và sau khi tiền xử lý để test\n",
    "for idx in data[6095:6100].index:\n",
    "    print(idx, \n",
    "        '\\n a.Dữ liệu gốc          :', data.iloc[idx]['tweet'],\n",
    "        '\\n b.Dữ liệu sau chuẩn hóa:',prepare_data(data.iloc[idx]['tweet']))\n",
    "    print(\"************\")"
   ]
  },
  {
   "cell_type": "code",
   "execution_count": 31,
   "metadata": {
    "colab": {},
    "colab_type": "code",
    "id": "d8fCL6WuCRKE"
   },
   "outputs": [],
   "source": [
    "#Tạo dataframe data_new, bổ sung thêm field: tweet_ok là comment đã được tiền xử lý dữ liệu tương ứng\n",
    "data_new = data.copy()\n",
    "data_new['tweet_ok'] = data['tweet'].apply(lambda x: prepare_data(x))"
   ]
  },
  {
   "cell_type": "code",
   "execution_count": 32,
   "metadata": {
    "colab": {
     "base_uri": "https://localhost:8080/",
     "height": 343
    },
    "colab_type": "code",
    "id": "NMM8hRwyCWjd",
    "outputId": "e58f59fa-31ca-4c14-e197-c644518227ed"
   },
   "outputs": [
    {
     "data": {
      "text/html": [
       "<div>\n",
       "<style scoped>\n",
       "    .dataframe tbody tr th:only-of-type {\n",
       "        vertical-align: middle;\n",
       "    }\n",
       "\n",
       "    .dataframe tbody tr th {\n",
       "        vertical-align: top;\n",
       "    }\n",
       "\n",
       "    .dataframe thead th {\n",
       "        text-align: right;\n",
       "    }\n",
       "</style>\n",
       "<table border=\"1\" class=\"dataframe\">\n",
       "  <thead>\n",
       "    <tr style=\"text-align: right;\">\n",
       "      <th></th>\n",
       "      <th>class</th>\n",
       "      <th>tweet</th>\n",
       "      <th>tweet_ok</th>\n",
       "    </tr>\n",
       "  </thead>\n",
       "  <tbody>\n",
       "    <tr>\n",
       "      <th>0</th>\n",
       "      <td>0</td>\n",
       "      <td>!!! RT @mayasolovely: As a woman you shouldn't...</td>\n",
       "      <td>woman complain clean house man always take trash</td>\n",
       "    </tr>\n",
       "    <tr>\n",
       "      <th>1</th>\n",
       "      <td>1</td>\n",
       "      <td>!!!!! RT @mleew17: boy dats cold...tyga dwn ba...</td>\n",
       "      <td>boy dats dwn bad cuffin dat hoe st place</td>\n",
       "    </tr>\n",
       "    <tr>\n",
       "      <th>2</th>\n",
       "      <td>1</td>\n",
       "      <td>!!!!!!! RT @UrKindOfBrand Dawg!!!! RT @80sbaby...</td>\n",
       "      <td>dawg ever fuck bitch start cry confuse shit</td>\n",
       "    </tr>\n",
       "    <tr>\n",
       "      <th>3</th>\n",
       "      <td>1</td>\n",
       "      <td>!!!!!!!!! RT @C_G_Anderson: @viva_based she lo...</td>\n",
       "      <td>look like tranny</td>\n",
       "    </tr>\n",
       "    <tr>\n",
       "      <th>4</th>\n",
       "      <td>1</td>\n",
       "      <td>!!!!!!!!!!!!! RT @ShenikaRoberts: The shit you...</td>\n",
       "      <td>shit hear might true might faker bitch tell ya</td>\n",
       "    </tr>\n",
       "    <tr>\n",
       "      <th>5</th>\n",
       "      <td>1</td>\n",
       "      <td>!!!!!!!!!!!!!!!!!!\"@T_Madison_x: The shit just...</td>\n",
       "      <td>shit blow faithful somebody still fuck hoe</td>\n",
       "    </tr>\n",
       "    <tr>\n",
       "      <th>6</th>\n",
       "      <td>1</td>\n",
       "      <td>!!!!!!\"@__BrighterDays: I can not just sit up ...</td>\n",
       "      <td>sit hate another bitch get much shit go</td>\n",
       "    </tr>\n",
       "    <tr>\n",
       "      <th>7</th>\n",
       "      <td>1</td>\n",
       "      <td>!!!!&amp;#8220;@selfiequeenbri: cause I'm tired of...</td>\n",
       "      <td>cause tire big bitch come us skinny girls</td>\n",
       "    </tr>\n",
       "    <tr>\n",
       "      <th>8</th>\n",
       "      <td>1</td>\n",
       "      <td>\" &amp;amp; you might not get ya bitch back &amp;amp; ...</td>\n",
       "      <td>might get ya bitch back thats</td>\n",
       "    </tr>\n",
       "    <tr>\n",
       "      <th>9</th>\n",
       "      <td>1</td>\n",
       "      <td>\" @rhythmixx_ :hobbies include: fighting Maria...</td>\n",
       "      <td>hobbies include fight mariam bitch</td>\n",
       "    </tr>\n",
       "  </tbody>\n",
       "</table>\n",
       "</div>"
      ],
      "text/plain": [
       "   class                                              tweet  \\\n",
       "0      0  !!! RT @mayasolovely: As a woman you shouldn't...   \n",
       "1      1  !!!!! RT @mleew17: boy dats cold...tyga dwn ba...   \n",
       "2      1  !!!!!!! RT @UrKindOfBrand Dawg!!!! RT @80sbaby...   \n",
       "3      1  !!!!!!!!! RT @C_G_Anderson: @viva_based she lo...   \n",
       "4      1  !!!!!!!!!!!!! RT @ShenikaRoberts: The shit you...   \n",
       "5      1  !!!!!!!!!!!!!!!!!!\"@T_Madison_x: The shit just...   \n",
       "6      1  !!!!!!\"@__BrighterDays: I can not just sit up ...   \n",
       "7      1  !!!!&#8220;@selfiequeenbri: cause I'm tired of...   \n",
       "8      1  \" &amp; you might not get ya bitch back &amp; ...   \n",
       "9      1  \" @rhythmixx_ :hobbies include: fighting Maria...   \n",
       "\n",
       "                                           tweet_ok  \n",
       "0  woman complain clean house man always take trash  \n",
       "1          boy dats dwn bad cuffin dat hoe st place  \n",
       "2       dawg ever fuck bitch start cry confuse shit  \n",
       "3                                  look like tranny  \n",
       "4    shit hear might true might faker bitch tell ya  \n",
       "5        shit blow faithful somebody still fuck hoe  \n",
       "6           sit hate another bitch get much shit go  \n",
       "7         cause tire big bitch come us skinny girls  \n",
       "8                     might get ya bitch back thats  \n",
       "9                hobbies include fight mariam bitch  "
      ]
     },
     "execution_count": 32,
     "metadata": {},
     "output_type": "execute_result"
    }
   ],
   "source": [
    "data_new.head(10)"
   ]
  },
  {
   "cell_type": "markdown",
   "metadata": {
    "colab_type": "text",
    "id": "M-pcUag9oDwE"
   },
   "source": [
    "### lọc và loại bỏ một số comment rỗng sau chuẩn hóa:\n",
    "---\n",
    "Sau khi thực hiện tiền xử lý, một số comment chỉ còn lại xâu rỗng, cần loại bỏ những xâu này\n"
   ]
  },
  {
   "cell_type": "code",
   "execution_count": 33,
   "metadata": {},
   "outputs": [
    {
     "name": "stdout",
     "output_type": "stream",
     "text": [
      "<class 'pandas.core.frame.DataFrame'>\n",
      "Int64Index: 54271 entries, 0 to 56699\n",
      "Data columns (total 3 columns):\n",
      " #   Column    Non-Null Count  Dtype \n",
      "---  ------    --------------  ----- \n",
      " 0   class     54271 non-null  int64 \n",
      " 1   tweet     54271 non-null  object\n",
      " 2   tweet_ok  54271 non-null  object\n",
      "dtypes: int64(1), object(2)\n",
      "memory usage: 1.7+ MB\n"
     ]
    }
   ],
   "source": [
    "data_new.info()"
   ]
  },
  {
   "cell_type": "code",
   "execution_count": 34,
   "metadata": {},
   "outputs": [
    {
     "name": "stdout",
     "output_type": "stream",
     "text": [
      "Tổng số: 43\n"
     ]
    },
    {
     "data": {
      "text/html": [
       "<div>\n",
       "<style scoped>\n",
       "    .dataframe tbody tr th:only-of-type {\n",
       "        vertical-align: middle;\n",
       "    }\n",
       "\n",
       "    .dataframe tbody tr th {\n",
       "        vertical-align: top;\n",
       "    }\n",
       "\n",
       "    .dataframe thead th {\n",
       "        text-align: right;\n",
       "    }\n",
       "</style>\n",
       "<table border=\"1\" class=\"dataframe\">\n",
       "  <thead>\n",
       "    <tr style=\"text-align: right;\">\n",
       "      <th></th>\n",
       "      <th>class</th>\n",
       "      <th>tweet</th>\n",
       "      <th>tweet_ok</th>\n",
       "    </tr>\n",
       "  </thead>\n",
       "  <tbody>\n",
       "    <tr>\n",
       "      <th>2637</th>\n",
       "      <td>1</td>\n",
       "      <td>@BloodOfJupiter yeah...bitch!</td>\n",
       "      <td></td>\n",
       "    </tr>\n",
       "    <tr>\n",
       "      <th>4828</th>\n",
       "      <td>0</td>\n",
       "      <td>@TNKidsFoodPorn @Oreo ..............&amp;#128530;</td>\n",
       "      <td></td>\n",
       "    </tr>\n",
       "    <tr>\n",
       "      <th>6098</th>\n",
       "      <td>1</td>\n",
       "      <td>@hoes &amp;#9829;</td>\n",
       "      <td></td>\n",
       "    </tr>\n",
       "    <tr>\n",
       "      <th>6613</th>\n",
       "      <td>1</td>\n",
       "      <td>@maccabeez thanks...bitch.</td>\n",
       "      <td></td>\n",
       "    </tr>\n",
       "    <tr>\n",
       "      <th>25441</th>\n",
       "      <td>0</td>\n",
       "      <td>..feeling so #lonely..and  ..</td>\n",
       "      <td></td>\n",
       "    </tr>\n",
       "    <tr>\n",
       "      <th>26744</th>\n",
       "      <td>0</td>\n",
       "      <td>@user same ððð</td>\n",
       "      <td></td>\n",
       "    </tr>\n",
       "    <tr>\n",
       "      <th>28134</th>\n",
       "      <td>0</td>\n",
       "      <td>what i doð</td>\n",
       "      <td></td>\n",
       "    </tr>\n",
       "    <tr>\n",
       "      <th>28765</th>\n",
       "      <td>0</td>\n",
       "      <td>@user then why are you</td>\n",
       "      <td></td>\n",
       "    </tr>\n",
       "    <tr>\n",
       "      <th>29194</th>\n",
       "      <td>0</td>\n",
       "      <td>no 1 is up</td>\n",
       "      <td></td>\n",
       "    </tr>\n",
       "    <tr>\n",
       "      <th>29582</th>\n",
       "      <td>0</td>\n",
       "      <td>@user @user @user @user @user @user @user @us...</td>\n",
       "      <td></td>\n",
       "    </tr>\n",
       "    <tr>\n",
       "      <th>29811</th>\n",
       "      <td>0</td>\n",
       "      <td>@user as you should.</td>\n",
       "      <td></td>\n",
       "    </tr>\n",
       "    <tr>\n",
       "      <th>30018</th>\n",
       "      <td>0</td>\n",
       "      <td>@user @user @user @user @user @user @user @us...</td>\n",
       "      <td></td>\n",
       "    </tr>\n",
       "    <tr>\n",
       "      <th>30092</th>\n",
       "      <td>0</td>\n",
       "      <td>beð ð@user @user @user @user @user @user...</td>\n",
       "      <td></td>\n",
       "    </tr>\n",
       "    <tr>\n",
       "      <th>32005</th>\n",
       "      <td>0</td>\n",
       "      <td>be   with who you are!</td>\n",
       "      <td></td>\n",
       "    </tr>\n",
       "    <tr>\n",
       "      <th>32722</th>\n",
       "      <td>0</td>\n",
       "      <td>@user why you so   ðð</td>\n",
       "      <td></td>\n",
       "    </tr>\n",
       "    <tr>\n",
       "      <th>33817</th>\n",
       "      <td>0</td>\n",
       "      <td>@user very   ...</td>\n",
       "      <td></td>\n",
       "    </tr>\n",
       "    <tr>\n",
       "      <th>35244</th>\n",
       "      <td>0</td>\n",
       "      <td>out and about   ðâ¤ï¸</td>\n",
       "      <td></td>\n",
       "    </tr>\n",
       "    <tr>\n",
       "      <th>35585</th>\n",
       "      <td>0</td>\n",
       "      <td>@user   that you're</td>\n",
       "      <td></td>\n",
       "    </tr>\n",
       "    <tr>\n",
       "      <th>36369</th>\n",
       "      <td>0</td>\n",
       "      <td>@user and me?....</td>\n",
       "      <td></td>\n",
       "    </tr>\n",
       "    <tr>\n",
       "      <th>36432</th>\n",
       "      <td>0</td>\n",
       "      <td>this.legitimately made.me  ...</td>\n",
       "      <td></td>\n",
       "    </tr>\n",
       "    <tr>\n",
       "      <th>36635</th>\n",
       "      <td>1</td>\n",
       "      <td>@user no, we're not</td>\n",
       "      <td></td>\n",
       "    </tr>\n",
       "    <tr>\n",
       "      <th>36665</th>\n",
       "      <td>0</td>\n",
       "      <td>@user it's at $7.25</td>\n",
       "      <td></td>\n",
       "    </tr>\n",
       "    <tr>\n",
       "      <th>37821</th>\n",
       "      <td>0</td>\n",
       "      <td>why so   : d</td>\n",
       "      <td></td>\n",
       "    </tr>\n",
       "    <tr>\n",
       "      <th>38070</th>\n",
       "      <td>0</td>\n",
       "      <td>@user this is me</td>\n",
       "      <td></td>\n",
       "    </tr>\n",
       "    <tr>\n",
       "      <th>38631</th>\n",
       "      <td>0</td>\n",
       "      <td>@user beð ð@user @user @user @user @use...</td>\n",
       "      <td></td>\n",
       "    </tr>\n",
       "    <tr>\n",
       "      <th>38645</th>\n",
       "      <td>0</td>\n",
       "      <td>@user so   just</td>\n",
       "      <td></td>\n",
       "    </tr>\n",
       "    <tr>\n",
       "      <th>40217</th>\n",
       "      <td>0</td>\n",
       "      <td>ðð» that is all....</td>\n",
       "      <td></td>\n",
       "    </tr>\n",
       "    <tr>\n",
       "      <th>40277</th>\n",
       "      <td>0</td>\n",
       "      <td>@user @user me to!</td>\n",
       "      <td></td>\n",
       "    </tr>\n",
       "    <tr>\n",
       "      <th>40865</th>\n",
       "      <td>1</td>\n",
       "      <td>@user then what is it?</td>\n",
       "      <td></td>\n",
       "    </tr>\n",
       "    <tr>\n",
       "      <th>41033</th>\n",
       "      <td>0</td>\n",
       "      <td>as you should.</td>\n",
       "      <td></td>\n",
       "    </tr>\n",
       "    <tr>\n",
       "      <th>41103</th>\n",
       "      <td>0</td>\n",
       "      <td>@user @user ð very</td>\n",
       "      <td></td>\n",
       "    </tr>\n",
       "    <tr>\n",
       "      <th>42815</th>\n",
       "      <td>0</td>\n",
       "      <td>@user 1d won</td>\n",
       "      <td></td>\n",
       "    </tr>\n",
       "    <tr>\n",
       "      <th>42963</th>\n",
       "      <td>0</td>\n",
       "      <td>@user #be   with what u have !!</td>\n",
       "      <td></td>\n",
       "    </tr>\n",
       "    <tr>\n",
       "      <th>43868</th>\n",
       "      <td>0</td>\n",
       "      <td>@user @user  only 4 in 10?</td>\n",
       "      <td></td>\n",
       "    </tr>\n",
       "    <tr>\n",
       "      <th>45044</th>\n",
       "      <td>0</td>\n",
       "      <td>very very very</td>\n",
       "      <td></td>\n",
       "    </tr>\n",
       "    <tr>\n",
       "      <th>46753</th>\n",
       "      <td>0</td>\n",
       "      <td>@user not to me.</td>\n",
       "      <td></td>\n",
       "    </tr>\n",
       "    <tr>\n",
       "      <th>47492</th>\n",
       "      <td>0</td>\n",
       "      <td>i'm with you!</td>\n",
       "      <td></td>\n",
       "    </tr>\n",
       "    <tr>\n",
       "      <th>48297</th>\n",
       "      <td>0</td>\n",
       "      <td>it was in 2008</td>\n",
       "      <td></td>\n",
       "    </tr>\n",
       "    <tr>\n",
       "      <th>49450</th>\n",
       "      <td>0</td>\n",
       "      <td>@user that's  â¹ï¸</td>\n",
       "      <td></td>\n",
       "    </tr>\n",
       "    <tr>\n",
       "      <th>50412</th>\n",
       "      <td>1</td>\n",
       "      <td>you me too ððððð ð¹</td>\n",
       "      <td></td>\n",
       "    </tr>\n",
       "    <tr>\n",
       "      <th>53296</th>\n",
       "      <td>0</td>\n",
       "      <td>@user @user @user   to be here</td>\n",
       "      <td></td>\n",
       "    </tr>\n",
       "    <tr>\n",
       "      <th>54586</th>\n",
       "      <td>1</td>\n",
       "      <td>that's why ð</td>\n",
       "      <td></td>\n",
       "    </tr>\n",
       "    <tr>\n",
       "      <th>56564</th>\n",
       "      <td>0</td>\n",
       "      <td>we are too!</td>\n",
       "      <td></td>\n",
       "    </tr>\n",
       "  </tbody>\n",
       "</table>\n",
       "</div>"
      ],
      "text/plain": [
       "       class                                              tweet tweet_ok\n",
       "2637       1                      @BloodOfJupiter yeah...bitch!         \n",
       "4828       0      @TNKidsFoodPorn @Oreo ..............&#128530;         \n",
       "6098       1                                      @hoes &#9829;         \n",
       "6613       1                         @maccabeez thanks...bitch.         \n",
       "25441      0                      ..feeling so #lonely..and  ..         \n",
       "26744      0                           @user same ððð          \n",
       "28134      0                                     what i doð          \n",
       "28765      0                           @user then why are you           \n",
       "29194      0                                       no 1 is up           \n",
       "29582      0   @user @user @user @user @user @user @user @us...         \n",
       "29811      0                              @user as you should.          \n",
       "30018      0   @user @user @user @user @user @user @user @us...         \n",
       "30092      0  beð ð@user @user @user @user @user @user...         \n",
       "32005      0                            be   with who you are!          \n",
       "32722      0                        @user why you so   ðð         \n",
       "33817      0                                   @user very   ...         \n",
       "35244      0                        out and about   ðâ¤ï¸          \n",
       "35585      0                               @user   that you're          \n",
       "36369      0                                 @user and me?....          \n",
       "36432      0                    this.legitimately made.me  ...          \n",
       "36635      1                               @user no, we're not          \n",
       "36665      0                              @user it's at $7.25           \n",
       "37821      0                                      why so   : d          \n",
       "38070      0                                @user this is me            \n",
       "38631      0   @user beð ð@user @user @user @user @use...         \n",
       "38645      0                                   @user so   just          \n",
       "40217      0                          ðð» that is all....          \n",
       "40277      0                               @user @user me to!           \n",
       "40865      1                            @user then what is it?          \n",
       "41033      0                                    as you should.          \n",
       "41103      0                            @user @user ð very           \n",
       "42815      0                                    @user 1d won            \n",
       "42963      0                   @user #be   with what u have !!          \n",
       "43868      0                       @user @user  only 4 in 10?           \n",
       "45044      0                                  very very very            \n",
       "46753      0                                 @user not to me.           \n",
       "47492      0                                     i'm with you!          \n",
       "48297      0                                    it was in 2008          \n",
       "49450      0                               @user that's  â¹ï¸         \n",
       "50412      1               you me too ððððð ð¹          \n",
       "53296      0                     @user @user @user   to be here         \n",
       "54586      1                                   that's why ð          \n",
       "56564      0                                       we are too!          "
      ]
     },
     "execution_count": 34,
     "metadata": {},
     "output_type": "execute_result"
    }
   ],
   "source": [
    "#Lọc những comment sau khi xử lý chỉ còn là khoảng trắng\n",
    "print('Tổng số:',data_new['tweet_ok'].loc[data_new.tweet_ok==r''].count())\n",
    "data_new.loc[data_new.tweet_ok==r'']"
   ]
  },
  {
   "cell_type": "code",
   "execution_count": 35,
   "metadata": {},
   "outputs": [
    {
     "name": "stdout",
     "output_type": "stream",
     "text": [
      "<class 'pandas.core.frame.DataFrame'>\n",
      "Int64Index: 54228 entries, 0 to 56699\n",
      "Data columns (total 3 columns):\n",
      " #   Column    Non-Null Count  Dtype \n",
      "---  ------    --------------  ----- \n",
      " 0   class     54228 non-null  int64 \n",
      " 1   tweet     54228 non-null  object\n",
      " 2   tweet_ok  54228 non-null  object\n",
      "dtypes: int64(1), object(2)\n",
      "memory usage: 1.7+ MB\n"
     ]
    }
   ],
   "source": [
    "#Chỉ lấy các bản ghi có dữ liệu:\n",
    "data_ok = data_new.loc[data_new.tweet_ok!=r'']\n",
    "data_ok.info()"
   ]
  },
  {
   "cell_type": "markdown",
   "metadata": {},
   "source": [
    "### 3.3.5 Kiểm tra mức độ cân bằng của tập dữ liệu:\n",
    "---"
   ]
  },
  {
   "cell_type": "code",
   "execution_count": 36,
   "metadata": {
    "colab": {
     "base_uri": "https://localhost:8080/",
     "height": 168
    },
    "colab_type": "code",
    "id": "Dr_oamhB7lKg",
    "outputId": "36119260-018b-43b9-c0ce-dea3c9300c18"
   },
   "outputs": [
    {
     "name": "stdout",
     "output_type": "stream",
     "text": [
      "Thông kê tập dữ liệu:\n",
      "class       54228\n",
      "tweet       54228\n",
      "tweet_ok    54228\n",
      "dtype: int64\n",
      "-----------------------------------\n",
      "Thông kê số lượng comment theo lớp:\n",
      "0    31609\n",
      "1    22619\n",
      "Name: class, dtype: int64\n"
     ]
    }
   ],
   "source": [
    "#Kiểm tra mức độ cân bằng của tập dữ liệu\n",
    "print('Thông kê tập dữ liệu:')\n",
    "print(data_ok.count())\n",
    "print('-----------------------------------')\n",
    "print('Thông kê số lượng comment theo lớp:')\n",
    "x = data_ok['class'].value_counts()\n",
    "print(x)"
   ]
  },
  {
   "cell_type": "code",
   "execution_count": 37,
   "metadata": {
    "colab": {
     "base_uri": "https://localhost:8080/",
     "height": 298
    },
    "colab_type": "code",
    "id": "Fr3-HYPC7xpf",
    "outputId": "c2617795-0d71-47aa-d154-4acf4f7c8269"
   },
   "outputs": [
    {
     "data": {
      "image/png": "[encoded data removed]",
      "text/plain": [
       "<Figure size 1200x400 with 2 Axes>"
      ]
     },
     "metadata": {},
     "output_type": "display_data"
    }
   ],
   "source": [
    "#Trực quan hóa số liệu\n",
    "import matplotlib.pyplot as plt\n",
    "label = ['0: Non Toxic', '1: Toxic']\n",
    "\n",
    "plt.figure(figsize=(12,4))\n",
    "plt.subplot(1,2,1)\n",
    "plt.suptitle('THÔNG KÊ SỐ LƯỢNG COMMENT ĐỘC (1) - KHÔNG ĐỘC (0)')\n",
    "plt.pie(x, labels=label, \n",
    "        autopct='%.2f%%', colors=['#1E77B4','#FF7F0F'])\n",
    "\n",
    "plt.subplot(1,2,2)\n",
    "plt.bar(label,x, color=['#1E77B4','#FF7F0F'])\n",
    "plt.grid(True)\n",
    "plt.show()\n",
    "\n",
    "# Tập dữ liệu cân bằng --> Không phải xử lý cân bằng"
   ]
  },
  {
   "cell_type": "markdown",
   "metadata": {
    "colab_type": "text",
    "id": "V755mg30h9OM"
   },
   "source": [
    "### 3.3.6) Lưu kết quả đã xử lý ra file\n",
    "---\n",
    "\n",
    "Lưu dữ liệu đã xử lý ra file:\n",
    "* File: data_all.csv (class - tweet - tweet_ok)\n",
    "* File: data_finish.csv (class - tweet)"
   ]
  },
  {
   "cell_type": "code",
   "execution_count": 38,
   "metadata": {
    "colab": {
     "base_uri": "https://localhost:8080/",
     "height": 134
    },
    "colab_type": "code",
    "id": "YRzweHXRePBz",
    "outputId": "1ffc0bb1-1c75-4c7d-cecf-6a4fb7e3fa7d",
    "scrolled": true
   },
   "outputs": [
    {
     "data": {
      "text/html": [
       "<div>\n",
       "<style scoped>\n",
       "    .dataframe tbody tr th:only-of-type {\n",
       "        vertical-align: middle;\n",
       "    }\n",
       "\n",
       "    .dataframe tbody tr th {\n",
       "        vertical-align: top;\n",
       "    }\n",
       "\n",
       "    .dataframe thead th {\n",
       "        text-align: right;\n",
       "    }\n",
       "</style>\n",
       "<table border=\"1\" class=\"dataframe\">\n",
       "  <thead>\n",
       "    <tr style=\"text-align: right;\">\n",
       "      <th></th>\n",
       "      <th>class</th>\n",
       "      <th>tweet</th>\n",
       "      <th>tweet_ok</th>\n",
       "    </tr>\n",
       "  </thead>\n",
       "  <tbody>\n",
       "    <tr>\n",
       "      <th>0</th>\n",
       "      <td>0</td>\n",
       "      <td>!!! RT @mayasolovely: As a woman you shouldn't...</td>\n",
       "      <td>woman complain clean house man always take trash</td>\n",
       "    </tr>\n",
       "    <tr>\n",
       "      <th>1</th>\n",
       "      <td>1</td>\n",
       "      <td>!!!!! RT @mleew17: boy dats cold...tyga dwn ba...</td>\n",
       "      <td>boy dats dwn bad cuffin dat hoe st place</td>\n",
       "    </tr>\n",
       "    <tr>\n",
       "      <th>2</th>\n",
       "      <td>1</td>\n",
       "      <td>!!!!!!! RT @UrKindOfBrand Dawg!!!! RT @80sbaby...</td>\n",
       "      <td>dawg ever fuck bitch start cry confuse shit</td>\n",
       "    </tr>\n",
       "    <tr>\n",
       "      <th>3</th>\n",
       "      <td>1</td>\n",
       "      <td>!!!!!!!!! RT @C_G_Anderson: @viva_based she lo...</td>\n",
       "      <td>look like tranny</td>\n",
       "    </tr>\n",
       "    <tr>\n",
       "      <th>4</th>\n",
       "      <td>1</td>\n",
       "      <td>!!!!!!!!!!!!! RT @ShenikaRoberts: The shit you...</td>\n",
       "      <td>shit hear might true might faker bitch tell ya</td>\n",
       "    </tr>\n",
       "  </tbody>\n",
       "</table>\n",
       "</div>"
      ],
      "text/plain": [
       "   class                                              tweet  \\\n",
       "0      0  !!! RT @mayasolovely: As a woman you shouldn't...   \n",
       "1      1  !!!!! RT @mleew17: boy dats cold...tyga dwn ba...   \n",
       "2      1  !!!!!!! RT @UrKindOfBrand Dawg!!!! RT @80sbaby...   \n",
       "3      1  !!!!!!!!! RT @C_G_Anderson: @viva_based she lo...   \n",
       "4      1  !!!!!!!!!!!!! RT @ShenikaRoberts: The shit you...   \n",
       "\n",
       "                                           tweet_ok  \n",
       "0  woman complain clean house man always take trash  \n",
       "1          boy dats dwn bad cuffin dat hoe st place  \n",
       "2       dawg ever fuck bitch start cry confuse shit  \n",
       "3                                  look like tranny  \n",
       "4    shit hear might true might faker bitch tell ya  "
      ]
     },
     "execution_count": 38,
     "metadata": {},
     "output_type": "execute_result"
    }
   ],
   "source": [
    "data_ok.head()"
   ]
  },
  {
   "cell_type": "code",
   "execution_count": 39,
   "metadata": {
    "colab": {},
    "colab_type": "code",
    "id": "4qxgrm3JFqiz"
   },
   "outputs": [],
   "source": [
    "#Lưu kết quả sau khi đã xử lý ra file .csv\n",
    "#File Data_all.csv Lưu trữ 3 thuộc tính: class - tweet (gốc) - tweet_ok (đã xử lý)\n",
    "data_ok.to_csv('Data/Data_all.csv',index=None, header=True)\n",
    "\n",
    "#File Data_finish.csv chỉ lưu trữ 2 thuộc tính: class - tweet_ok (đã xử lý)\n",
    "data_ok[['class','tweet_ok']].to_csv('Data/Data_finish.csv',index=None, header=True)"
   ]
  },
  {
   "cell_type": "markdown",
   "metadata": {
    "colab_type": "text",
    "id": "gW6npz32n7Xj"
   },
   "source": [
    "### 3.3.7) Phân tách Biến độc - Biến phụ thuộc\n",
    "---\n",
    "* Biến độc lập X: Thuộc tính tweet_ok (nội dung comment sau khi đã được xử lý)\n",
    "* Biến phụ thuộc y: class (cho biết comment đó là Toxic - Non toxic)"
   ]
  },
  {
   "cell_type": "code",
   "execution_count": 40,
   "metadata": {
    "colab": {},
    "colab_type": "code",
    "id": "hnqhVSMYQYxf"
   },
   "outputs": [
    {
     "data": {
      "text/html": [
       "<div>\n",
       "<style scoped>\n",
       "    .dataframe tbody tr th:only-of-type {\n",
       "        vertical-align: middle;\n",
       "    }\n",
       "\n",
       "    .dataframe tbody tr th {\n",
       "        vertical-align: top;\n",
       "    }\n",
       "\n",
       "    .dataframe thead th {\n",
       "        text-align: right;\n",
       "    }\n",
       "</style>\n",
       "<table border=\"1\" class=\"dataframe\">\n",
       "  <thead>\n",
       "    <tr style=\"text-align: right;\">\n",
       "      <th></th>\n",
       "      <th>class</th>\n",
       "      <th>tweet_ok</th>\n",
       "    </tr>\n",
       "  </thead>\n",
       "  <tbody>\n",
       "    <tr>\n",
       "      <th>0</th>\n",
       "      <td>0</td>\n",
       "      <td>woman complain clean house man always take trash</td>\n",
       "    </tr>\n",
       "    <tr>\n",
       "      <th>1</th>\n",
       "      <td>1</td>\n",
       "      <td>boy dats dwn bad cuffin dat hoe st place</td>\n",
       "    </tr>\n",
       "    <tr>\n",
       "      <th>2</th>\n",
       "      <td>1</td>\n",
       "      <td>dawg ever fuck bitch start cry confuse shit</td>\n",
       "    </tr>\n",
       "    <tr>\n",
       "      <th>3</th>\n",
       "      <td>1</td>\n",
       "      <td>look like tranny</td>\n",
       "    </tr>\n",
       "    <tr>\n",
       "      <th>4</th>\n",
       "      <td>1</td>\n",
       "      <td>shit hear might true might faker bitch tell ya</td>\n",
       "    </tr>\n",
       "    <tr>\n",
       "      <th>5</th>\n",
       "      <td>1</td>\n",
       "      <td>shit blow faithful somebody still fuck hoe</td>\n",
       "    </tr>\n",
       "    <tr>\n",
       "      <th>6</th>\n",
       "      <td>1</td>\n",
       "      <td>sit hate another bitch get much shit go</td>\n",
       "    </tr>\n",
       "    <tr>\n",
       "      <th>7</th>\n",
       "      <td>1</td>\n",
       "      <td>cause tire big bitch come us skinny girls</td>\n",
       "    </tr>\n",
       "    <tr>\n",
       "      <th>8</th>\n",
       "      <td>1</td>\n",
       "      <td>might get ya bitch back thats</td>\n",
       "    </tr>\n",
       "    <tr>\n",
       "      <th>9</th>\n",
       "      <td>1</td>\n",
       "      <td>hobbies include fight mariam bitch</td>\n",
       "    </tr>\n",
       "  </tbody>\n",
       "</table>\n",
       "</div>"
      ],
      "text/plain": [
       "   class                                          tweet_ok\n",
       "0      0  woman complain clean house man always take trash\n",
       "1      1          boy dats dwn bad cuffin dat hoe st place\n",
       "2      1       dawg ever fuck bitch start cry confuse shit\n",
       "3      1                                  look like tranny\n",
       "4      1    shit hear might true might faker bitch tell ya\n",
       "5      1        shit blow faithful somebody still fuck hoe\n",
       "6      1           sit hate another bitch get much shit go\n",
       "7      1         cause tire big bitch come us skinny girls\n",
       "8      1                     might get ya bitch back thats\n",
       "9      1                hobbies include fight mariam bitch"
      ]
     },
     "execution_count": 40,
     "metadata": {},
     "output_type": "execute_result"
    }
   ],
   "source": [
    "#Tải file dữ liệu sau khi đã tiền xử lý\n",
    "import pandas as pd\n",
    "data_finish = pd.read_csv('Data/data_finish.csv')\n",
    "data_finish.head(10)"
   ]
  },
  {
   "cell_type": "code",
   "execution_count": 41,
   "metadata": {},
   "outputs": [
    {
     "data": {
      "text/plain": [
       "0         woman complain clean house man always take trash\n",
       "1                 boy dats dwn bad cuffin dat hoe st place\n",
       "2              dawg ever fuck bitch start cry confuse shit\n",
       "3                                         look like tranny\n",
       "4           shit hear might true might faker bitch tell ya\n",
       "                               ...                        \n",
       "54223    could end without mention trump feminism photo...\n",
       "54224    chateaubriand stovells absolutely lovely food yum\n",
       "54225                              frarou woohoo euro kick\n",
       "54226    think lovely conversation guess debate people ...\n",
       "54227    happy tuesday feel fantastic today look forwar...\n",
       "Name: tweet_ok, Length: 54228, dtype: object"
      ]
     },
     "execution_count": 41,
     "metadata": {},
     "output_type": "execute_result"
    }
   ],
   "source": [
    "#Biến độc lập X:\n",
    "X = data_finish.loc[:,'tweet_ok']\n",
    "X"
   ]
  },
  {
   "cell_type": "code",
   "execution_count": 42,
   "metadata": {},
   "outputs": [
    {
     "data": {
      "text/plain": [
       "0        0\n",
       "1        1\n",
       "2        1\n",
       "3        1\n",
       "4        1\n",
       "        ..\n",
       "54223    1\n",
       "54224    0\n",
       "54225    0\n",
       "54226    0\n",
       "54227    0\n",
       "Name: class, Length: 54228, dtype: int64"
      ]
     },
     "execution_count": 42,
     "metadata": {},
     "output_type": "execute_result"
    }
   ],
   "source": [
    "#Biến phụ thuộc y:\n",
    "y = data_finish.loc[:,'class']\n",
    "y"
   ]
  },
  {
   "cell_type": "markdown",
   "metadata": {
    "colab_type": "text",
    "id": "ueATfcXLno68"
   },
   "source": [
    "### 3.3.8) Tách dữ liệu thành tập Train - Test\n",
    "---\n",
    "* Tập Train (80%) sử dụng để huấn luyện model\n",
    "* Tập Test (20%) sử dụng để kiểm thử độ chính xác của modoe\n"
   ]
  },
  {
   "cell_type": "code",
   "execution_count": 43,
   "metadata": {
    "colab": {
     "base_uri": "https://localhost:8080/",
     "height": 50
    },
    "colab_type": "code",
    "id": "CDhCUeXUJO7C",
    "outputId": "8611a9fd-f90a-44e7-9b8f-d97e96ff959b"
   },
   "outputs": [
    {
     "name": "stdout",
     "output_type": "stream",
     "text": [
      "1.Tập ban đầu: (54228, 2)\n",
      "-------------------------------\n",
      "a.Tập Train:  (43382,)\n",
      "b.Tập Test:  (10846,)\n"
     ]
    }
   ],
   "source": [
    "from sklearn.model_selection import train_test_split\n",
    "#Tách tập dữ liệu thành Train - Test (tỷ lệ: 0.8 - 0.2)\n",
    "X_train,X_test,y_train,y_test = train_test_split(X,y,\n",
    "                                                 test_size=0.2,\n",
    "                                                 shuffle=True,\n",
    "                                                 random_state=42)\n",
    "print('1.Tập ban đầu:',data_finish.shape)\n",
    "print('-------------------------------')\n",
    "print('a.Tập Train: ', X_train.shape)\n",
    "print('b.Tập Test: ', y_test.shape)"
   ]
  },
  {
   "cell_type": "markdown",
   "metadata": {
    "colab_type": "text",
    "id": "fZVO8i-IPmT3"
   },
   "source": [
    "## 4) Embedding TẬP DỮ LIỆU ĐÃ XỬ LÝ\n",
    "---\n",
    "Khi huấn luyện mô hình máy học để xử lý ngôn ngữ tự nhiên, thì chắc chắn dữ liệu bạn có ở dạng chữ viết, sự thật là bạn không thể đem trực tiếp dữ liệu chữ viết thô vào để huấn luyện mô hình máy học ngay được, bởi vì các mô hình máy học chỉ làm việc được trên những con số, hay chính xác hơn là tính toán trên các ma trận, véc-tơ số.\n",
    "\n",
    "Điều này dẫn đến việc bạn phải nghĩ cách làm thế nào đó để chuyển dữ liệu chữ viết thô thành dữ liệu số thực, sau đó mới có thể đưa dữ liệu số thực này vào các mô hình học được, có rất nhiều kĩ thuật để làm việc này và gọi chung chúng là kĩ thuật Embedding.\n",
    "\n",
    "Đó chỉ mới là ý tưởng của kĩ thuật Embedding, còn việc chuyển từ không gian này sang một không gian vec-tơ khác bạn không thể làm tùy tiện được mà phải đảm bảo:\n",
    "\n",
    "* Không gian véc-tơ mới (hay véc-tơ số thực) phải thể hiện được bản chất của tập dữ liệu ban đầu (dữ liệu chữ viết).\n",
    "* Cực tiểu hóa lượng mất mát thông tin xảy ra khi bạn chuyển sang không gian mới.\n",
    "\n",
    "Một số kĩ thuật Embedding được sử dụng phổ biến như mạng Neural Network, PCA (Principal Component Analysis) gọi là kĩ thuật phân tích thành phần chính, TF-IDF, Bag of Word, Encoder-Decoder sử dụng trong RNN (Recurrent Neural Network) hoặc LSTM (Long-Short Term Memory), ...v.v.\n",
    "\n",
    "Một số thư viện sử dụng kĩ thuật Embedding như sklearn, Word2vec, FastText, ...v.v."
   ]
  },
  {
   "cell_type": "markdown",
   "metadata": {
    "colab_type": "text",
    "id": "uvuIS6qQJVRZ"
   },
   "source": [
    "### 4.1) TF-IDF\n",
    "----\n",
    "Viết tắt của thuật ngữ tiếng Anh term frequency – inverse document frequency,tf-idf là trọng số của một từ trong văn bản thu được qua thống kê thể hiện mức độ quan trọng của từ này trong một văn bản, mà bản thân văn bản đang xét nằm trong một tập hợp các văn bản.\n",
    "\n",
    "**Các tính trọng số TF-IDF:**\n",
    "* Tf- term frequency : dùng để ước lượng tần xuất xuất hiện của từ trong văn bản. Tuy nhiên với mỗi văn bản thì có độ dài khác nhau, vì thế số lần xuất hiện của từ có thể nhiều hơn . Vì vậy số lần xuất hiện của từ sẽ được chia độ dài của văn bản (tổng số từ trong văn bản đó)\n",
    "\n",
    "    * TF(t, d) = (số lần từ t xuất hiện trong văn bản d) / (tổng số từ trong văn bản d)\n",
    "\n",
    "* IDF- Inverse Document Frequency: dùng để ước lượng mức độ quan trọng của từ đó như thế nào . Khi tính tần số xuất hiện tf thì các từ đều được coi là quan trọng như nhau. Tuy nhiên có một số từ thường được được sử dụng nhiều nhưng không quan trọng để thể hiện ý nghĩa của đoạn văn. Vì vậy ta cần giảm đi mức độ quan trọng của những từ đó bằng cách sử dụng IDF :\n",
    "\n",
    "    * IDF(t, D) = log_e( Tổng số văn bản trong tập mẫu D/ Số văn bản có chứa từ t )\n"
   ]
  },
  {
   "cell_type": "code",
   "execution_count": 44,
   "metadata": {},
   "outputs": [
    {
     "data": {
      "text/plain": [
       "['Cục ta cục tác', 'Gà mẹ tìm mồi', 'Sáng sớm tinh mơ', 'Đến khi choạng tối']"
      ]
     },
     "execution_count": 44,
     "metadata": {},
     "output_type": "execute_result"
    }
   ],
   "source": [
    "#Ví dụ chuyển đổi \n",
    "'''st = ['Công cha như núi thái sơn',\n",
    "     'Nghĩa mẹ như nước trong nguồn chảy ra',\n",
    "     'Một lòng thờ mẹ kính cha',\n",
    "     'Cho tròn chữ hiếu mới là đạo con']'''\n",
    "\n",
    "st = ['Cục ta cục tác',\n",
    "      'Gà mẹ tìm mồi',\n",
    "      'Sáng sớm tinh mơ',\n",
    "      'Đến khi choạng tối']\n",
    "st"
   ]
  },
  {
   "cell_type": "markdown",
   "metadata": {},
   "source": [
    "                    choạng - cục - gà - khi - mơ - mẹ - mồi - sáng - ta - tinh - tác - tìm - tối - đến\n",
    "   'cục ta cục tác' -->  0 -   0.816 - 0 - 0 -   0 - 0 -   0 -  0   - 0.408 - 0 - 0.408 - 0  -  0  -  0\n"
   ]
  },
  {
   "cell_type": "code",
   "execution_count": 45,
   "metadata": {},
   "outputs": [
    {
     "name": "stdout",
     "output_type": "stream",
     "text": [
      "(4, 15)\n"
     ]
    }
   ],
   "source": [
    "# Tính TF-IDF cho tập dữ liệu\n",
    "from sklearn.feature_extraction.text import TfidfVectorizer\n",
    "import sklearn.feature_extraction.text as text\n",
    "\n",
    "vec = TfidfVectorizer(lowercase=True)\n",
    "st_tfidf = vec.fit_transform(st)\n",
    "\n",
    "print(st_tfidf.shape)"
   ]
  },
  {
   "cell_type": "code",
   "execution_count": 46,
   "metadata": {},
   "outputs": [
    {
     "data": {
      "text/plain": [
       "<4x15 sparse matrix of type '<class 'numpy.float64'>'\n",
       "\twith 15 stored elements in Compressed Sparse Row format>"
      ]
     },
     "execution_count": 46,
     "metadata": {},
     "output_type": "execute_result"
    }
   ],
   "source": [
    "#Dữ liệu sau khi chuyển đổi ở dạng ma trận thưa, \n",
    "#mỗi hàng tương ứng với 1 câu\n",
    "#Mỗi cột tương ứng với trọng số của một từ trong câu, \n",
    "#từ nào không có trong câu đó, trọng số = 0\n",
    "st_tfidf"
   ]
  },
  {
   "cell_type": "code",
   "execution_count": 47,
   "metadata": {},
   "outputs": [
    {
     "name": "stdout",
     "output_type": "stream",
     "text": [
      "  (0, 11)\t0.408248290463863\n",
      "  (0, 9)\t0.408248290463863\n",
      "  (0, 1)\t0.816496580927726\n",
      "  (1, 6)\t0.5\n",
      "  (1, 12)\t0.5\n",
      "  (1, 5)\t0.5\n",
      "  (1, 2)\t0.5\n",
      "  (2, 4)\t0.5\n",
      "  (2, 10)\t0.5\n",
      "  (2, 8)\t0.5\n",
      "  (2, 7)\t0.5\n",
      "  (3, 13)\t0.5\n",
      "  (3, 0)\t0.5\n",
      "  (3, 3)\t0.5\n",
      "  (3, 14)\t0.5\n"
     ]
    }
   ],
   "source": [
    "print(st_tfidf)"
   ]
  },
  {
   "cell_type": "code",
   "execution_count": 48,
   "metadata": {},
   "outputs": [
    {
     "data": {
      "text/plain": [
       "{'cục': 1,\n",
       " 'ta': 9,\n",
       " 'tác': 11,\n",
       " 'gà': 2,\n",
       " 'mẹ': 5,\n",
       " 'tìm': 12,\n",
       " 'mồi': 6,\n",
       " 'sáng': 7,\n",
       " 'sớm': 8,\n",
       " 'tinh': 10,\n",
       " 'mơ': 4,\n",
       " 'đến': 14,\n",
       " 'khi': 3,\n",
       " 'choạng': 0,\n",
       " 'tối': 13}"
      ]
     },
     "execution_count": 48,
     "metadata": {},
     "output_type": "execute_result"
    }
   ],
   "source": [
    "#Liệt kê danh sách các từ khác nhau, vị trí trong cột\n",
    "vec.vocabulary_"
   ]
  },
  {
   "cell_type": "code",
   "execution_count": null,
   "metadata": {},
   "outputs": [],
   "source": []
  },
  {
   "cell_type": "code",
   "execution_count": null,
   "metadata": {},
   "outputs": [],
   "source": []
  },
  {
   "cell_type": "code",
   "execution_count": 49,
   "metadata": {
    "colab": {},
    "colab_type": "code",
    "id": "Xu-08BJvKDn5"
   },
   "outputs": [],
   "source": [
    "#Áp dụng cho tập dữ liệu comment:\n",
    "vector = TfidfVectorizer()\n",
    "\n",
    "vector.fit(data_finish['tweet_ok'])\n",
    "\n",
    "#Chuyển đổi tập Train - Test ra số:\n",
    "X_train_tfidf = vector.transform(X_train)\n",
    "X_test_tfidf = vector.transform(X_test)"
   ]
  },
  {
   "cell_type": "code",
   "execution_count": 50,
   "metadata": {},
   "outputs": [
    {
     "name": "stdout",
     "output_type": "stream",
     "text": [
      "1.Train: (43382, 45260)\n",
      "2.Test: (10846, 45260)\n"
     ]
    }
   ],
   "source": [
    "#Dữ liệu sau khi chuyển sang số với TF-IDF:\n",
    "print('1.Train:',X_train_tfidf.shape)\n",
    "print('2.Test:',X_test_tfidf.shape)"
   ]
  },
  {
   "cell_type": "code",
   "execution_count": 51,
   "metadata": {},
   "outputs": [
    {
     "data": {
      "text/plain": [
       "{'woman': 44012,\n",
       " 'complain': 7882,\n",
       " 'clean': 7320,\n",
       " 'house': 18329,\n",
       " 'man': 24232,\n",
       " 'always': 1090,\n",
       " 'take': 38638,\n",
       " 'trash': 40610,\n",
       " 'boy': 4921,\n",
       " 'dats': 9355,\n",
       " 'dwn': 11317,\n",
       " 'bad': 2703,\n",
       " 'cuffin': 8878,\n",
       " 'dat': 9335,\n",
       " 'hoe': 17904,\n",
       " 'st': 37232,\n",
       " 'place': 30554,\n",
       " 'dawg': 9388,\n",
       " 'ever': 12393,\n",
       " 'fuck': 14590,\n",
       " 'bitch': 4156,\n",
       " 'start': 37351,\n",
       " 'cry': 8809,\n",
       " 'confuse': 8028,\n",
       " 'shit': 35481,\n",
       " 'look': 23252,\n",
       " 'like': 22745,\n",
       " 'tranny': 40561,\n",
       " 'hear': 17385,\n",
       " 'might': 25255,\n",
       " 'true': 40849,\n",
       " 'faker': 12837,\n",
       " 'tell': 39089,\n",
       " 'ya': 44527,\n",
       " 'blow': 4476,\n",
       " 'faithful': 12822,\n",
       " 'somebody': 36645,\n",
       " 'still': 37531,\n",
       " 'sit': 35953,\n",
       " 'hate': 17178,\n",
       " 'another': 1582,\n",
       " 'get': 15314,\n",
       " 'much': 26239,\n",
       " 'go': 15731,\n",
       " 'cause': 6367,\n",
       " 'tire': 40075,\n",
       " 'big': 3903,\n",
       " 'come': 7737,\n",
       " 'us': 41841,\n",
       " 'skinny': 36032,\n",
       " 'girls': 15544,\n",
       " 'back': 2661,\n",
       " 'thats': 39329,\n",
       " 'hobbies': 17887,\n",
       " 'include': 19246,\n",
       " 'fight': 13433,\n",
       " 'mariam': 24405,\n",
       " 'keeks': 21214,\n",
       " 'curve': 8962,\n",
       " 'everyone': 12423,\n",
       " 'lol': 23163,\n",
       " 'walk': 42694,\n",
       " 'conversation': 8192,\n",
       " 'smh': 36300,\n",
       " 'murda': 26362,\n",
       " 'gang': 14988,\n",
       " 'land': 22020,\n",
       " 'smoke': 36347,\n",
       " 'losers': 23334,\n",
       " 'yea': 44650,\n",
       " 'ig': 18842,\n",
       " 'thing': 39685,\n",
       " 'nigga': 27495,\n",
       " 'miss': 25495,\n",
       " 'plz': 30720,\n",
       " 'whatever': 43395,\n",
       " 'love': 23394,\n",
       " 'cut': 8986,\n",
       " 'everyday': 12410,\n",
       " 'black': 4251,\n",
       " 'bottle': 4859,\n",
       " 'break': 5046,\n",
       " 'cant': 6044,\n",
       " 'nothing': 28010,\n",
       " 'cancel': 5992,\n",
       " 'nino': 27621,\n",
       " 'see': 34870,\n",
       " 'wont': 44071,\n",
       " 'change': 6624,\n",
       " 'dont': 10756,\n",
       " 'even': 12383,\n",
       " 'suck': 37951,\n",
       " 'dick': 10139,\n",
       " 'kermit': 21304,\n",
       " 'videos': 42288,\n",
       " 'bout': 4894,\n",
       " 'tip': 40070,\n",
       " 'toe': 40201,\n",
       " 'hardwood': 17096,\n",
       " 'floor': 13843,\n",
       " 'pussy': 31954,\n",
       " 'lips': 22890,\n",
       " 'heaven': 17412,\n",
       " 'doors': 10809,\n",
       " 'hit': 17844,\n",
       " 'meet': 24853,\n",
       " 'ocean': 28386,\n",
       " 'dr': 10940,\n",
       " 'give': 15582,\n",
       " 'pill': 30403,\n",
       " 'need': 26993,\n",
       " 'trippy': 40790,\n",
       " 'hennessy': 17554,\n",
       " 'spend': 36983,\n",
       " 'money': 25805,\n",
       " 'want': 42764,\n",
       " 'business': 5636,\n",
       " 'txt': 41225,\n",
       " 'old': 28567,\n",
       " 'new': 27180,\n",
       " 'wetter': 43340,\n",
       " 'would': 44251,\n",
       " 'say': 34535,\n",
       " 'im': 19044,\n",
       " 'excite': 12509,\n",
       " 'aint': 674,\n",
       " 'murder': 26363,\n",
       " 'game': 14953,\n",
       " 'shut': 35678,\n",
       " 'ai': 645,\n",
       " 'do': 10555,\n",
       " 'stink': 37554,\n",
       " 'bitter': 4215,\n",
       " 'wrap': 44298,\n",
       " 'angry': 1463,\n",
       " 'bird': 4108,\n",
       " 'theres': 39574,\n",
       " 'app': 1750,\n",
       " 'jus': 20947,\n",
       " 'son': 36686,\n",
       " 'mane': 24261,\n",
       " 'ass': 2125,\n",
       " 'shots': 35608,\n",
       " 'lam': 21985,\n",
       " 'tear': 38998,\n",
       " 'clown': 7451,\n",
       " 'snoop': 36450,\n",
       " 'momma': 25761,\n",
       " 'cat': 6303,\n",
       " 'inside': 19545,\n",
       " 'doghouse': 10622,\n",
       " 'hat': 17174,\n",
       " 'favorite': 13123,\n",
       " 'mw': 26499,\n",
       " 'sevenone': 35143,\n",
       " 'nice': 27433,\n",
       " 'make': 24092,\n",
       " 'naughty': 26893,\n",
       " 'yello': 44732,\n",
       " 'real': 32600,\n",
       " 'body': 4598,\n",
       " 'south': 36844,\n",
       " 'chick': 6863,\n",
       " 'em': 11792,\n",
       " 'thick': 39665,\n",
       " 'pimp': 30411,\n",
       " 'future': 14827,\n",
       " 'voice': 42491,\n",
       " 'post': 31079,\n",
       " 'picture': 30348,\n",
       " 'powerful': 31167,\n",
       " 'drug': 11099,\n",
       " 'happyhumpday': 17046,\n",
       " 'quick': 32139,\n",
       " 'piece': 30357,\n",
       " 'call': 5876,\n",
       " 'drive': 11057,\n",
       " 'run': 34038,\n",
       " 'round': 33916,\n",
       " 'brand': 5005,\n",
       " 'worst': 44238,\n",
       " 'send': 35029,\n",
       " 'guy': 16683,\n",
       " 'niggas': 27507,\n",
       " 'talk': 38676,\n",
       " 'trust': 40911,\n",
       " 'yall': 44576,\n",
       " 'cuff': 8877,\n",
       " 'never': 27144,\n",
       " 'dodge': 10581,\n",
       " 'bullet': 5510,\n",
       " 'da': 9065,\n",
       " 'pregnant': 31300,\n",
       " 'bind': 4079,\n",
       " 'god': 15768,\n",
       " 'young': 44926,\n",
       " 'chamberlain': 6597,\n",
       " 'music': 26396,\n",
       " 'teanna': 38992,\n",
       " 'trump': 40871,\n",
       " 'probably': 31504,\n",
       " 'cleaner': 7324,\n",
       " 'twitter': 41185,\n",
       " 'gay': 15076,\n",
       " 'could': 8394,\n",
       " 'wait': 42653,\n",
       " 'act': 243,\n",
       " 'tonight': 40288,\n",
       " 'ima': 19045,\n",
       " 'steal': 37439,\n",
       " 'replace': 33128,\n",
       " 'pitbull': 30501,\n",
       " 'tic': 39938,\n",
       " 'tacs': 38593,\n",
       " 'movie': 26115,\n",
       " 'wanna': 42754,\n",
       " 'model': 25676,\n",
       " 'russell': 34088,\n",
       " 'simmons': 35819,\n",
       " 'mind': 25374,\n",
       " 'school': 34639,\n",
       " 'deal': 9526,\n",
       " 'teachers': 38901,\n",
       " 'retweet': 33334,\n",
       " 'fag': 12788,\n",
       " 'females': 13310,\n",
       " 'think': 39700,\n",
       " 'date': 9346,\n",
       " 'cute': 8989,\n",
       " 'stuff': 37836,\n",
       " 'simplyaddictedtoguys': 35840,\n",
       " 'woof': 44095,\n",
       " 'hot': 18273,\n",
       " 'scally': 34564,\n",
       " 'lad': 21911,\n",
       " 'ask': 2086,\n",
       " 'kanye': 21085,\n",
       " 'yes': 44748,\n",
       " 'bring': 5165,\n",
       " 'ur': 41815,\n",
       " 'side': 35729,\n",
       " 'know': 21648,\n",
       " 'gf': 15391,\n",
       " 'friends': 14461,\n",
       " 'swear': 38414,\n",
       " 'sole': 36613,\n",
       " 'lemmie': 22415,\n",
       " 'eat': 11420,\n",
       " 'oreo': 28946,\n",
       " 'dish': 10380,\n",
       " 'one': 28668,\n",
       " 'maybe': 24658,\n",
       " 'better': 3777,\n",
       " 'red': 32770,\n",
       " 'malone': 24199,\n",
       " 'niggah': 27504,\n",
       " 'please': 30653,\n",
       " 'use': 41861,\n",
       " 'complete': 7891,\n",
       " 'sentence': 35055,\n",
       " 'eggplant': 11617,\n",
       " 'emoji': 11856,\n",
       " 'doey': 10598,\n",
       " 'scream': 34728,\n",
       " 'lmao': 23053,\n",
       " 'hennessey': 17553,\n",
       " 'venom': 42138,\n",
       " 'sexy': 35188,\n",
       " 'seh': 34907,\n",
       " 'shower': 35629,\n",
       " 'curtainahmesehwetnessltlmao': 8960,\n",
       " 'eaglesnation': 11356,\n",
       " 'every': 12402,\n",
       " 'eagle': 11354,\n",
       " 'pic': 30320,\n",
       " 'racist': 32237,\n",
       " 'yo': 44814,\n",
       " 'skateboard': 35996,\n",
       " 'wood': 44080,\n",
       " 'push': 31938,\n",
       " 'faggot': 12791,\n",
       " 'ball': 2829,\n",
       " 'life': 22647,\n",
       " 'baby': 2607,\n",
       " 'monkey': 25826,\n",
       " 'bathtime': 3104,\n",
       " 'awwwwe': 2517,\n",
       " 'soooo': 36737,\n",
       " 'adorable': 370,\n",
       " 'damn': 9202,\n",
       " 'skippy': 36040,\n",
       " 'kill': 21449,\n",
       " 'ant': 1601,\n",
       " 'sidewalk': 35741,\n",
       " 'way': 42938,\n",
       " 'pussyno': 31969,\n",
       " 'bs': 5369,\n",
       " 'must': 26444,\n",
       " 'chance': 6611,\n",
       " 'ring': 33532,\n",
       " 'mvps': 26498,\n",
       " 'ppl': 31184,\n",
       " 'ghettohood': 15413,\n",
       " 'kid': 21400,\n",
       " 'grow': 16473,\n",
       " 'funnnnnnn': 14771,\n",
       " 'facts': 12776,\n",
       " 'tattoo': 38809,\n",
       " 'nipples': 27632,\n",
       " 'cuteeeee': 8994,\n",
       " 'worship': 44236,\n",
       " 'wow': 44280,\n",
       " 'lose': 23328,\n",
       " 'buttcheek': 5690,\n",
       " 'pierce': 30364,\n",
       " 'yeah': 44660,\n",
       " 'ok': 28543,\n",
       " 'sis': 35926,\n",
       " 'rather': 32490,\n",
       " 'shrug': 35665,\n",
       " 'work': 44140,\n",
       " 'queer': 32119,\n",
       " 'gaywad': 15110,\n",
       " 'read': 32571,\n",
       " 'tweet': 41120,\n",
       " 'funny': 14772,\n",
       " 'ungrateful': 41573,\n",
       " 'fr': 14231,\n",
       " 'lulwhore': 23751,\n",
       " 'kidnap': 21410,\n",
       " 'alsarabsss': 1049,\n",
       " 'hes': 17622,\n",
       " 'beaner': 3259,\n",
       " 'mexican': 25119,\n",
       " 'happy': 17030,\n",
       " 'birthday': 4141,\n",
       " 'nigs': 27579,\n",
       " 'thank': 39274,\n",
       " 'teacher': 38897,\n",
       " 'homework': 18080,\n",
       " 'hell': 17492,\n",
       " 'john': 20717,\n",
       " 'paul': 29728,\n",
       " 'lil': 22786,\n",
       " 'ugly': 41335,\n",
       " 'bald': 2810,\n",
       " 'head': 17306,\n",
       " 'stop': 37609,\n",
       " 'makeup': 24124,\n",
       " 'weave': 43028,\n",
       " 'leaf': 22271,\n",
       " 'win': 43800,\n",
       " 'riot': 33546,\n",
       " 'earlychristmas': 11373,\n",
       " 'loot': 23303,\n",
       " 'nig': 27483,\n",
       " 'attend': 2275,\n",
       " 'year': 44671,\n",
       " 'food': 14007,\n",
       " 'car': 6131,\n",
       " 'retard': 33296,\n",
       " 'richnow': 33452,\n",
       " 'show': 35622,\n",
       " 'hella': 17493,\n",
       " 'tinder': 40048,\n",
       " 'friend': 14452,\n",
       " 'anymore': 1681,\n",
       " 'chill': 6917,\n",
       " 'prople': 31633,\n",
       " 'cowboys': 8497,\n",
       " 'shutup': 35685,\n",
       " 'lmaooooooooooo': 23062,\n",
       " 'ltbitch': 23664,\n",
       " 'depress': 9882,\n",
       " 'girl': 15513,\n",
       " 'spit': 37041,\n",
       " 'lbvsbitch': 22249,\n",
       " 'let': 22476,\n",
       " 'couple': 8445,\n",
       " 'cuzzo': 9026,\n",
       " 'page': 29345,\n",
       " 'jaillmao': 20319,\n",
       " 'trick': 40742,\n",
       " 'harlem': 17105,\n",
       " 'shake': 35247,\n",
       " 'excuse': 12525,\n",
       " 'full': 14699,\n",
       " 'second': 34841,\n",
       " 'amen': 1178,\n",
       " 'miley': 25316,\n",
       " 'okay': 28547,\n",
       " 'bc': 3180,\n",
       " 'emotionally': 11868,\n",
       " 'damage': 9189,\n",
       " 'foh': 13948,\n",
       " 'loyal': 23636,\n",
       " 'female': 13303,\n",
       " 'wayyyyy': 42951,\n",
       " 'idc': 18756,\n",
       " 'lick': 22633,\n",
       " 'meow': 25009,\n",
       " 'stopwhitepeople': 37638,\n",
       " 'check': 6737,\n",
       " 'th': 39252,\n",
       " 'cowboysnation': 8499,\n",
       " 'ny': 28281,\n",
       " 'fan': 12912,\n",
       " 'stand': 37292,\n",
       " 'happen': 17001,\n",
       " 'vixen': 42456,\n",
       " 'ent': 12060,\n",
       " 'throw': 39868,\n",
       " 'foothill': 14065,\n",
       " 'nudes': 28194,\n",
       " 'pat': 29675,\n",
       " 'blacklist': 4289,\n",
       " 'hold': 17953,\n",
       " 'tehgodclan': 39072,\n",
       " 'anyway': 1692,\n",
       " 'wrong': 44342,\n",
       " 'nobody': 27697,\n",
       " 'upp': 41786,\n",
       " 'type': 41240,\n",
       " 'dm': 10533,\n",
       " 'readem': 32573,\n",
       " 'top': 40360,\n",
       " 'baseball': 3041,\n",
       " 'season': 34821,\n",
       " 'yankees': 44595,\n",
       " 'little': 22931,\n",
       " 'stupid': 37849,\n",
       " 'yoooooouuuu': 44868,\n",
       " 'really': 32636,\n",
       " 'dead': 9506,\n",
       " 'serious': 35094,\n",
       " 'tho': 39781,\n",
       " 'wheet': 43443,\n",
       " 'early': 11370,\n",
       " 'night': 27543,\n",
       " 'owl': 29260,\n",
       " 'wise': 43876,\n",
       " 'worm': 44227,\n",
       " 'overdose': 29199,\n",
       " 'heavy': 17420,\n",
       " 'sound': 36828,\n",
       " 'day': 9395,\n",
       " 'pit': 30498,\n",
       " 'bull': 5506,\n",
       " 'photograph': 30269,\n",
       " 'lovely': 23495,\n",
       " 'fairy': 12816,\n",
       " 'tale': 38665,\n",
       " 'creatures': 8649,\n",
       " 'aw': 2459,\n",
       " 'long': 23211,\n",
       " 'lakers': 21971,\n",
       " 'careless': 6168,\n",
       " 'cc': 6407,\n",
       " 'hahaha': 16778,\n",
       " 'anything': 1686,\n",
       " 'kiss': 21559,\n",
       " 'play': 30610,\n",
       " 'soccer': 36510,\n",
       " 'cheat': 6731,\n",
       " 'wear': 43003,\n",
       " 'khaki': 21357,\n",
       " 'colour': 7704,\n",
       " 'cargos': 6176,\n",
       " 'haircut': 16815,\n",
       " 'yup': 45061,\n",
       " 'fat': 13045,\n",
       " 'lap': 22052,\n",
       " 'das': 9328,\n",
       " 'po': 30740,\n",
       " 'finna': 13550,\n",
       " 'screamn': 34731,\n",
       " 'freemoneymelle': 14348,\n",
       " 'gotta': 16111,\n",
       " 'rule': 34023,\n",
       " 'cousin': 8463,\n",
       " 'jersey': 20535,\n",
       " 'thinkin': 39710,\n",
       " 'move': 26108,\n",
       " 'lmmfao': 23092,\n",
       " 'amo': 1257,\n",
       " 'los': 23324,\n",
       " 'pies': 30373,\n",
       " 'meat': 24799,\n",
       " 'slap': 36098,\n",
       " 'ainna': 672,\n",
       " 'bruh': 5321,\n",
       " 'wit': 43901,\n",
       " 'edge': 11520,\n",
       " 'treat': 40682,\n",
       " 'nahhell': 26694,\n",
       " 'sweet': 38433,\n",
       " 'tooth': 40353,\n",
       " 'bandit': 2886,\n",
       " 'bag': 2750,\n",
       " 'sex': 35160,\n",
       " 'mom': 25743,\n",
       " 'right': 33501,\n",
       " 'hack': 16750,\n",
       " 'eye': 12683,\n",
       " 'open': 28834,\n",
       " 'watch': 42862,\n",
       " 'bitchlmfao': 4186,\n",
       " 'woulda': 44252,\n",
       " 'coulda': 8395,\n",
       " 'shoulda': 35612,\n",
       " 'bday': 3203,\n",
       " 'roll': 33790,\n",
       " 'wcw': 42969,\n",
       " 'duh': 11188,\n",
       " 'elses': 11781,\n",
       " 'hacky': 16760,\n",
       " 'sack': 34164,\n",
       " 'pass': 29638,\n",
       " 'glad': 15607,\n",
       " 'outta': 29163,\n",
       " 'atlanta': 2237,\n",
       " 'bunch': 5546,\n",
       " 'jail': 20317,\n",
       " 'dumb': 11202,\n",
       " 'mad': 23921,\n",
       " 'fuckin': 14617,\n",
       " 'smart': 36277,\n",
       " 'wife': 43700,\n",
       " 'cuz': 9022,\n",
       " 'care': 6154,\n",
       " 'force': 14074,\n",
       " 'relationship': 32990,\n",
       " 'first': 13590,\n",
       " 'single': 35882,\n",
       " 'white': 43534,\n",
       " 'power': 31161,\n",
       " 'drink': 11042,\n",
       " 'spark': 36910,\n",
       " 'blunt': 4522,\n",
       " 'bro': 5211,\n",
       " 'dudes': 11177,\n",
       " 'around': 1970,\n",
       " 'world': 44192,\n",
       " 'party': 29624,\n",
       " 'set': 35121,\n",
       " 'oomf': 28793,\n",
       " 'lot': 23352,\n",
       " 'cartoon': 6255,\n",
       " 'alway': 1089,\n",
       " 'save': 34505,\n",
       " 'captain': 6117,\n",
       " 'saveahoe': 34506,\n",
       " 'nose': 27951,\n",
       " 'bois': 4645,\n",
       " 'chav': 6715,\n",
       " 'sockfetish': 36547,\n",
       " 'sox': 36874,\n",
       " 'legs': 22395,\n",
       " 'wish': 43882,\n",
       " 'brother': 5281,\n",
       " 'keezy': 21246,\n",
       " 'ooooow': 28808,\n",
       " 'bet': 3748,\n",
       " 'dress': 11023,\n",
       " 'halloween': 16879,\n",
       " 'basic': 3051,\n",
       " 'pornhub': 31014,\n",
       " 'stream': 37716,\n",
       " 'feature': 13175,\n",
       " 'gtfo': 16522,\n",
       " 'katielt': 21147,\n",
       " 'scar': 34586,\n",
       " 'choke': 7013,\n",
       " 'women': 44023,\n",
       " 'bed': 3367,\n",
       " 'ha': 16730,\n",
       " 'well': 43212,\n",
       " 'iguess': 18876,\n",
       " 'theyll': 39652,\n",
       " 'oh': 28489,\n",
       " 'molly': 25740,\n",
       " 'ho': 17883,\n",
       " 'seed': 34872,\n",
       " 'fix': 13698,\n",
       " 'refer': 32863,\n",
       " 'lmfao': 23072,\n",
       " 'beat': 3286,\n",
       " 'finally': 13496,\n",
       " 'peel': 29909,\n",
       " 'rewind': 33385,\n",
       " 'shaq': 35299,\n",
       " 'line': 22843,\n",
       " 'tf': 39231,\n",
       " 'io': 19864,\n",
       " 'alu': 1078,\n",
       " 'record': 32752,\n",
       " 'vine': 42336,\n",
       " 'sai': 34227,\n",
       " 'pe': 29831,\n",
       " 'hahahaha': 16783,\n",
       " 'anywaaaaaays': 1691,\n",
       " 'haha': 16775,\n",
       " 'naw': 26904,\n",
       " 'tape': 38747,\n",
       " 'cover': 8474,\n",
       " 'upcoming': 41756,\n",
       " 'mixtape': 25582,\n",
       " 'kingofthehill': 21532,\n",
       " 'mayne': 24674,\n",
       " 'ol': 28561,\n",
       " 'dirty': 10310,\n",
       " 'foot': 14053,\n",
       " 'yellow': 44733,\n",
       " 'flag': 13726,\n",
       " 'amaze': 1135,\n",
       " 'niggy': 27538,\n",
       " 'time': 40001,\n",
       " 'actin': 245,\n",
       " 'iffy': 18821,\n",
       " 'ucfpinkparty': 41280,\n",
       " 'stay': 37401,\n",
       " 'alive': 887,\n",
       " 'knight': 21630,\n",
       " 'nation': 26817,\n",
       " 'special': 36939,\n",
       " 'comeatmeut': 7741,\n",
       " 'smfh': 36299,\n",
       " 'wonder': 44055,\n",
       " 'decent': 9584,\n",
       " 'stud': 37813,\n",
       " 'keep': 21218,\n",
       " 'soft': 36576,\n",
       " 'many': 24350,\n",
       " 'stfu': 37515,\n",
       " 'bye': 5749,\n",
       " 'dry': 11129,\n",
       " 'blame': 4335,\n",
       " 'condom': 7988,\n",
       " 'gucci': 16573,\n",
       " 'drop': 11079,\n",
       " 'mixtapes': 25583,\n",
       " 'month': 25863,\n",
       " 'text': 39214,\n",
       " 'wats': 42919,\n",
       " 'burbs': 5577,\n",
       " 'without': 43926,\n",
       " 'daddy': 9090,\n",
       " 'issue': 20084,\n",
       " 'find': 13512,\n",
       " 'holographic': 18015,\n",
       " 'mewtwo': 25116,\n",
       " 'easy': 11417,\n",
       " 'cum': 8902,\n",
       " 'fact': 12768,\n",
       " 'charlie': 6684,\n",
       " 'sheen': 35366,\n",
       " 'major': 24083,\n",
       " 'respect': 33238,\n",
       " 'bae': 2743,\n",
       " 'twerking': 41147,\n",
       " 'cook': 8214,\n",
       " 'wtf': 44365,\n",
       " 'zoe': 45211,\n",
       " 'good': 15914,\n",
       " 'maam': 23868,\n",
       " 'along': 1026,\n",
       " 'snake': 36390,\n",
       " 'booty': 4786,\n",
       " 'everywhere': 12437,\n",
       " 'sheesh': 35371,\n",
       " 'tune': 41028,\n",
       " 'update': 41759,\n",
       " 'report': 33143,\n",
       " 'weeks': 43143,\n",
       " 'bum': 5525,\n",
       " 'oregon': 28945,\n",
       " 'field': 13412,\n",
       " 'program': 31569,\n",
       " 'rft': 33398,\n",
       " 'def': 9652,\n",
       " 'cowboy': 8496,\n",
       " 'terrell': 39164,\n",
       " 'owens': 29258,\n",
       " 'best': 3670,\n",
       " 'tv': 41089,\n",
       " 'romo': 33821,\n",
       " 'lmfaoooo': 23076,\n",
       " 'people': 29970,\n",
       " 'niggers': 27524,\n",
       " 'potent': 31120,\n",
       " 'piss': 30486,\n",
       " 'past': 29656,\n",
       " 'sleep': 36123,\n",
       " 'frat': 14280,\n",
       " 'arch': 1853,\n",
       " 'nah': 26691,\n",
       " 'fam': 12869,\n",
       " 'depend': 9859,\n",
       " 'feel': 13205,\n",
       " 'hicks': 17673,\n",
       " 'america': 1184,\n",
       " 'toto': 40425,\n",
       " 'mean': 24782,\n",
       " 'vaginai': 41962,\n",
       " 'santi': 34398,\n",
       " 'nasty': 26803,\n",
       " 'actually': 274,\n",
       " 'choose': 7025,\n",
       " 'vibe': 42236,\n",
       " 'try': 40936,\n",
       " 'dis': 10314,\n",
       " 'af': 443,\n",
       " 'tight': 39970,\n",
       " 'shirt': 35476,\n",
       " 'grim': 16416,\n",
       " 'everybody': 12403,\n",
       " 'grandkids': 16221,\n",
       " 'may': 24654,\n",
       " 'climate': 7383,\n",
       " 'beautiful': 3311,\n",
       " 'wutkinda': 44399,\n",
       " 'purple': 31922,\n",
       " 'ceeeleeeman': 6450,\n",
       " 'gurl': 16654,\n",
       " 'playin': 30629,\n",
       " 'track': 40498,\n",
       " 'sum': 38022,\n",
       " 'gurls': 16657,\n",
       " 'taller': 38693,\n",
       " 'blurry': 4526,\n",
       " 'obsess': 28358,\n",
       " 'mine': 25391,\n",
       " 'kobe': 21677,\n",
       " 'forget': 14121,\n",
       " 'least': 22298,\n",
       " 'nigger': 27517,\n",
       " 'mix': 25574,\n",
       " 'asian': 2067,\n",
       " 'ariza': 1930,\n",
       " 'coward': 8492,\n",
       " 'cripple': 8701,\n",
       " 'hero': 17599,\n",
       " 'roach': 33658,\n",
       " 'lmaoo': 23055,\n",
       " 'foster': 14174,\n",
       " 'home': 18027,\n",
       " 'imaginary': 19055,\n",
       " 'whoa': 43603,\n",
       " 'everything': 12428,\n",
       " 'lowkey': 23625,\n",
       " 'quiet': 32148,\n",
       " 'weird': 43184,\n",
       " 'mention': 25001,\n",
       " 'homeboys': 18031,\n",
       " 'weak': 42981,\n",
       " 'advice': 411,\n",
       " 'speed': 36970,\n",
       " 'quote': 32172,\n",
       " 'animalpussy': 1489,\n",
       " 'strippers': 37771,\n",
       " 'dancers': 9230,\n",
       " 'ballet': 2838,\n",
       " 'pop': 30948,\n",
       " 'beethoven': 3417,\n",
       " 'stripper': 37770,\n",
       " 'andrewbryant': 1417,\n",
       " 'poff': 30775,\n",
       " 'double': 10853,\n",
       " 'vision': 42404,\n",
       " 'beers': 3414,\n",
       " 'twerk': 41145,\n",
       " 'computer': 7926,\n",
       " 'prince': 31445,\n",
       " 'art': 2005,\n",
       " 'takin': 38658,\n",
       " 'welfaregovernment': 43209,\n",
       " 'aid': 653,\n",
       " 'claim': 7247,\n",
       " 'slander': 36095,\n",
       " 'role': 33782,\n",
       " 'hide': 17680,\n",
       " 'lime': 22814,\n",
       " 'tree': 40693,\n",
       " 'drakes': 10970,\n",
       " 'shoe': 35536,\n",
       " 'release': 33005,\n",
       " 'nikejordan': 27590,\n",
       " 'glitter': 15651,\n",
       " 'inna': 19491,\n",
       " 'di': 10096,\n",
       " 'ghetto': 15410,\n",
       " 'alone': 1023,\n",
       " 'austin': 2379,\n",
       " 'teach': 38896,\n",
       " 'austini': 2380,\n",
       " 'ones': 28698,\n",
       " 'hoesaintloyal': 17923,\n",
       " 'hoesno': 17928,\n",
       " 'expect': 12583,\n",
       " 'retweetin': 33336,\n",
       " 'cyrus': 9062,\n",
       " 'naked': 26719,\n",
       " 'lmaooo': 23056,\n",
       " 'tony': 40306,\n",
       " 'mavs': 24640,\n",
       " 'fuk': 14682,\n",
       " 'cowgirls': 8503,\n",
       " 'holy': 18018,\n",
       " 'freddie': 14304,\n",
       " 'highmore': 17723,\n",
       " 'chocolate': 7002,\n",
       " 'factory': 12775,\n",
       " 'laugh': 22166,\n",
       " 'anonymous': 1577,\n",
       " 'whata': 43379,\n",
       " 'followers': 13978,\n",
       " 'clearly': 7333,\n",
       " 'annoy': 1565,\n",
       " 'catfish': 6333,\n",
       " 'slick': 36151,\n",
       " 'catch': 6316,\n",
       " 'worry': 44232,\n",
       " 'insecure': 19532,\n",
       " 'handle': 16946,\n",
       " 'scoot': 34688,\n",
       " 'tent': 39140,\n",
       " 'share': 35305,\n",
       " 'brothers': 5283,\n",
       " 'hungry': 18534,\n",
       " 'ionn': 19871,\n",
       " 'problems': 31516,\n",
       " 'dese': 9933,\n",
       " 'lyin': 23827,\n",
       " 'eli': 11729,\n",
       " 'nflleading': 27392,\n",
       " 'interception': 19748,\n",
       " 'usc': 41853,\n",
       " 'senior': 35037,\n",
       " 'rb': 32532,\n",
       " 'anthony': 1612,\n",
       " 'brown': 5290,\n",
       " 'coach': 7504,\n",
       " 'steve': 37501,\n",
       " 'sarkisian': 34435,\n",
       " 'quit': 32165,\n",
       " 'team': 38910,\n",
       " 'guess': 16583,\n",
       " 'also': 1052,\n",
       " 'zero': 45157,\n",
       " 'mansplaining': 24327,\n",
       " 'adios': 330,\n",
       " 'impress': 19171,\n",
       " 'simple': 35827,\n",
       " 'pisces': 30484,\n",
       " 'anybody': 1677,\n",
       " 'control': 8175,\n",
       " 'rigghhht': 33500,\n",
       " 'tuku': 41000,\n",
       " 'idk': 18788,\n",
       " 'blah': 4329,\n",
       " 'cuh': 8879,\n",
       " 'suure': 38366,\n",
       " 'ita': 20110,\n",
       " 'crazy': 8603,\n",
       " 'gonna': 15903,\n",
       " 'slice': 36150,\n",
       " 'kevin': 21329,\n",
       " 'hart': 17144,\n",
       " 'fine': 13527,\n",
       " 'dam': 9188,\n",
       " 'boys': 4944,\n",
       " 'magaluf': 23981,\n",
       " 'probly': 31518,\n",
       " 'newsatquestions': 27304,\n",
       " 'steveo': 37509,\n",
       " 'later': 22130,\n",
       " 'jesse': 20541,\n",
       " 'pinkman': 30442,\n",
       " 'hickies': 17671,\n",
       " 'thighs': 39677,\n",
       " 'gtgtgt': 16528,\n",
       " 'longer': 23219,\n",
       " 'frontbitch': 14525,\n",
       " 'ipad': 19881,\n",
       " 'friday': 14420,\n",
       " 'gerryshalloweenparty': 15308,\n",
       " 'yesterday': 44766,\n",
       " 'chrus': 7098,\n",
       " 'supahot': 38184,\n",
       " 'test': 39191,\n",
       " 'fohead': 13950,\n",
       " 'forever': 14105,\n",
       " 'slush': 36234,\n",
       " 'taste': 38790,\n",
       " 'meds': 24838,\n",
       " 'bobby': 4575,\n",
       " 'bitchby': 4159,\n",
       " 'live': 22965,\n",
       " 'workout': 44176,\n",
       " 'stoner': 37597,\n",
       " 'ride': 33472,\n",
       " 'bar': 2946,\n",
       " 'traphoussseeeee': 40605,\n",
       " 'sad': 34174,\n",
       " 'character': 6664,\n",
       " 'deaths': 9551,\n",
       " 'ned': 26989,\n",
       " 'stark': 37336,\n",
       " 'harbor': 17071,\n",
       " 'bus': 5622,\n",
       " 'ultraviolence': 41398,\n",
       " 'video': 42279,\n",
       " 'mtvhottest': 26224,\n",
       " 'lana': 22014,\n",
       " 'del': 9715,\n",
       " 'rey': 33393,\n",
       " 'bitchy': 4202,\n",
       " 'promo': 31602,\n",
       " 'kittycopter': 21581,\n",
       " 'smuggler': 36372,\n",
       " 'explain': 12605,\n",
       " 'help': 17527,\n",
       " 'fighters': 13436,\n",
       " 'jihadi': 20619,\n",
       " 'highway': 17735,\n",
       " 'aww': 2508,\n",
       " 'avis': 2446,\n",
       " 'together': 40205,\n",
       " 'ike': 18918,\n",
       " 'avi': 2443,\n",
       " 'hoedont': 17907,\n",
       " 'expose': 12625,\n",
       " 'mewhy': 25115,\n",
       " 'whys': 43669,\n",
       " 'boost': 4772,\n",
       " 'size': 35982,\n",
       " 'exactly': 12476,\n",
       " 'healthy': 17365,\n",
       " 'kim': 21480,\n",
       " 'near': 26965,\n",
       " 'protect': 31663,\n",
       " 'stalkers': 37280,\n",
       " 'dope': 10814,\n",
       " 'loco': 23135,\n",
       " 'marack': 24365,\n",
       " 'girlfriend': 15521,\n",
       " 'aye': 2530,\n",
       " 'pullin': 31845,\n",
       " 'bruno': 5343,\n",
       " 'sike': 35772,\n",
       " 'beef': 3389,\n",
       " 'rally': 32353,\n",
       " 'bottom': 4861,\n",
       " 'rallycap': 32354,\n",
       " 'advantage': 395,\n",
       " 'person': 30085,\n",
       " 'everyjuan': 12416,\n",
       " 'pal': 29402,\n",
       " 'stack': 37242,\n",
       " 'till': 39990,\n",
       " 'cinco': 7165,\n",
       " 'harder': 17083,\n",
       " 'fucc': 14577,\n",
       " 'niggayee': 27513,\n",
       " 'rich': 33440,\n",
       " 'homie': 18086,\n",
       " 'homeboy': 18030,\n",
       " 'nicca': 27430,\n",
       " 'ewww': 12469,\n",
       " 'last': 22095,\n",
       " 'sunday': 38111,\n",
       " 'punch': 31868,\n",
       " 'face': 12740,\n",
       " 'strong': 37783,\n",
       " 'mush': 26392,\n",
       " 'fresh': 14394,\n",
       " 'lt': 23659,\n",
       " 'something': 36660,\n",
       " 'greatest': 16294,\n",
       " 'things': 39688,\n",
       " 'week': 43108,\n",
       " 'texans': 39206,\n",
       " 'nd': 26940,\n",
       " 'dark': 9294,\n",
       " 'blonde': 4454,\n",
       " 'several': 35148,\n",
       " 'seat': 34824,\n",
       " 'blackampmilds': 4252,\n",
       " 'lane': 22031,\n",
       " 'leave': 22301,\n",
       " 'deny': 9843,\n",
       " 'butt': 5688,\n",
       " 'straight': 37676,\n",
       " 'boss': 4837,\n",
       " 'corner': 8304,\n",
       " 'gettin': 15355,\n",
       " 'rentals': 33112,\n",
       " 'weekend': 43114,\n",
       " 'oooh': 28797,\n",
       " 'betta': 3772,\n",
       " ...}"
      ]
     },
     "execution_count": 51,
     "metadata": {},
     "output_type": "execute_result"
    }
   ],
   "source": [
    "vector.vocabulary_"
   ]
  },
  {
   "cell_type": "markdown",
   "metadata": {},
   "source": [
    "43382: train \n",
    "45260: 45260 từ khác nhau"
   ]
  },
  {
   "cell_type": "code",
   "execution_count": 52,
   "metadata": {
    "colab": {
     "base_uri": "https://localhost:8080/",
     "height": 50
    },
    "colab_type": "code",
    "id": "lFXbvNWJKEmO",
    "outputId": "2380edfd-c2f4-46bd-8e14-48a342a92bde"
   },
   "outputs": [
    {
     "name": "stdout",
     "output_type": "stream",
     "text": [
      "gbpusd strong resistance lie around commerzbank blog silver gold forex\n",
      "[0.29020133 0.26214936 0.40105741 0.27564524 0.25925614 0.39449168\n",
      " 0.26907952 0.43058055 0.25278133 0.25630906]\n",
      "(10,)\n"
     ]
    }
   ],
   "source": [
    "#(train_x[1])\n",
    "print(X_train.iloc[20])\n",
    "print(X_train_tfidf[20].data)\n",
    "print(X_train_tfidf[20].data.shape)"
   ]
  },
  {
   "cell_type": "code",
   "execution_count": null,
   "metadata": {},
   "outputs": [],
   "source": []
  },
  {
   "cell_type": "markdown",
   "metadata": {
    "colab_type": "text",
    "id": "hZmzynBFI1Z5"
   },
   "source": [
    "## 4.2. MACHINE LEARNING CHO PHÂN LỚP VĂN BẢN\n",
    "---\n"
   ]
  },
  {
   "cell_type": "markdown",
   "metadata": {},
   "source": [
    "### Thuật toán Naive Bayes\n",
    "---\n",
    "* Naive Bayes Classifiers (NBC) thường được sử dụng trong các bài toán Text Classification\n",
    "* NBC có thời gian training và test rất nhanh. Điều này có được là do giả sử về tính độc lập giữa các thành phần, nếu biết class.\n",
    "\n",
    "* Nếu giả sử về tính độc lập được thoả mãn (dựa vào bản chất của dữ liệu), NBC được cho là cho kết quả tốt hơn so với SVM và logistic regression khi có ít dữ liệu training.\n",
    "\n",
    "* NBC có thể hoạt động với các feature vector mà một phần là liên tục (sử dụng Gaussian Naive Bayes), phần còn lại ở dạng rời rạc (sử dụng Multinomial hoặc Bernoulli).\n",
    "\n",
    "* Khi sử dụng Multinomial Naive Bayes, Laplace smoothing thường được sử dụng để tránh trường hợp 1 thành phần trong test data chưa xuất hiện ở training data.\n",
    "\n",
    "\n",
    "#### Sử dụng MultinomialNB\n"
   ]
  },
  {
   "cell_type": "code",
   "execution_count": 53,
   "metadata": {},
   "outputs": [
    {
     "data": {
      "text/plain": [
       "{'alpha': 0.75, 'class_prior': None, 'fit_prior': True, 'force_alpha': 'warn'}"
      ]
     },
     "execution_count": 53,
     "metadata": {},
     "output_type": "execute_result"
    }
   ],
   "source": [
    "#Sử dụng mô hình Naive Bayes với TF-IDF\n",
    "from sklearn import naive_bayes\n",
    "\n",
    "#Khai báo sử dụng model Multinomial Naive bayes:\n",
    "MultiNB = naive_bayes.MultinomialNB(alpha=0.75)\n",
    "\n",
    "#huấn luyện mô hình với tập huấn luyện Train\n",
    "MultiNB.fit(X_train_tfidf,y_train)\n",
    "\n",
    "#Danh sách các tham số của model:\n",
    "MultiNB.get_params()"
   ]
  },
  {
   "cell_type": "markdown",
   "metadata": {},
   "source": [
    "**Các tham số của thuật toán Naive Bayes:**\n",
    "1. Naive Bayes trong Sklearn: https://scikit-learn.org/stable/modules/naive_bayes.html#\n",
    "2. Các tham số cho Multinomial Naive Bayes: https://scikit-learn.org/stable/modules/generated/sklearn.naive_bayes.MultinomialNB.html#sklearn.naive_bayes.MultinomialNB\n",
    "\n",
    "* **alpha:** float, default=1.0;\n",
    "Additive (Laplace/Lidstone) smoothing parameter (0 for no smoothing).\n",
    "\n",
    "* **fit_prior:** bool, default=True;\n",
    "Whether to learn class prior probabilities or not. If false, a uniform prior will be used.\n",
    "\n",
    "* **class_prior:** array-like of shape (n_classes,), default=None;\n",
    "Prior probabilities of the classes. If specified the priors are not adjusted according to the data."
   ]
  },
  {
   "cell_type": "code",
   "execution_count": 54,
   "metadata": {},
   "outputs": [
    {
     "name": "stdout",
     "output_type": "stream",
     "text": [
      "Độ chính xác của mô hình trên tập huấn luyện:  94.62 %\n"
     ]
    }
   ],
   "source": [
    "#Đánh giá độ chính xác của mô hình trên tập huấn luyện\n",
    "acc_MultiNB = round(MultiNB.score(X_train_tfidf, y_train) * 100, 2)\n",
    "\n",
    "print('Độ chính xác của mô hình trên tập huấn luyện: ', acc_MultiNB, '%')"
   ]
  },
  {
   "cell_type": "markdown",
   "metadata": {},
   "source": [
    "**Đánh giá trên tập kiểm thử:**\n",
    "\n",
    "---"
   ]
  },
  {
   "cell_type": "code",
   "execution_count": 55,
   "metadata": {},
   "outputs": [
    {
     "name": "stdout",
     "output_type": "stream",
     "text": [
      "1.Độ chính xác của mô hình trên tập Test:  90.33 %\n",
      "2.Tổng số mẫu dự đoán đúng: 9797  / 10846\n",
      "3.Tổng số mẫu dự đoán sai: 1049  / 10846\n"
     ]
    }
   ],
   "source": [
    "from sklearn.metrics import accuracy_score\n",
    "#Dự đoán và tính đoán độ chính xác của model trên tập Test:\n",
    "y_pred = MultiNB.predict(X_test_tfidf)\n",
    "\n",
    "acc1 = round(accuracy_score(y_test, y_pred)*100, 2)\n",
    "print('1.Độ chính xác của mô hình trên tập Test: ', acc1, '%')\n",
    "\n",
    "acc2 = accuracy_score(y_test, y_pred, normalize=False)\n",
    "print('2.Tổng số mẫu dự đoán đúng:', acc2, ' /', len(y_test))\n",
    "print('3.Tổng số mẫu dự đoán sai:', len(y_test) - acc2, ' /', len(y_test))"
   ]
  },
  {
   "cell_type": "code",
   "execution_count": 56,
   "metadata": {},
   "outputs": [
    {
     "data": {
      "image/png": "[encoded data removed]",
      "text/plain": [
       "<Figure size 640x480 with 2 Axes>"
      ]
     },
     "metadata": {},
     "output_type": "display_data"
    }
   ],
   "source": [
    "#Hiển thị confusion matrix:\n",
    "from sklearn.metrics import confusion_matrix, ConfusionMatrixDisplay\n",
    "\n",
    "#Hiển thị dạng số:\n",
    "cm = confusion_matrix(y_test, y_pred, labels=MultiNB.classes_)\n",
    "disp = ConfusionMatrixDisplay(confusion_matrix=cm, display_labels=MultiNB.classes_)\n",
    "disp.plot()\n",
    "plt.show()"
   ]
  },
  {
   "cell_type": "code",
   "execution_count": 57,
   "metadata": {},
   "outputs": [
    {
     "data": {
      "image/png": "[encoded data removed]",
      "text/plain": [
       "<Figure size 640x480 with 2 Axes>"
      ]
     },
     "metadata": {},
     "output_type": "display_data"
    }
   ],
   "source": [
    "#Hiển thị dạng tỷ lệ %:\n",
    "cm1 = confusion_matrix(y_test, y_pred, labels=MultiNB.classes_, normalize='true')\n",
    "disp1 = ConfusionMatrixDisplay(confusion_matrix=cm1, display_labels=MultiNB.classes_)\n",
    "disp1.plot()\n",
    "plt.show()"
   ]
  },
  {
   "cell_type": "code",
   "execution_count": null,
   "metadata": {},
   "outputs": [],
   "source": []
  },
  {
   "cell_type": "markdown",
   "metadata": {},
   "source": [
    "### Áp dụng model:\n",
    "---\n",
    "Model ở trạng thái Best fit - sử dụng model cho các comment mới!\n",
    "\n",
    "Ví dụ với một comment mới --> Sử dụng model đã huấn luyện để cho biết comment này là độc (1) hay không độc (0)\n"
   ]
  },
  {
   "cell_type": "code",
   "execution_count": 58,
   "metadata": {},
   "outputs": [
    {
     "name": "stdout",
     "output_type": "stream",
     "text": [
      "You are crazy. i hate you hmmm\n"
     ]
    }
   ],
   "source": [
    "#Khai báo 1 comment mới:\n",
    "# st_new = '@minh huyen is beautiful, you are very good, ha# minhuyen@mgami.com'\n",
    "st_new = 'You are crazy. i hate you hmmm'\n",
    "print(st_new)"
   ]
  },
  {
   "cell_type": "code",
   "execution_count": 59,
   "metadata": {},
   "outputs": [
    {
     "name": "stdout",
     "output_type": "stream",
     "text": [
      "Dữ liệu sau khi xử lý: crazy hate hmmm\n"
     ]
    }
   ],
   "source": [
    "#Tiền xử lý và chuẩn hóa comment:\n",
    "st_new_p = prepare_data(st_new)\n",
    "print('Dữ liệu sau khi xử lý:', st_new_p)"
   ]
  },
  {
   "cell_type": "code",
   "execution_count": 60,
   "metadata": {},
   "outputs": [
    {
     "name": "stdout",
     "output_type": "stream",
     "text": [
      "  (0, 17874)\t0.76636078986488\n",
      "  (0, 17178)\t0.4152174602526688\n",
      "  (0, 8603)\t0.49018935163771205\n",
      "(1, 45260)\n"
     ]
    }
   ],
   "source": [
    "#Chuyển về số với TFIDF:\n",
    "st_new_tfidf = vector.transform([st_new_p])\n",
    "print(st_new_tfidf)\n",
    "print(st_new_tfidf.shape)"
   ]
  },
  {
   "cell_type": "code",
   "execution_count": 61,
   "metadata": {},
   "outputs": [
    {
     "name": "stdout",
     "output_type": "stream",
     "text": [
      "[1]\n",
      "ML said: Warning - This comment is toxic.......!\n"
     ]
    }
   ],
   "source": [
    "#Dự đoán với model Naive Bayes:\n",
    "st_new_pred = MultiNB.predict(st_new_tfidf)\n",
    "\n",
    "print(st_new_pred)\n",
    "if(st_new_pred == 0):\n",
    "    print('ML said: This comment is non-toxic')\n",
    "else:\n",
    "    print('ML said: Warning - This comment is toxic.......!')"
   ]
  },
  {
   "cell_type": "code",
   "execution_count": null,
   "metadata": {},
   "outputs": [],
   "source": []
  },
  {
   "cell_type": "markdown",
   "metadata": {},
   "source": [
    "### THỰC HÀNH1: Áp dụng với thuật toán KNN\n",
    "---\n",
    "Sinh viên áp dụng thuật toán KNN đã học cho Bài toán phần lớp văn bản. Đánh giá độ chính xác"
   ]
  },
  {
   "cell_type": "code",
   "execution_count": 62,
   "metadata": {},
   "outputs": [
    {
     "data": {
      "text/plain": [
       "{'algorithm': 'auto',\n",
       " 'leaf_size': 30,\n",
       " 'metric': 'minkowski',\n",
       " 'metric_params': None,\n",
       " 'n_jobs': None,\n",
       " 'n_neighbors': 5,\n",
       " 'p': 2,\n",
       " 'weights': 'uniform'}"
      ]
     },
     "execution_count": 62,
     "metadata": {},
     "output_type": "execute_result"
    }
   ],
   "source": [
    "#Sử dụng KNN:\n",
    "# Gọi thư viện sklearn với thuật toán phân lớp KNN\n",
    "from sklearn.neighbors import KNeighborsClassifier\n",
    "\n",
    "# Khai báo model KNN sử dụng các tham số mặc định\n",
    "KNN_text = KNeighborsClassifier(n_neighbors=5)\n",
    "\n",
    "# Hiển thị danh sách tham số\n",
    "KNN_text.get_params()"
   ]
  },
  {
   "cell_type": "code",
   "execution_count": 63,
   "metadata": {},
   "outputs": [
    {
     "data": {
      "text/html": [
       "<style>#sk-container-id-1 {color: black;}#sk-container-id-1 pre{padding: 0;}#sk-container-id-1 div.sk-toggleable {background-color: white;}#sk-container-id-1 label.sk-toggleable__label {cursor: pointer;display: block;width: 100%;margin-bottom: 0;padding: 0.3em;box-sizing: border-box;text-align: center;}#sk-container-id-1 label.sk-toggleable__label-arrow:before {content: \"▸\";float: left;margin-right: 0.25em;color: #696969;}#sk-container-id-1 label.sk-toggleable__label-arrow:hover:before {color: black;}#sk-container-id-1 div.sk-estimator:hover label.sk-toggleable__label-arrow:before {color: black;}#sk-container-id-1 div.sk-toggleable__content {max-height: 0;max-width: 0;overflow: hidden;text-align: left;background-color: #f0f8ff;}#sk-container-id-1 div.sk-toggleable__content pre {margin: 0.2em;color: black;border-radius: 0.25em;background-color: #f0f8ff;}#sk-container-id-1 input.sk-toggleable__control:checked~div.sk-toggleable__content {max-height: 200px;max-width: 100%;overflow: auto;}#sk-container-id-1 input.sk-toggleable__control:checked~label.sk-toggleable__label-arrow:before {content: \"▾\";}#sk-container-id-1 div.sk-estimator input.sk-toggleable__control:checked~label.sk-toggleable__label {background-color: #d4ebff;}#sk-container-id-1 div.sk-label input.sk-toggleable__control:checked~label.sk-toggleable__label {background-color: #d4ebff;}#sk-container-id-1 input.sk-hidden--visually {border: 0;clip: rect(1px 1px 1px 1px);clip: rect(1px, 1px, 1px, 1px);height: 1px;margin: -1px;overflow: hidden;padding: 0;position: absolute;width: 1px;}#sk-container-id-1 div.sk-estimator {font-family: monospace;background-color: #f0f8ff;border: 1px dotted black;border-radius: 0.25em;box-sizing: border-box;margin-bottom: 0.5em;}#sk-container-id-1 div.sk-estimator:hover {background-color: #d4ebff;}#sk-container-id-1 div.sk-parallel-item::after {content: \"\";width: 100%;border-bottom: 1px solid gray;flex-grow: 1;}#sk-container-id-1 div.sk-label:hover label.sk-toggleable__label {background-color: #d4ebff;}#sk-container-id-1 div.sk-serial::before {content: \"\";position: absolute;border-left: 1px solid gray;box-sizing: border-box;top: 0;bottom: 0;left: 50%;z-index: 0;}#sk-container-id-1 div.sk-serial {display: flex;flex-direction: column;align-items: center;background-color: white;padding-right: 0.2em;padding-left: 0.2em;position: relative;}#sk-container-id-1 div.sk-item {position: relative;z-index: 1;}#sk-container-id-1 div.sk-parallel {display: flex;align-items: stretch;justify-content: center;background-color: white;position: relative;}#sk-container-id-1 div.sk-item::before, #sk-container-id-1 div.sk-parallel-item::before {content: \"\";position: absolute;border-left: 1px solid gray;box-sizing: border-box;top: 0;bottom: 0;left: 50%;z-index: -1;}#sk-container-id-1 div.sk-parallel-item {display: flex;flex-direction: column;z-index: 1;position: relative;background-color: white;}#sk-container-id-1 div.sk-parallel-item:first-child::after {align-self: flex-end;width: 50%;}#sk-container-id-1 div.sk-parallel-item:last-child::after {align-self: flex-start;width: 50%;}#sk-container-id-1 div.sk-parallel-item:only-child::after {width: 0;}#sk-container-id-1 div.sk-dashed-wrapped {border: 1px dashed gray;margin: 0 0.4em 0.5em 0.4em;box-sizing: border-box;padding-bottom: 0.4em;background-color: white;}#sk-container-id-1 div.sk-label label {font-family: monospace;font-weight: bold;display: inline-block;line-height: 1.2em;}#sk-container-id-1 div.sk-label-container {text-align: center;}#sk-container-id-1 div.sk-container {/* jupyter's `normalize.less` sets `[hidden] { display: none; }` but bootstrap.min.css set `[hidden] { display: none !important; }` so we also need the `!important` here to be able to override the default hidden behavior on the sphinx rendered scikit-learn.org. See: https://github.com/scikit-learn/scikit-learn/issues/21755 */display: inline-block !important;position: relative;}#sk-container-id-1 div.sk-text-repr-fallback {display: none;}</style><div id=\"sk-container-id-1\" class=\"sk-top-container\"><div class=\"sk-text-repr-fallback\"><pre>KNeighborsClassifier()</pre><b>In a Jupyter environment, please rerun this cell to show the HTML representation or trust the notebook. <br />On GitHub, the HTML representation is unable to render, please try loading this page with nbviewer.org.</b></div><div class=\"sk-container\" hidden><div class=\"sk-item\"><div class=\"sk-estimator sk-toggleable\"><input class=\"sk-toggleable__control sk-hidden--visually\" id=\"sk-estimator-id-1\" type=\"checkbox\" checked><label for=\"sk-estimator-id-1\" class=\"sk-toggleable__label sk-toggleable__label-arrow\">KNeighborsClassifier</label><div class=\"sk-toggleable__content\"><pre>KNeighborsClassifier()</pre></div></div></div></div></div>"
      ],
      "text/plain": [
       "KNeighborsClassifier()"
      ]
     },
     "execution_count": 63,
     "metadata": {},
     "output_type": "execute_result"
    }
   ],
   "source": [
    "# Thực hiện huấn luyện mô hình\n",
    "KNN_text.fit(X_train_tfidf, y_train)"
   ]
  },
  {
   "cell_type": "code",
   "execution_count": 64,
   "metadata": {},
   "outputs": [
    {
     "name": "stdout",
     "output_type": "stream",
     "text": [
      "Độ chính xác trên mô hình tập huấn luyện: 90.21 %\n"
     ]
    }
   ],
   "source": [
    "# Đánh giá độ chính xác trên mô hình tập huấn luyện:\n",
    "acc_train = KNN_text.score(X_train_tfidf,y_train)\n",
    "print('Độ chính xác trên mô hình tập huấn luyện:', round(acc_train*100,2), '%')"
   ]
  },
  {
   "cell_type": "code",
   "execution_count": 65,
   "metadata": {},
   "outputs": [
    {
     "name": "stdout",
     "output_type": "stream",
     "text": [
      "Độ chính xác trên mô hình tập test:  82.98 %\n"
     ]
    }
   ],
   "source": [
    "# Độ chính xác của mô hình trên tập test:\n",
    "y_pred = KNN_text.predict(X_test_tfidf)\n",
    "\n",
    "from sklearn.metrics import accuracy_score\n",
    "acc_test = accuracy_score(y_test, y_pred, normalize=True)\n",
    "print('Độ chính xác trên mô hình tập test: ', round(acc_test*100,2), '%')"
   ]
  },
  {
   "cell_type": "code",
   "execution_count": 66,
   "metadata": {},
   "outputs": [
    {
     "data": {
      "image/png": "[encoded data removed]",
      "text/plain": [
       "<Figure size 640x480 with 2 Axes>"
      ]
     },
     "metadata": {},
     "output_type": "display_data"
    }
   ],
   "source": [
    "# Sử dụng ma trận Confusion matrix để hiện thị kết quả\n",
    "from sklearn.metrics import confusion_matrix, ConfusionMatrixDisplay\n",
    "cnf_matrix_Knn = confusion_matrix(y_test, y_pred)\n",
    "\n",
    "# Hiển thị ma trận\n",
    "ConfusionMatrixDisplay.from_predictions(y_test, y_pred)\n",
    "plt.title('Confusion matrix Test Set - Text')\n",
    "\n",
    "plt.show()"
   ]
  },
  {
   "cell_type": "code",
   "execution_count": 67,
   "metadata": {},
   "outputs": [
    {
     "name": "stdout",
     "output_type": "stream",
     "text": [
      "You are crazy. i hate you hmmm\n"
     ]
    }
   ],
   "source": [
    "# st_new = '@minh huyen is beautiful, you are very good, ha# minhuyen@mgami.com'\n",
    "st_new = 'You are crazy. i hate you hmmm'\n",
    "print(st_new)"
   ]
  },
  {
   "cell_type": "code",
   "execution_count": 68,
   "metadata": {},
   "outputs": [
    {
     "name": "stdout",
     "output_type": "stream",
     "text": [
      "Dữ liệu sau khi xử lý: crazy hate hmmm\n"
     ]
    }
   ],
   "source": [
    "#Tiền xử lý và chuẩn hóa comment:\n",
    "st_new_p = prepare_data(st_new)\n",
    "print('Dữ liệu sau khi xử lý:', st_new_p)"
   ]
  },
  {
   "cell_type": "code",
   "execution_count": 69,
   "metadata": {},
   "outputs": [
    {
     "name": "stdout",
     "output_type": "stream",
     "text": [
      "  (0, 17874)\t0.76636078986488\n",
      "  (0, 17178)\t0.4152174602526688\n",
      "  (0, 8603)\t0.49018935163771205\n",
      "(1, 45260)\n"
     ]
    }
   ],
   "source": [
    "#Chuyển về số với TFIDF:\n",
    "st_new_tfidf = vector.transform([st_new_p])\n",
    "print(st_new_tfidf)\n",
    "print(st_new_tfidf.shape)"
   ]
  },
  {
   "cell_type": "code",
   "execution_count": 70,
   "metadata": {},
   "outputs": [
    {
     "name": "stdout",
     "output_type": "stream",
     "text": [
      "[1]\n",
      "ML said: Warning - This comment is toxic.......!\n"
     ]
    }
   ],
   "source": [
    "#Dự đoán với model Naive Bayes:\n",
    "st_new_pred = KNN_text.predict(st_new_tfidf)\n",
    "\n",
    "print(st_new_pred)\n",
    "if(st_new_pred == 0):\n",
    "    print('ML said: This comment is non-toxic')\n",
    "else:\n",
    "    print('ML said: Warning - This comment is toxic.......!')"
   ]
  },
  {
   "cell_type": "code",
   "execution_count": null,
   "metadata": {},
   "outputs": [],
   "source": []
  },
  {
   "cell_type": "markdown",
   "metadata": {},
   "source": [
    "### THỰC HÀNH 2: Áp dụng với thuật toán Cây quyết định\n",
    "---\n",
    "\n",
    "Sinh viên áp dụng thuật toán Cây quyết định cho bài toán phân lớp văn bản và đánh giá độ chính xác"
   ]
  },
  {
   "cell_type": "code",
   "execution_count": 71,
   "metadata": {},
   "outputs": [
    {
     "data": {
      "text/plain": [
       "{'ccp_alpha': 0.0,\n",
       " 'class_weight': None,\n",
       " 'criterion': 'gini',\n",
       " 'max_depth': None,\n",
       " 'max_features': None,\n",
       " 'max_leaf_nodes': None,\n",
       " 'min_impurity_decrease': 0.0,\n",
       " 'min_samples_leaf': 1,\n",
       " 'min_samples_split': 2,\n",
       " 'min_weight_fraction_leaf': 0.0,\n",
       " 'random_state': None,\n",
       " 'splitter': 'best'}"
      ]
     },
     "execution_count": 71,
     "metadata": {},
     "output_type": "execute_result"
    }
   ],
   "source": [
    "# Gọi thư viện thuật toán Decision Tree\n",
    "from sklearn.tree import DecisionTreeClassifier\n",
    "\n",
    "# Khai báo mô hình\n",
    "Tree_text = DecisionTreeClassifier()\n",
    "\n",
    "# Liệt kê danh sách tham số \n",
    "Tree_text.get_params()"
   ]
  },
  {
   "cell_type": "code",
   "execution_count": 72,
   "metadata": {},
   "outputs": [
    {
     "data": {
      "text/html": [
       "<style>#sk-container-id-2 {color: black;}#sk-container-id-2 pre{padding: 0;}#sk-container-id-2 div.sk-toggleable {background-color: white;}#sk-container-id-2 label.sk-toggleable__label {cursor: pointer;display: block;width: 100%;margin-bottom: 0;padding: 0.3em;box-sizing: border-box;text-align: center;}#sk-container-id-2 label.sk-toggleable__label-arrow:before {content: \"▸\";float: left;margin-right: 0.25em;color: #696969;}#sk-container-id-2 label.sk-toggleable__label-arrow:hover:before {color: black;}#sk-container-id-2 div.sk-estimator:hover label.sk-toggleable__label-arrow:before {color: black;}#sk-container-id-2 div.sk-toggleable__content {max-height: 0;max-width: 0;overflow: hidden;text-align: left;background-color: #f0f8ff;}#sk-container-id-2 div.sk-toggleable__content pre {margin: 0.2em;color: black;border-radius: 0.25em;background-color: #f0f8ff;}#sk-container-id-2 input.sk-toggleable__control:checked~div.sk-toggleable__content {max-height: 200px;max-width: 100%;overflow: auto;}#sk-container-id-2 input.sk-toggleable__control:checked~label.sk-toggleable__label-arrow:before {content: \"▾\";}#sk-container-id-2 div.sk-estimator input.sk-toggleable__control:checked~label.sk-toggleable__label {background-color: #d4ebff;}#sk-container-id-2 div.sk-label input.sk-toggleable__control:checked~label.sk-toggleable__label {background-color: #d4ebff;}#sk-container-id-2 input.sk-hidden--visually {border: 0;clip: rect(1px 1px 1px 1px);clip: rect(1px, 1px, 1px, 1px);height: 1px;margin: -1px;overflow: hidden;padding: 0;position: absolute;width: 1px;}#sk-container-id-2 div.sk-estimator {font-family: monospace;background-color: #f0f8ff;border: 1px dotted black;border-radius: 0.25em;box-sizing: border-box;margin-bottom: 0.5em;}#sk-container-id-2 div.sk-estimator:hover {background-color: #d4ebff;}#sk-container-id-2 div.sk-parallel-item::after {content: \"\";width: 100%;border-bottom: 1px solid gray;flex-grow: 1;}#sk-container-id-2 div.sk-label:hover label.sk-toggleable__label {background-color: #d4ebff;}#sk-container-id-2 div.sk-serial::before {content: \"\";position: absolute;border-left: 1px solid gray;box-sizing: border-box;top: 0;bottom: 0;left: 50%;z-index: 0;}#sk-container-id-2 div.sk-serial {display: flex;flex-direction: column;align-items: center;background-color: white;padding-right: 0.2em;padding-left: 0.2em;position: relative;}#sk-container-id-2 div.sk-item {position: relative;z-index: 1;}#sk-container-id-2 div.sk-parallel {display: flex;align-items: stretch;justify-content: center;background-color: white;position: relative;}#sk-container-id-2 div.sk-item::before, #sk-container-id-2 div.sk-parallel-item::before {content: \"\";position: absolute;border-left: 1px solid gray;box-sizing: border-box;top: 0;bottom: 0;left: 50%;z-index: -1;}#sk-container-id-2 div.sk-parallel-item {display: flex;flex-direction: column;z-index: 1;position: relative;background-color: white;}#sk-container-id-2 div.sk-parallel-item:first-child::after {align-self: flex-end;width: 50%;}#sk-container-id-2 div.sk-parallel-item:last-child::after {align-self: flex-start;width: 50%;}#sk-container-id-2 div.sk-parallel-item:only-child::after {width: 0;}#sk-container-id-2 div.sk-dashed-wrapped {border: 1px dashed gray;margin: 0 0.4em 0.5em 0.4em;box-sizing: border-box;padding-bottom: 0.4em;background-color: white;}#sk-container-id-2 div.sk-label label {font-family: monospace;font-weight: bold;display: inline-block;line-height: 1.2em;}#sk-container-id-2 div.sk-label-container {text-align: center;}#sk-container-id-2 div.sk-container {/* jupyter's `normalize.less` sets `[hidden] { display: none; }` but bootstrap.min.css set `[hidden] { display: none !important; }` so we also need the `!important` here to be able to override the default hidden behavior on the sphinx rendered scikit-learn.org. See: https://github.com/scikit-learn/scikit-learn/issues/21755 */display: inline-block !important;position: relative;}#sk-container-id-2 div.sk-text-repr-fallback {display: none;}</style><div id=\"sk-container-id-2\" class=\"sk-top-container\"><div class=\"sk-text-repr-fallback\"><pre>DecisionTreeClassifier()</pre><b>In a Jupyter environment, please rerun this cell to show the HTML representation or trust the notebook. <br />On GitHub, the HTML representation is unable to render, please try loading this page with nbviewer.org.</b></div><div class=\"sk-container\" hidden><div class=\"sk-item\"><div class=\"sk-estimator sk-toggleable\"><input class=\"sk-toggleable__control sk-hidden--visually\" id=\"sk-estimator-id-2\" type=\"checkbox\" checked><label for=\"sk-estimator-id-2\" class=\"sk-toggleable__label sk-toggleable__label-arrow\">DecisionTreeClassifier</label><div class=\"sk-toggleable__content\"><pre>DecisionTreeClassifier()</pre></div></div></div></div></div>"
      ],
      "text/plain": [
       "DecisionTreeClassifier()"
      ]
     },
     "execution_count": 72,
     "metadata": {},
     "output_type": "execute_result"
    }
   ],
   "source": [
    "# Huấn luyện mô hình với tập dữ liệu train\n",
    "Tree_text.fit(X_train_tfidf, y_train)"
   ]
  },
  {
   "cell_type": "code",
   "execution_count": 73,
   "metadata": {},
   "outputs": [
    {
     "name": "stdout",
     "output_type": "stream",
     "text": [
      "Độ chính xác trên mô hình tập huấn luyện: 99.96 %\n"
     ]
    }
   ],
   "source": [
    "# Đánh giá độ chính xác trên tập huấn luyện\n",
    "acc_train_tree = Tree_text.score(X_train_tfidf, y_train)\n",
    "\n",
    "print('Độ chính xác trên mô hình tập huấn luyện:', round(acc_train_tree*100,2),'%')"
   ]
  },
  {
   "cell_type": "code",
   "execution_count": 74,
   "metadata": {},
   "outputs": [
    {
     "name": "stdout",
     "output_type": "stream",
     "text": [
      "Độ chính xác trên mô hình tập test:  93.43 %\n"
     ]
    }
   ],
   "source": [
    "# Đánh giá độ chính xác trên mô hình tập test\n",
    "from sklearn.metrics import accuracy_score\n",
    "\n",
    "y_pred_tree = Tree_text.predict(X_test_tfidf)\n",
    "\n",
    "acc_test_tree = accuracy_score(y_test, y_pred_tree, normalize=True)\n",
    "\n",
    "print('Độ chính xác trên mô hình tập test: ', round(acc_test_tree*100,2), '%')"
   ]
  },
  {
   "cell_type": "code",
   "execution_count": 75,
   "metadata": {},
   "outputs": [
    {
     "data": {
      "image/png": "[encoded data removed]",
      "text/plain": [
       "<Figure size 640x480 with 2 Axes>"
      ]
     },
     "metadata": {},
     "output_type": "display_data"
    }
   ],
   "source": [
    "# Sử dụng ma trận Confusion matrix để hiển thị kết quả\n",
    "cnf_matrix_Tree = confusion_matrix(y_test, y_pred_tree)\n",
    "\n",
    "# Hiển thị ma trận\n",
    "ConfusionMatrixDisplay.from_predictions(y_test, y_pred_tree)\n",
    "\n",
    "plt.title('Confusion matrix Test Set - Text')\n",
    "\n",
    "plt.show()"
   ]
  },
  {
   "cell_type": "code",
   "execution_count": 76,
   "metadata": {},
   "outputs": [
    {
     "name": "stdout",
     "output_type": "stream",
     "text": [
      "@minh huyen is beautiful, you are very good, ha# minhuyen@mgami.com\n"
     ]
    }
   ],
   "source": [
    "st_new = '@minh huyen is beautiful, you are very good, ha# minhuyen@mgami.com'\n",
    "# st_new = 'You are crazy. i hate you hmmm'\n",
    "print(st_new)"
   ]
  },
  {
   "cell_type": "code",
   "execution_count": 77,
   "metadata": {},
   "outputs": [
    {
     "name": "stdout",
     "output_type": "stream",
     "text": [
      "Dữ liệu sau khi xử lý: huyen beautiful good ha\n"
     ]
    }
   ],
   "source": [
    "#Tiền xử lý và chuẩn hóa comment:\n",
    "st_new_p = prepare_data(st_new)\n",
    "print('Dữ liệu sau khi xử lý:', st_new_p)"
   ]
  },
  {
   "cell_type": "code",
   "execution_count": 78,
   "metadata": {},
   "outputs": [
    {
     "name": "stdout",
     "output_type": "stream",
     "text": [
      "  (0, 16730)\t0.7187974842088063\n",
      "  (0, 15914)\t0.44663062758861255\n",
      "  (0, 3311)\t0.5327769319282629\n",
      "(1, 45260)\n"
     ]
    }
   ],
   "source": [
    "#Chuyển về số với TFIDF:\n",
    "st_new_tfidf = vector.transform([st_new_p])\n",
    "print(st_new_tfidf)\n",
    "print(st_new_tfidf.shape)"
   ]
  },
  {
   "cell_type": "code",
   "execution_count": null,
   "metadata": {},
   "outputs": [],
   "source": []
  }
 ],
 "metadata": {
  "colab": {
   "collapsed_sections": [],
   "name": "NLP_Detection_Toxic.ipynb",
   "provenance": [],
   "version": "0.3.2"
  },
  "kernelspec": {
   "display_name": "Python 3 (ipykernel)",
   "language": "python",
   "name": "python3"
  },
  "language_info": {
   "codemirror_mode": {
    "name": "ipython",
    "version": 3
   },
   "file_extension": ".py",
   "mimetype": "text/x-python",
   "name": "python",
   "nbconvert_exporter": "python",
   "pygments_lexer": "ipython3",
   "version": "3.11.4"
  }
 },
 "nbformat": 4,
 "nbformat_minor": 1
}
