{
 "cells": [
  {
   "cell_type": "markdown",
   "metadata": {},
   "source": [
    "\n",
    "Xây dựng mô hình học máy với thuật toán KNN dự đoán một bệnh nhân u vú là lành tính hay ác tính. Sinh viên sử dụng tập 961 bệnh nhân u vú đã xử lý ở Chương 2; \n",
    "\n",
    "1. Kiểm tra mức độ cân bằng dữ liệu\n",
    "\n",
    "2. Phân tách các biến Độc lập (X) - Phụ thuộc (Y) tương ứng\n",
    "\n",
    "3. Chia tập dữ liệu thành 2 phần Train - Test với tỷ lệ 75% - 25%\n",
    "\n",
    "4. Xây dựng model dự đoán bệnh nhân bị bệnh u vú lành tính - ác tính với thuật toán K người láng giềng gần nhất (KNN). Tùy chỉnh tham số n_neighbors, weight, p để thu được mô hình có độ chính xác tốt nhất trên tập Train và Test.\n",
    "\n",
    "**Hiển thị các kết quả sau của model:**\n",
    "\n",
    "    a)Độ chính xác của model (accuracy) trên tập Train – Test\n",
    "    b)Tổng số mẫu dự đoán đúng - sai trên tập Test \n",
    "    c)Ma trận confusion matrix trên tập Test\n",
    "\n",
    "5. Dự đoán với mô hình xây dựng được\n",
    "- Bệnh nhân 1 có các thông số như sau:\n",
    "\n",
    "    * Age:  20 tuổi;\n",
    "    * Weight: 65 Kg\n",
    "    * Shape: Round;\n",
    "    * Margin: Circumscribed\n",
    "    * Density: Low\n",
    "\n",
    "- Bệnh nhân 2 có các thông số như sau:  \n",
    "    * Age:  64 tuổi;\n",
    "    * Weight: 75 kg\n",
    "    * Shape: Round;\n",
    "    * Margin: Circumscribed\n",
    "    * Density: High\n",
    "\n",
    "Sử dụng model ở trên dự đoán xem bệnh nhân 1, 2  này bị u lành tính  hay ác tính;\n",
    "\n",
    "\n",
    "\n"
   ]
  },
  {
   "cell_type": "code",
   "execution_count": 1,
   "metadata": {},
   "outputs": [],
   "source": [
    "#Gọi các thư viện sử dụng cho Project:\n",
    "# Data analysis and wrangling:\n",
    "import pandas as pd\n",
    "import numpy as np\n",
    "\n",
    "# visualization:\n",
    "import matplotlib.pyplot as plt\n",
    "%matplotlib inline\n",
    "#---------------------------------------\n",
    "import warnings\n",
    "warnings.filterwarnings('ignore')"
   ]
  },
  {
   "cell_type": "code",
   "execution_count": 2,
   "metadata": {},
   "outputs": [
    {
     "name": "stdout",
     "output_type": "stream",
     "text": [
      "<class 'pandas.core.frame.DataFrame'>\n",
      "RangeIndex: 961 entries, 0 to 960\n",
      "Data columns (total 5 columns):\n",
      " #   Column   Non-Null Count  Dtype\n",
      "---  ------   --------------  -----\n",
      " 0   Age      961 non-null    int64\n",
      " 1   Shape    961 non-null    int64\n",
      " 2   Margin   961 non-null    int64\n",
      " 3   Density  961 non-null    int64\n",
      " 4   Target   961 non-null    int64\n",
      "dtypes: int64(5)\n",
      "memory usage: 37.7 KB\n"
     ]
    }
   ],
   "source": [
    "df = pd.read_csv('Data_Practice_OK.csv')\n",
    "df.info()"
   ]
  },
  {
   "cell_type": "code",
   "execution_count": 3,
   "metadata": {},
   "outputs": [
    {
     "data": {
      "text/html": [
       "<div>\n",
       "<style scoped>\n",
       "    .dataframe tbody tr th:only-of-type {\n",
       "        vertical-align: middle;\n",
       "    }\n",
       "\n",
       "    .dataframe tbody tr th {\n",
       "        vertical-align: top;\n",
       "    }\n",
       "\n",
       "    .dataframe thead th {\n",
       "        text-align: right;\n",
       "    }\n",
       "</style>\n",
       "<table border=\"1\" class=\"dataframe\">\n",
       "  <thead>\n",
       "    <tr style=\"text-align: right;\">\n",
       "      <th></th>\n",
       "      <th>Age</th>\n",
       "      <th>Shape</th>\n",
       "      <th>Margin</th>\n",
       "      <th>Density</th>\n",
       "      <th>Target</th>\n",
       "    </tr>\n",
       "  </thead>\n",
       "  <tbody>\n",
       "    <tr>\n",
       "      <th>725</th>\n",
       "      <td>3</td>\n",
       "      <td>3</td>\n",
       "      <td>1</td>\n",
       "      <td>2</td>\n",
       "      <td>0</td>\n",
       "    </tr>\n",
       "    <tr>\n",
       "      <th>350</th>\n",
       "      <td>2</td>\n",
       "      <td>3</td>\n",
       "      <td>1</td>\n",
       "      <td>0</td>\n",
       "      <td>1</td>\n",
       "    </tr>\n",
       "    <tr>\n",
       "      <th>948</th>\n",
       "      <td>3</td>\n",
       "      <td>2</td>\n",
       "      <td>2</td>\n",
       "      <td>0</td>\n",
       "      <td>1</td>\n",
       "    </tr>\n",
       "    <tr>\n",
       "      <th>867</th>\n",
       "      <td>2</td>\n",
       "      <td>1</td>\n",
       "      <td>1</td>\n",
       "      <td>0</td>\n",
       "      <td>0</td>\n",
       "    </tr>\n",
       "    <tr>\n",
       "      <th>144</th>\n",
       "      <td>3</td>\n",
       "      <td>3</td>\n",
       "      <td>1</td>\n",
       "      <td>0</td>\n",
       "      <td>0</td>\n",
       "    </tr>\n",
       "  </tbody>\n",
       "</table>\n",
       "</div>"
      ],
      "text/plain": [
       "     Age  Shape  Margin  Density  Target\n",
       "725    3      3       1        2       0\n",
       "350    2      3       1        0       1\n",
       "948    3      2       2        0       1\n",
       "867    2      1       1        0       0\n",
       "144    3      3       1        0       0"
      ]
     },
     "execution_count": 3,
     "metadata": {},
     "output_type": "execute_result"
    }
   ],
   "source": [
    "df.sample(5)"
   ]
  },
  {
   "cell_type": "markdown",
   "metadata": {},
   "source": [
    "## Mô tả thuộc tính:\n",
    "---\n",
    "* 1.Age: Độ tuổi\n",
    "        * 0: Tuổi từ 0 - 16 tuổi\n",
    "        * 1: Tuổi từ 17 - 32 tuổi\n",
    "        * 2: Tuổi từ 32 - 48 tuổi\n",
    "        * 3: Tuổi từ 48 - 64 tuổi\n",
    "        * 4: Tuổi từ 64 tuổi trở lên\n",
    "* 2.Shape: Hình dáng ( 0: Lobular, 1: Round, 2:Oval )\n",
    "* 3.Margin: Viền ( 0: Spiculated, 1: Circumscribed, 2: ill-defined, 3: Obscured, 4: Microlobulated)\n",
    "* 4.Density: Tỉ trọng ( 0: Low, 1: High, 2: Iso, 3: Fat-containing)\n",
    "* 5.Target: Kết quả ( 0: Không bị ung thư, 1: Bị ung thư)"
   ]
  },
  {
   "cell_type": "code",
   "execution_count": 4,
   "metadata": {},
   "outputs": [
    {
     "data": {
      "image/png": "[encoded data removed]",
      "text/plain": [
       "<Figure size 1000x400 with 2 Axes>"
      ]
     },
     "metadata": {},
     "output_type": "display_data"
    }
   ],
   "source": [
    "#Kiểm tra cân bằng dữ liệu\n",
    "check = df['Target'].value_counts()\n",
    "\n",
    "#Trực quan hoá dữ liệu bằng biểu đồ\n",
    "label = ['0: Không bị ung thư','1: Bị ung thư']\n",
    "\n",
    "plt.figure(figsize=(10,4))\n",
    "#Vẽ biểu đồ tròn:\n",
    "plt.subplot(1,2,1)\n",
    "plt.pie(check.values, labels = label,\n",
    "       autopct='%.1f%%')\n",
    "plt.title('Tỷ lệ dữ liệu giữa các lớp')\n",
    "\n",
    "#Vẽ biểu đồ cột:\n",
    "plt.subplot(1,2,2)\n",
    "plt.bar(label, check.values,\n",
    "       color = 'brown')\n",
    "plt.grid()\n",
    "plt.show()"
   ]
  },
  {
   "cell_type": "code",
   "execution_count": 5,
   "metadata": {},
   "outputs": [
    {
     "data": {
      "text/html": [
       "<div>\n",
       "<style scoped>\n",
       "    .dataframe tbody tr th:only-of-type {\n",
       "        vertical-align: middle;\n",
       "    }\n",
       "\n",
       "    .dataframe tbody tr th {\n",
       "        vertical-align: top;\n",
       "    }\n",
       "\n",
       "    .dataframe thead th {\n",
       "        text-align: right;\n",
       "    }\n",
       "</style>\n",
       "<table border=\"1\" class=\"dataframe\">\n",
       "  <thead>\n",
       "    <tr style=\"text-align: right;\">\n",
       "      <th></th>\n",
       "      <th>Age</th>\n",
       "      <th>Shape</th>\n",
       "      <th>Margin</th>\n",
       "      <th>Density</th>\n",
       "      <th>Target</th>\n",
       "    </tr>\n",
       "  </thead>\n",
       "  <tbody>\n",
       "    <tr>\n",
       "      <th>0</th>\n",
       "      <td>4</td>\n",
       "      <td>0</td>\n",
       "      <td>0</td>\n",
       "      <td>0</td>\n",
       "      <td>1</td>\n",
       "    </tr>\n",
       "    <tr>\n",
       "      <th>1</th>\n",
       "      <td>2</td>\n",
       "      <td>1</td>\n",
       "      <td>1</td>\n",
       "      <td>0</td>\n",
       "      <td>1</td>\n",
       "    </tr>\n",
       "    <tr>\n",
       "      <th>2</th>\n",
       "      <td>3</td>\n",
       "      <td>2</td>\n",
       "      <td>0</td>\n",
       "      <td>0</td>\n",
       "      <td>1</td>\n",
       "    </tr>\n",
       "    <tr>\n",
       "      <th>3</th>\n",
       "      <td>1</td>\n",
       "      <td>1</td>\n",
       "      <td>1</td>\n",
       "      <td>0</td>\n",
       "      <td>0</td>\n",
       "    </tr>\n",
       "    <tr>\n",
       "      <th>4</th>\n",
       "      <td>4</td>\n",
       "      <td>1</td>\n",
       "      <td>0</td>\n",
       "      <td>0</td>\n",
       "      <td>1</td>\n",
       "    </tr>\n",
       "  </tbody>\n",
       "</table>\n",
       "</div>"
      ],
      "text/plain": [
       "   Age  Shape  Margin  Density  Target\n",
       "0    4      0       0        0       1\n",
       "1    2      1       1        0       1\n",
       "2    3      2       0        0       1\n",
       "3    1      1       1        0       0\n",
       "4    4      1       0        0       1"
      ]
     },
     "execution_count": 5,
     "metadata": {},
     "output_type": "execute_result"
    }
   ],
   "source": [
    "df.head()"
   ]
  },
  {
   "cell_type": "code",
   "execution_count": 6,
   "metadata": {},
   "outputs": [
    {
     "name": "stdout",
     "output_type": "stream",
     "text": [
      "Kích thước biến X:  (961, 4)\n"
     ]
    }
   ],
   "source": [
    "X = df.loc[:,['Age', 'Shape', 'Margin', 'Density']].values\n",
    "print('Kích thước biến X: ', X.shape)"
   ]
  },
  {
   "cell_type": "code",
   "execution_count": 7,
   "metadata": {},
   "outputs": [
    {
     "data": {
      "text/plain": [
       "array([[4, 0, 0, 0],\n",
       "       [2, 1, 1, 0],\n",
       "       [3, 2, 0, 0],\n",
       "       ...,\n",
       "       [3, 2, 0, 0],\n",
       "       [4, 2, 0, 0],\n",
       "       [3, 0, 3, 0]], dtype=int64)"
      ]
     },
     "execution_count": 7,
     "metadata": {},
     "output_type": "execute_result"
    }
   ],
   "source": [
    "X"
   ]
  },
  {
   "cell_type": "code",
   "execution_count": 8,
   "metadata": {},
   "outputs": [
    {
     "name": "stdout",
     "output_type": "stream",
     "text": [
      "Kích thước biến y:  (961,)\n"
     ]
    }
   ],
   "source": [
    "y = df.loc[:, 'Target'].values\n",
    "print('Kích thước biến y: ', y.shape)"
   ]
  },
  {
   "cell_type": "code",
   "execution_count": 9,
   "metadata": {},
   "outputs": [
    {
     "data": {
      "text/plain": [
       "array([1, 1, 1, 0, 1, 0, 0, 0, 1, 1, 1, 1, 0, 0, 0, 0, 0, 1, 1, 0, 1, 1,\n",
       "       0, 1, 1, 1, 0, 0, 1, 0, 0, 1, 1, 0, 0, 0, 0, 1, 1, 0, 0, 0, 0, 0,\n",
       "       1, 1, 1, 0, 0, 1, 0, 1, 0, 0, 1, 0, 0, 0, 0, 1, 1, 1, 0, 0, 1, 0,\n",
       "       0, 1, 0, 0, 0, 1, 0, 1, 1, 0, 1, 0, 1, 0, 0, 1, 1, 0, 1, 0, 1, 0,\n",
       "       0, 1, 1, 1, 0, 1, 0, 1, 0, 0, 0, 0, 0, 0, 0, 0, 0, 0, 1, 0, 0, 1,\n",
       "       0, 1, 0, 0, 0, 0, 0, 0, 1, 0, 1, 0, 0, 0, 0, 0, 0, 0, 0, 1, 1, 1,\n",
       "       0, 0, 1, 1, 1, 1, 0, 1, 1, 0, 0, 0, 0, 1, 1, 1, 1, 0, 1, 1, 0, 0,\n",
       "       0, 0, 1, 0, 0, 1, 1, 0, 0, 0, 0, 1, 1, 0, 1, 1, 0, 0, 0, 0, 0, 1,\n",
       "       0, 0, 0, 1, 0, 0, 0, 0, 1, 1, 1, 0, 1, 1, 0, 1, 0, 1, 0, 1, 0, 1,\n",
       "       0, 0, 0, 0, 1, 0, 0, 1, 0, 1, 0, 0, 0, 0, 1, 1, 1, 0, 0, 0, 0, 0,\n",
       "       0, 0, 1, 1, 1, 0, 1, 0, 0, 0, 0, 1, 1, 0, 1, 0, 0, 0, 1, 0, 1, 0,\n",
       "       0, 0, 1, 0, 0, 1, 0, 0, 0, 1, 0, 1, 1, 0, 1, 1, 1, 1, 1, 0, 0, 0,\n",
       "       1, 0, 1, 0, 1, 1, 1, 1, 1, 0, 1, 0, 1, 0, 1, 0, 1, 0, 0, 1, 1, 1,\n",
       "       0, 0, 1, 0, 1, 0, 1, 1, 0, 1, 0, 1, 0, 1, 1, 0, 0, 0, 0, 0, 0, 0,\n",
       "       0, 0, 1, 1, 1, 1, 0, 1, 0, 0, 0, 1, 1, 1, 0, 1, 0, 0, 0, 0, 1, 1,\n",
       "       1, 0, 1, 1, 0, 1, 1, 1, 1, 0, 1, 1, 0, 0, 0, 1, 0, 1, 0, 0, 1, 1,\n",
       "       0, 0, 1, 0, 0, 1, 1, 0, 1, 1, 0, 1, 0, 0, 0, 1, 1, 1, 1, 0, 0, 0,\n",
       "       1, 1, 0, 1, 0, 1, 0, 1, 1, 0, 0, 1, 0, 0, 0, 0, 1, 1, 0, 0, 0, 1,\n",
       "       1, 0, 0, 1, 0, 1, 0, 1, 1, 1, 1, 0, 0, 1, 0, 1, 0, 1, 1, 1, 0, 1,\n",
       "       1, 1, 1, 0, 0, 0, 1, 0, 1, 0, 1, 1, 0, 1, 0, 1, 1, 1, 1, 1, 0, 1,\n",
       "       1, 1, 0, 1, 1, 1, 0, 0, 1, 1, 1, 0, 0, 1, 0, 0, 1, 1, 1, 0, 0, 0,\n",
       "       1, 0, 0, 0, 1, 1, 0, 1, 0, 1, 0, 0, 0, 0, 0, 0, 1, 0, 1, 0, 0, 0,\n",
       "       0, 0, 0, 1, 1, 0, 1, 1, 1, 1, 1, 1, 1, 0, 0, 1, 0, 1, 0, 0, 0, 0,\n",
       "       1, 1, 1, 1, 0, 0, 1, 1, 1, 0, 0, 1, 0, 0, 1, 1, 1, 0, 0, 1, 1, 1,\n",
       "       0, 1, 0, 0, 0, 0, 0, 1, 0, 1, 1, 0, 0, 0, 0, 1, 1, 0, 0, 1, 1, 1,\n",
       "       1, 0, 0, 0, 1, 0, 0, 1, 0, 1, 1, 0, 0, 0, 1, 1, 0, 0, 0, 1, 0, 0,\n",
       "       0, 0, 0, 1, 0, 0, 1, 0, 0, 0, 0, 1, 0, 0, 0, 0, 1, 1, 0, 1, 1, 0,\n",
       "       0, 0, 1, 0, 1, 1, 0, 1, 1, 1, 0, 1, 1, 0, 0, 1, 1, 1, 0, 1, 1, 0,\n",
       "       1, 0, 1, 0, 0, 0, 0, 1, 1, 0, 1, 0, 0, 0, 0, 0, 0, 1, 0, 1, 0, 0,\n",
       "       0, 1, 1, 0, 1, 0, 0, 0, 1, 0, 0, 1, 0, 1, 0, 1, 0, 1, 1, 0, 0, 1,\n",
       "       1, 0, 1, 1, 1, 0, 0, 0, 1, 0, 1, 1, 1, 1, 1, 1, 1, 1, 1, 0, 0, 0,\n",
       "       0, 1, 1, 1, 1, 1, 1, 1, 0, 0, 1, 1, 0, 0, 0, 1, 0, 1, 1, 1, 0, 1,\n",
       "       0, 1, 0, 0, 1, 0, 0, 0, 1, 1, 0, 0, 0, 1, 1, 0, 0, 0, 1, 0, 1, 0,\n",
       "       1, 1, 0, 0, 1, 1, 0, 0, 0, 0, 0, 1, 0, 0, 0, 0, 0, 0, 0, 0, 1, 0,\n",
       "       1, 0, 0, 0, 1, 1, 0, 0, 1, 1, 1, 1, 0, 1, 1, 1, 0, 1, 1, 0, 0, 1,\n",
       "       0, 0, 1, 0, 1, 0, 0, 0, 0, 0, 0, 0, 1, 1, 0, 1, 0, 1, 1, 0, 0, 1,\n",
       "       1, 0, 0, 1, 1, 1, 0, 1, 1, 1, 0, 0, 0, 1, 1, 0, 1, 0, 1, 1, 1, 0,\n",
       "       1, 0, 0, 0, 0, 0, 1, 0, 0, 1, 1, 0, 1, 1, 0, 1, 1, 0, 1, 1, 0, 1,\n",
       "       0, 1, 0, 0, 0, 0, 1, 0, 0, 0, 0, 0, 1, 0, 0, 1, 0, 0, 1, 0, 1, 0,\n",
       "       1, 1, 1, 1, 1, 1, 1, 0, 1, 0, 0, 0, 1, 0, 1, 1, 0, 0, 0, 0, 1, 0,\n",
       "       1, 1, 0, 1, 1, 1, 0, 1, 1, 1, 1, 1, 1, 0, 0, 1, 0, 1, 0, 1, 1, 1,\n",
       "       0, 1, 1, 0, 0, 1, 1, 0, 1, 0, 1, 0, 1, 0, 0, 1, 0, 0, 0, 1, 0, 1,\n",
       "       1, 0, 1, 0, 1, 0, 0, 1, 0, 0, 0, 1, 0, 0, 0, 0, 1, 0, 1, 0, 1, 0,\n",
       "       0, 0, 1, 0, 1, 1, 1, 0, 0, 1, 0, 1, 0, 1, 0], dtype=int64)"
      ]
     },
     "execution_count": 9,
     "metadata": {},
     "output_type": "execute_result"
    }
   ],
   "source": [
    "y"
   ]
  },
  {
   "cell_type": "markdown",
   "metadata": {},
   "source": [
    "### 3. Tách tập dữ liệu ra tập Training - Test: \n",
    "---\n",
    "1. Biến độc lập X --> X_train, X_test\n",
    "2. Biến phụ thuộc y --> y_train, y_test\n",
    "\n",
    "* Tập Training set (X_train, y_train): dùng để huấn luyện mô hình (80%)\n",
    "* Tập Test set (X_test, y_test): dùng để kiểm thử mô hình (20%)"
   ]
  },
  {
   "cell_type": "code",
   "execution_count": 10,
   "metadata": {},
   "outputs": [
    {
     "name": "stdout",
     "output_type": "stream",
     "text": [
      "Tổng số mẫu trong tập dữ liệu:  961\n",
      "Số mẫu X trong tập Train:  720\n",
      "Số mẫu y trong tập Train:  720\n",
      "Số mẫu X trong tập Test:  241\n",
      "Số mẫu y trong tập Test:  241\n"
     ]
    }
   ],
   "source": [
    "from sklearn.model_selection import train_test_split\n",
    "\n",
    "X_train, X_test, y_train, y_test = train_test_split(X,\n",
    "                                                   y,\n",
    "                                                   train_size = 0.75,\n",
    "                                                   shuffle = True)\n",
    "print('Tổng số mẫu trong tập dữ liệu: ', len(y))\n",
    "print('Số mẫu X trong tập Train: ', len(X_train))\n",
    "print('Số mẫu y trong tập Train: ', len(y_train))\n",
    "print('Số mẫu X trong tập Test: ', len(X_test))\n",
    "print('Số mẫu y trong tập Test: ', len(y_test))"
   ]
  },
  {
   "cell_type": "code",
   "execution_count": 11,
   "metadata": {},
   "outputs": [
    {
     "name": "stdout",
     "output_type": "stream",
     "text": [
      "[[4 3 3 0]\n",
      " [3 1 1 0]\n",
      " [4 2 2 0]\n",
      " [2 3 1 0]\n",
      " [4 2 2 0]\n",
      " [4 2 0 0]\n",
      " [2 2 3 0]\n",
      " [1 1 1 0]\n",
      " [2 3 3 0]\n",
      " [3 0 1 3]\n",
      " [4 2 0 0]\n",
      " [3 0 3 0]\n",
      " [3 2 2 3]\n",
      " [4 2 3 0]\n",
      " [2 1 1 0]\n",
      " [3 2 2 0]\n",
      " [3 2 3 0]\n",
      " [3 1 1 0]\n",
      " [2 2 2 2]\n",
      " [4 2 0 0]\n",
      " [4 2 0 0]\n",
      " [3 2 3 0]\n",
      " [2 3 1 2]\n",
      " [1 1 1 0]\n",
      " [1 1 1 0]\n",
      " [3 2 2 2]\n",
      " [3 2 0 0]\n",
      " [3 3 1 2]\n",
      " [3 2 2 0]\n",
      " [3 0 3 0]\n",
      " [2 1 1 0]\n",
      " [3 0 1 0]\n",
      " [3 3 2 0]\n",
      " [4 2 2 0]\n",
      " [3 1 1 0]\n",
      " [3 2 0 0]\n",
      " [3 0 3 0]\n",
      " [4 2 2 0]\n",
      " [2 3 1 0]\n",
      " [2 1 1 0]\n",
      " [2 3 1 0]\n",
      " [4 1 1 0]\n",
      " [2 3 1 2]\n",
      " [4 2 2 0]\n",
      " [2 0 1 2]\n",
      " [4 2 1 0]\n",
      " [3 0 2 0]\n",
      " [3 0 2 3]\n",
      " [3 2 3 2]\n",
      " [4 0 1 2]\n",
      " [2 1 1 1]\n",
      " [3 1 1 0]\n",
      " [4 1 0 0]\n",
      " [2 1 1 0]\n",
      " [2 3 1 0]\n",
      " [4 3 1 0]\n",
      " [1 3 1 0]\n",
      " [3 2 3 0]\n",
      " [2 3 2 0]\n",
      " [2 3 1 0]\n",
      " [4 3 1 0]\n",
      " [4 0 2 0]\n",
      " [3 2 0 0]\n",
      " [3 2 4 0]\n",
      " [3 1 1 0]\n",
      " [3 3 1 0]\n",
      " [3 3 2 0]\n",
      " [4 3 2 0]\n",
      " [3 1 0 0]\n",
      " [3 2 2 0]\n",
      " [2 2 0 0]\n",
      " [2 3 1 0]\n",
      " [1 1 1 0]\n",
      " [2 2 2 0]\n",
      " [3 2 2 0]\n",
      " [3 3 1 0]\n",
      " [2 3 1 0]\n",
      " [3 2 2 0]\n",
      " [3 3 1 0]\n",
      " [2 3 1 0]\n",
      " [2 2 2 0]\n",
      " [3 2 0 0]\n",
      " [2 0 1 0]\n",
      " [4 1 1 1]\n",
      " [3 2 2 0]\n",
      " [3 2 2 0]\n",
      " [3 2 2 0]\n",
      " [3 0 2 0]\n",
      " [2 2 2 0]\n",
      " [4 2 0 0]\n",
      " [2 1 1 0]\n",
      " [3 2 0 0]\n",
      " [3 3 2 0]\n",
      " [4 2 1 2]\n",
      " [2 1 1 0]\n",
      " [4 2 2 0]\n",
      " [2 1 3 0]\n",
      " [3 3 1 0]\n",
      " [4 0 1 0]\n",
      " [2 3 3 0]\n",
      " [4 2 2 0]\n",
      " [3 2 3 0]\n",
      " [3 1 1 0]\n",
      " [4 2 2 1]\n",
      " [2 1 1 0]\n",
      " [3 2 1 0]\n",
      " [1 1 1 0]\n",
      " [4 0 0 0]\n",
      " [4 2 2 0]\n",
      " [4 3 0 0]\n",
      " [2 3 1 0]\n",
      " [3 3 1 0]\n",
      " [2 2 3 0]\n",
      " [4 1 1 0]\n",
      " [4 0 4 0]\n",
      " [4 2 0 0]\n",
      " [2 3 3 0]\n",
      " [4 2 2 0]\n",
      " [1 1 1 0]\n",
      " [3 2 2 0]\n",
      " [3 3 1 2]\n",
      " [2 1 1 0]\n",
      " [3 2 0 0]\n",
      " [3 2 2 2]\n",
      " [1 1 1 0]\n",
      " [4 2 2 0]\n",
      " [3 3 1 0]\n",
      " [3 3 1 0]\n",
      " [2 1 1 0]\n",
      " [4 2 0 0]\n",
      " [3 3 1 0]\n",
      " [2 1 1 0]\n",
      " [2 3 1 2]\n",
      " [4 2 2 0]\n",
      " [1 0 1 0]\n",
      " [3 3 1 0]\n",
      " [3 3 1 0]\n",
      " [4 0 3 0]\n",
      " [3 1 1 0]\n",
      " [2 1 1 0]\n",
      " [3 2 2 0]\n",
      " [3 1 1 0]\n",
      " [4 2 2 0]\n",
      " [2 3 1 0]\n",
      " [3 3 1 0]\n",
      " [3 2 2 2]\n",
      " [3 3 2 0]\n",
      " [3 3 2 0]\n",
      " [3 2 0 0]\n",
      " [3 1 1 0]\n",
      " [3 2 3 0]\n",
      " [3 1 1 0]\n",
      " [4 2 2 0]\n",
      " [3 2 2 0]\n",
      " [3 1 1 0]\n",
      " [3 2 2 0]\n",
      " [3 3 2 0]\n",
      " [3 2 1 0]\n",
      " [1 0 1 0]\n",
      " [3 1 1 0]\n",
      " [2 2 0 0]\n",
      " [4 1 1 0]\n",
      " [4 2 3 0]\n",
      " [2 0 1 0]\n",
      " [3 3 2 0]\n",
      " [3 1 1 3]\n",
      " [3 1 1 0]\n",
      " [3 0 3 0]\n",
      " [3 3 1 0]\n",
      " [3 0 1 0]\n",
      " [4 2 0 0]\n",
      " [1 3 1 0]\n",
      " [2 3 1 0]\n",
      " [1 1 1 0]\n",
      " [4 2 3 0]\n",
      " [2 2 1 1]\n",
      " [4 0 4 0]\n",
      " [2 1 1 0]\n",
      " [3 1 1 0]\n",
      " [3 2 2 1]\n",
      " [4 1 1 0]\n",
      " [3 2 0 0]\n",
      " [1 3 1 0]\n",
      " [4 3 1 2]\n",
      " [2 2 2 0]\n",
      " [3 2 2 0]\n",
      " [3 3 2 0]\n",
      " [4 2 3 0]\n",
      " [2 3 1 0]\n",
      " [4 2 0 0]\n",
      " [3 3 1 0]\n",
      " [4 2 2 0]\n",
      " [1 1 1 0]\n",
      " [4 2 3 0]\n",
      " [2 0 2 0]\n",
      " [3 0 3 0]\n",
      " [2 3 3 0]\n",
      " [3 3 1 0]\n",
      " [3 2 2 0]\n",
      " [2 2 3 0]\n",
      " [2 3 1 0]\n",
      " [4 2 2 0]\n",
      " [1 3 1 0]\n",
      " [2 2 2 0]\n",
      " [2 1 1 0]\n",
      " [4 2 3 0]\n",
      " [2 2 0 2]\n",
      " [4 2 0 0]\n",
      " [3 3 1 0]\n",
      " [4 2 3 0]\n",
      " [3 2 2 0]\n",
      " [4 2 0 0]\n",
      " [2 1 1 0]\n",
      " [4 2 2 0]\n",
      " [3 1 1 0]\n",
      " [4 0 2 0]\n",
      " [4 2 3 0]\n",
      " [3 1 1 0]\n",
      " [3 3 2 0]\n",
      " [2 1 1 0]\n",
      " [2 3 1 0]\n",
      " [3 2 2 0]\n",
      " [3 1 1 0]\n",
      " [3 0 2 0]\n",
      " [4 2 2 0]\n",
      " [1 1 1 0]\n",
      " [1 1 1 0]\n",
      " [3 2 3 0]\n",
      " [4 2 0 0]\n",
      " [3 2 2 0]\n",
      " [3 2 2 0]\n",
      " [3 2 2 0]\n",
      " [2 1 1 0]\n",
      " [4 2 2 0]\n",
      " [2 2 0 0]\n",
      " [2 1 1 0]\n",
      " [2 1 1 0]\n",
      " [2 3 1 0]\n",
      " [4 3 1 0]\n",
      " [2 2 3 0]\n",
      " [3 2 0 0]]\n",
      "[0 0 1 0 1 1 1 0 0 0 1 0 1 0 0 1 1 0 1 1 1 1 0 0 0 0 1 0 1 0 0 0 1 1 0 1 1\n",
      " 1 0 0 0 1 0 1 0 1 0 0 0 0 1 0 1 0 0 0 0 1 0 0 0 1 1 0 0 0 0 1 1 1 0 0 0 1\n",
      " 0 0 1 0 0 0 1 1 0 0 0 1 1 0 0 1 0 1 0 0 0 1 0 0 1 0 1 1 0 1 0 1 0 1 1 1 0\n",
      " 0 0 0 1 0 0 1 0 1 0 0 1 1 0 1 0 0 0 1 0 0 0 1 0 0 0 1 0 0 1 0 1 0 0 1 1 0\n",
      " 1 0 1 0 1 1 1 0 0 1 0 0 1 0 1 1 0 0 0 1 0 0 1 0 0 0 1 0 1 0 0 0 0 1 0 0 1\n",
      " 0 1 0 0 1 0 0 0 1 0 1 0 0 0 1 0 1 0 1 0 1 1 1 0 1 0 1 0 1 0 1 1 0 1 0 0 0\n",
      " 0 1 0 0 0 1 1 1 0 1 1 1 1 0 0 0 0 0 1]\n"
     ]
    }
   ],
   "source": [
    "print(X_test)\n",
    "print(y_test)"
   ]
  },
  {
   "cell_type": "markdown",
   "metadata": {},
   "source": [
    "### 4. Xây dựng mô hình KNN cho bài toán phân lớp\n",
    "---\n",
    "Khai báo model KNN sử dụng thư viện sklearn:\n",
    "sklearn.neighbors --> KNeighborsClassifier"
   ]
  },
  {
   "cell_type": "markdown",
   "metadata": {},
   "source": [
    "#Gọi thư viện sklearn với thuật toán phân lớp KNN\n",
    "from sklearn.neighbors import KNeighborsClassifier\n",
    "\n",
    "#Khai báo model KNN sử dụng các tham số mặc định\n",
    "KNN_ungthu = KNeighborsClassifier(n_neighbors = 5)\n",
    "\n",
    "#Hiển thị danh sách tham số: Model.get_params()\n",
    "KNN_ungthu.get_paras()"
   ]
  },
  {
   "cell_type": "code",
   "execution_count": 12,
   "metadata": {},
   "outputs": [
    {
     "data": {
      "text/plain": [
       "{'algorithm': 'auto',\n",
       " 'leaf_size': 30,\n",
       " 'metric': 'minkowski',\n",
       " 'metric_params': None,\n",
       " 'n_jobs': None,\n",
       " 'n_neighbors': 5,\n",
       " 'p': 2,\n",
       " 'weights': 'uniform'}"
      ]
     },
     "execution_count": 12,
     "metadata": {},
     "output_type": "execute_result"
    }
   ],
   "source": [
    "#Gọi thư viện sklearn với thuật toán phân lớp KNN\n",
    "from sklearn.neighbors import KNeighborsClassifier\n",
    "\n",
    "#Khai báo model KNN sử dụng các tham số mặc định\n",
    "KNN_ungthu = KNeighborsClassifier(n_neighbors = 5)\n",
    "\n",
    "#Hiển thị danh sách tham số: Model.get_params()\n",
    "KNN_ungthu.get_params()"
   ]
  },
  {
   "cell_type": "markdown",
   "metadata": {},
   "source": [
    "### Một số tham số quan trọng của thuật toán KNN trong thư viện sklearn:\n",
    "Tham khảo KNN của thư viện sklearn:\n",
    "https://scikit-learn.org/stable/modules/generated/sklearn.neighbors.KNeighborsClassifier.html\n",
    "\n",
    "\n",
    "1. n_neighbors: số điểm lân cận sử dụng (default = 5)\n",
    "2. weights: có tính trọng số của các điểm lân cận hay không?\n",
    "    * uniform: Tất cả các điểm lân cận đều có trọng số như nhau (default)\n",
    "    * distance: Các điểm lân cận gần hơn sẽ được đánh trọng số cao hơn\n",
    "3. algorithm: Thuật toán sử dụng để tính các điểm lân cận: ball_tree, kd_tree, brute, auto (default)\n",
    "4. p: xác định khoảng cách tính theo manhattan (p=1) hay tính theo euclidean (p=2 default)\n"
   ]
  },
  {
   "cell_type": "markdown",
   "metadata": {},
   "source": [
    "### 5. Huấn luyện mô hình\n",
    "---\n",
    "Sử dụng tập dữ liệu Training set để huấn luyện mô hình"
   ]
  },
  {
   "cell_type": "code",
   "execution_count": 13,
   "metadata": {},
   "outputs": [
    {
     "data": {
      "text/html": [
       "<style>#sk-container-id-1 {color: black;}#sk-container-id-1 pre{padding: 0;}#sk-container-id-1 div.sk-toggleable {background-color: white;}#sk-container-id-1 label.sk-toggleable__label {cursor: pointer;display: block;width: 100%;margin-bottom: 0;padding: 0.3em;box-sizing: border-box;text-align: center;}#sk-container-id-1 label.sk-toggleable__label-arrow:before {content: \"▸\";float: left;margin-right: 0.25em;color: #696969;}#sk-container-id-1 label.sk-toggleable__label-arrow:hover:before {color: black;}#sk-container-id-1 div.sk-estimator:hover label.sk-toggleable__label-arrow:before {color: black;}#sk-container-id-1 div.sk-toggleable__content {max-height: 0;max-width: 0;overflow: hidden;text-align: left;background-color: #f0f8ff;}#sk-container-id-1 div.sk-toggleable__content pre {margin: 0.2em;color: black;border-radius: 0.25em;background-color: #f0f8ff;}#sk-container-id-1 input.sk-toggleable__control:checked~div.sk-toggleable__content {max-height: 200px;max-width: 100%;overflow: auto;}#sk-container-id-1 input.sk-toggleable__control:checked~label.sk-toggleable__label-arrow:before {content: \"▾\";}#sk-container-id-1 div.sk-estimator input.sk-toggleable__control:checked~label.sk-toggleable__label {background-color: #d4ebff;}#sk-container-id-1 div.sk-label input.sk-toggleable__control:checked~label.sk-toggleable__label {background-color: #d4ebff;}#sk-container-id-1 input.sk-hidden--visually {border: 0;clip: rect(1px 1px 1px 1px);clip: rect(1px, 1px, 1px, 1px);height: 1px;margin: -1px;overflow: hidden;padding: 0;position: absolute;width: 1px;}#sk-container-id-1 div.sk-estimator {font-family: monospace;background-color: #f0f8ff;border: 1px dotted black;border-radius: 0.25em;box-sizing: border-box;margin-bottom: 0.5em;}#sk-container-id-1 div.sk-estimator:hover {background-color: #d4ebff;}#sk-container-id-1 div.sk-parallel-item::after {content: \"\";width: 100%;border-bottom: 1px solid gray;flex-grow: 1;}#sk-container-id-1 div.sk-label:hover label.sk-toggleable__label {background-color: #d4ebff;}#sk-container-id-1 div.sk-serial::before {content: \"\";position: absolute;border-left: 1px solid gray;box-sizing: border-box;top: 0;bottom: 0;left: 50%;z-index: 0;}#sk-container-id-1 div.sk-serial {display: flex;flex-direction: column;align-items: center;background-color: white;padding-right: 0.2em;padding-left: 0.2em;position: relative;}#sk-container-id-1 div.sk-item {position: relative;z-index: 1;}#sk-container-id-1 div.sk-parallel {display: flex;align-items: stretch;justify-content: center;background-color: white;position: relative;}#sk-container-id-1 div.sk-item::before, #sk-container-id-1 div.sk-parallel-item::before {content: \"\";position: absolute;border-left: 1px solid gray;box-sizing: border-box;top: 0;bottom: 0;left: 50%;z-index: -1;}#sk-container-id-1 div.sk-parallel-item {display: flex;flex-direction: column;z-index: 1;position: relative;background-color: white;}#sk-container-id-1 div.sk-parallel-item:first-child::after {align-self: flex-end;width: 50%;}#sk-container-id-1 div.sk-parallel-item:last-child::after {align-self: flex-start;width: 50%;}#sk-container-id-1 div.sk-parallel-item:only-child::after {width: 0;}#sk-container-id-1 div.sk-dashed-wrapped {border: 1px dashed gray;margin: 0 0.4em 0.5em 0.4em;box-sizing: border-box;padding-bottom: 0.4em;background-color: white;}#sk-container-id-1 div.sk-label label {font-family: monospace;font-weight: bold;display: inline-block;line-height: 1.2em;}#sk-container-id-1 div.sk-label-container {text-align: center;}#sk-container-id-1 div.sk-container {/* jupyter's `normalize.less` sets `[hidden] { display: none; }` but bootstrap.min.css set `[hidden] { display: none !important; }` so we also need the `!important` here to be able to override the default hidden behavior on the sphinx rendered scikit-learn.org. See: https://github.com/scikit-learn/scikit-learn/issues/21755 */display: inline-block !important;position: relative;}#sk-container-id-1 div.sk-text-repr-fallback {display: none;}</style><div id=\"sk-container-id-1\" class=\"sk-top-container\"><div class=\"sk-text-repr-fallback\"><pre>KNeighborsClassifier()</pre><b>In a Jupyter environment, please rerun this cell to show the HTML representation or trust the notebook. <br />On GitHub, the HTML representation is unable to render, please try loading this page with nbviewer.org.</b></div><div class=\"sk-container\" hidden><div class=\"sk-item\"><div class=\"sk-estimator sk-toggleable\"><input class=\"sk-toggleable__control sk-hidden--visually\" id=\"sk-estimator-id-1\" type=\"checkbox\" checked><label for=\"sk-estimator-id-1\" class=\"sk-toggleable__label sk-toggleable__label-arrow\">KNeighborsClassifier</label><div class=\"sk-toggleable__content\"><pre>KNeighborsClassifier()</pre></div></div></div></div></div>"
      ],
      "text/plain": [
       "KNeighborsClassifier()"
      ]
     },
     "execution_count": 13,
     "metadata": {},
     "output_type": "execute_result"
    }
   ],
   "source": [
    "#Thực hiện huấn luyện với dữ liệu tập train: Model.fit(X_train, y_train)\n",
    "KNN_ungthu.fit(X_train, y_train)"
   ]
  },
  {
   "cell_type": "code",
   "execution_count": 14,
   "metadata": {},
   "outputs": [
    {
     "name": "stdout",
     "output_type": "stream",
     "text": [
      "Độ chính xác trên tập huấn luyện:  0.7583333333333333\n",
      "Độ chính xác % trên tập huấn luyện:  75.83\n"
     ]
    }
   ],
   "source": [
    "#Độ chính xác của model trên tập huấn luêynj: model.score(X_train, y_train)\n",
    "acc_train = KNN_ungthu.score(X_train, y_train)\n",
    "print('Độ chính xác trên tập huấn luyện: ', acc_train)\n",
    "print('Độ chính xác % trên tập huấn luyện: ', round(acc_train*100,2))\n"
   ]
  },
  {
   "cell_type": "markdown",
   "metadata": {},
   "source": [
    "## 6. Đánh giá độ chính xác của mô hình trên tập Test"
   ]
  },
  {
   "cell_type": "code",
   "execution_count": 15,
   "metadata": {},
   "outputs": [],
   "source": [
    "#Sử dụng mô hình huấn luyện dự đoán trên tập dữ liệu Test: model.predict(X_test)\n",
    "y_pred = KNN_ungthu.predict(X_test)"
   ]
  },
  {
   "cell_type": "code",
   "execution_count": 16,
   "metadata": {},
   "outputs": [
    {
     "name": "stdout",
     "output_type": "stream",
     "text": [
      "[1 0 1 0 1 1 1 0 0 0 1 0 1 1 0 0 1 0 1 1 1 1 0 0 0 1 1 0 0 0 0 0 0 1 0 1 0\n",
      " 1 0 0 0 0 0 1 0 0 0 0 1 0 0 0 1 0 0 0 0 1 1 0 0 1 1 1 0 0 0 1 1 0 1 0 0 1\n",
      " 0 0 0 0 0 0 1 1 0 1 0 0 0 0 1 1 0 1 0 0 0 1 1 0 0 0 1 1 0 1 0 0 0 1 1 1 0\n",
      " 0 1 0 1 1 0 1 0 0 0 0 1 1 0 1 0 0 0 1 0 0 0 1 0 0 0 1 0 0 0 0 1 0 0 1 0 0\n",
      " 1 0 1 0 1 0 0 0 0 0 0 0 1 0 1 0 0 0 0 0 0 0 1 0 0 0 1 0 1 0 0 1 0 1 0 0 1\n",
      " 0 0 1 0 1 0 1 0 1 0 0 0 0 0 1 0 1 0 1 0 1 0 1 0 1 0 1 0 1 0 1 1 0 0 0 0 0\n",
      " 0 0 1 0 0 1 1 0 0 0 0 1 1 0 0 0 0 1 1]\n",
      "(241,)\n"
     ]
    }
   ],
   "source": [
    "#Kết quả dự đoán của mô hình trên tập test:\n",
    "print(y_pred)\n",
    "print(y_pred.shape)"
   ]
  },
  {
   "cell_type": "code",
   "execution_count": 17,
   "metadata": {},
   "outputs": [
    {
     "name": "stdout",
     "output_type": "stream",
     "text": [
      "Kết quả thật:  [0 0 1 0 1 1 1 0 0 0 1 0 1 0 0 1 1 0 1 1]\n",
      "Kết quả đoán:  [1 0 1 0 1 1 1 0 0 0 1 0 1 1 0 0 1 0 1 1]\n"
     ]
    }
   ],
   "source": [
    "#So sánh kết quả dự đoán với kết quả thật cho 20 bệnh nhân đầu tiên:\n",
    "print('Kết quả thật: ', y_test[:20])\n",
    "print('Kết quả đoán: ', y_pred[:20])"
   ]
  },
  {
   "cell_type": "markdown",
   "metadata": {},
   "source": [
    "**Thông số để đánh giá độ chính xác mô hình phân lớp:**\n",
    "\n",
    "---\n",
    "1. Đếm số lượng mẫu dự đoán đúng trong tổng số mẫu của tập test:\n",
    "2. Accauracy: là cách đơn giản và hay được sử dụng nhất; Tính tỷ lệ % giữa số điểm được dự đoán đúng và tổng số điểm trong tập dữ liệu kiểm thử.\n",
    "3. Sử dụng ma trận nhầm lẫn (Confusion matrix)"
   ]
  },
  {
   "cell_type": "code",
   "execution_count": 18,
   "metadata": {},
   "outputs": [
    {
     "name": "stdout",
     "output_type": "stream",
     "text": [
      "Tổng số mẫu dự đoán đúng:  195 / 241\n"
     ]
    }
   ],
   "source": [
    "#Import module accuracy_score trong thư viện sklearn.metrics để đánh giá độ chính xác:\n",
    "from sklearn.metrics import accuracy_score\n",
    "\n",
    "#1.Đếm tổng số mẫu dự đoán đúng trên tập test: normalize=False\n",
    "acc_test1 = accuracy_score(y_test, y_pred, normalize = False)\n",
    "print('Tổng số mẫu dự đoán đúng: ', acc_test1, '/',len(y_test))"
   ]
  },
  {
   "cell_type": "code",
   "execution_count": 19,
   "metadata": {},
   "outputs": [
    {
     "data": {
      "text/plain": [
       "0.7875647668393783"
      ]
     },
     "execution_count": 19,
     "metadata": {},
     "output_type": "execute_result"
    }
   ],
   "source": [
    "152/193"
   ]
  },
  {
   "cell_type": "code",
   "execution_count": 20,
   "metadata": {},
   "outputs": [
    {
     "name": "stdout",
     "output_type": "stream",
     "text": [
      "Độ chính xác của mô hình trên tập test  0.8091286307053942\n",
      "Độ chính xác % của mô hình trên tập test  80.91\n"
     ]
    }
   ],
   "source": [
    "#2. độc chính xác(accuracy) theo tỉ lệ %\n",
    "# số mẫu dự đoán đúng/tổng số mẫu của tập test: normalize = True\n",
    "acc_test2 = accuracy_score(y_test, y_pred, normalize = True)\n",
    "print('Độ chính xác của mô hình trên tập test ', acc_test2)\n",
    "print('Độ chính xác % của mô hình trên tập test ', round(acc_test2*100,2))"
   ]
  },
  {
   "cell_type": "code",
   "execution_count": 21,
   "metadata": {},
   "outputs": [
    {
     "data": {
      "image/png": "[encoded data removed]",
      "text/plain": [
       "<Figure size 640x480 with 2 Axes>"
      ]
     },
     "metadata": {},
     "output_type": "display_data"
    }
   ],
   "source": [
    "#3. sử dụng ma trận confussion matrix kiểm tra kết quả:\n",
    "from sklearn.metrics import confusion_matrix, ConfusionMatrixDisplay\n",
    "\n",
    "#Tính ma trận confusion matrix:\n",
    "cnf_matrix_ungthu = confusion_matrix(y_test, y_pred)\n",
    "\n",
    "#Hiển thị ma trận:\n",
    "ConfusionMatrixDisplay.from_predictions(y_test, y_pred)\n",
    "plt.title('Confusion matrix Test Set - Ung thư:')\n",
    "plt.show()"
   ]
  },
  {
   "cell_type": "markdown",
   "metadata": {},
   "source": [
    "### 7. Thay đổi tham số của mô hình\n",
    "---\n",
    "* n_neighbors: số điểm lân cận (K nên chọn là số lẻ)\n",
    "* weights: Đánh trọng số cho các điểm lân cận**\n",
    "    * Trong kỹ thuật major voting bên trên, mỗi trong 11 điểm gần nhất được coi là có vai trò như nhau và giá trị lá phiếu của mỗi điểm này là như nhau. Trong thực tế ta thấy rằng những điểm gần hơn nên có trọng số cao hơn (càng thân cận thì càng tin tưởng). Vậy nên sẽ đánh trọng số khác nhau cho mỗi trong 11 điểm gần nhất này. Cách đánh trọng số phải thoải mãn điều kiện là một điểm càng gần điểm test data thì phải được đánh trọng số càng cao (tin tưởng hơn).\n",
    "\n",
    "    * Scikit-learn giúp chúng ta đơn giản hóa việc này bằng cách gán gía trị weights = 'distance'. (Giá trị mặc định của weights là 'uniform', tương ứng với việc coi tất cả các điểm lân cận có giá trị như nhau như ở trên)."
   ]
  },
  {
   "cell_type": "markdown",
   "metadata": {},
   "source": [
    "## Lần 2"
   ]
  },
  {
   "cell_type": "code",
   "execution_count": 22,
   "metadata": {},
   "outputs": [
    {
     "data": {
      "text/plain": [
       "{'algorithm': 'auto',\n",
       " 'leaf_size': 30,\n",
       " 'metric': 'minkowski',\n",
       " 'metric_params': None,\n",
       " 'n_jobs': None,\n",
       " 'n_neighbors': 11,\n",
       " 'p': 2,\n",
       " 'weights': 'uniform'}"
      ]
     },
     "execution_count": 22,
     "metadata": {},
     "output_type": "execute_result"
    }
   ],
   "source": [
    "#Khai báo mô hình mới bằng cách thay đổi tham số n_neighbors, weights:\n",
    "KNN_ungthu2 = KNeighborsClassifier(n_neighbors = 11)\n",
    "\n",
    "#Các tham số mới vủa Model:\n",
    "KNN_ungthu2.get_params()"
   ]
  },
  {
   "cell_type": "code",
   "execution_count": 23,
   "metadata": {},
   "outputs": [
    {
     "data": {
      "text/html": [
       "<style>#sk-container-id-2 {color: black;}#sk-container-id-2 pre{padding: 0;}#sk-container-id-2 div.sk-toggleable {background-color: white;}#sk-container-id-2 label.sk-toggleable__label {cursor: pointer;display: block;width: 100%;margin-bottom: 0;padding: 0.3em;box-sizing: border-box;text-align: center;}#sk-container-id-2 label.sk-toggleable__label-arrow:before {content: \"▸\";float: left;margin-right: 0.25em;color: #696969;}#sk-container-id-2 label.sk-toggleable__label-arrow:hover:before {color: black;}#sk-container-id-2 div.sk-estimator:hover label.sk-toggleable__label-arrow:before {color: black;}#sk-container-id-2 div.sk-toggleable__content {max-height: 0;max-width: 0;overflow: hidden;text-align: left;background-color: #f0f8ff;}#sk-container-id-2 div.sk-toggleable__content pre {margin: 0.2em;color: black;border-radius: 0.25em;background-color: #f0f8ff;}#sk-container-id-2 input.sk-toggleable__control:checked~div.sk-toggleable__content {max-height: 200px;max-width: 100%;overflow: auto;}#sk-container-id-2 input.sk-toggleable__control:checked~label.sk-toggleable__label-arrow:before {content: \"▾\";}#sk-container-id-2 div.sk-estimator input.sk-toggleable__control:checked~label.sk-toggleable__label {background-color: #d4ebff;}#sk-container-id-2 div.sk-label input.sk-toggleable__control:checked~label.sk-toggleable__label {background-color: #d4ebff;}#sk-container-id-2 input.sk-hidden--visually {border: 0;clip: rect(1px 1px 1px 1px);clip: rect(1px, 1px, 1px, 1px);height: 1px;margin: -1px;overflow: hidden;padding: 0;position: absolute;width: 1px;}#sk-container-id-2 div.sk-estimator {font-family: monospace;background-color: #f0f8ff;border: 1px dotted black;border-radius: 0.25em;box-sizing: border-box;margin-bottom: 0.5em;}#sk-container-id-2 div.sk-estimator:hover {background-color: #d4ebff;}#sk-container-id-2 div.sk-parallel-item::after {content: \"\";width: 100%;border-bottom: 1px solid gray;flex-grow: 1;}#sk-container-id-2 div.sk-label:hover label.sk-toggleable__label {background-color: #d4ebff;}#sk-container-id-2 div.sk-serial::before {content: \"\";position: absolute;border-left: 1px solid gray;box-sizing: border-box;top: 0;bottom: 0;left: 50%;z-index: 0;}#sk-container-id-2 div.sk-serial {display: flex;flex-direction: column;align-items: center;background-color: white;padding-right: 0.2em;padding-left: 0.2em;position: relative;}#sk-container-id-2 div.sk-item {position: relative;z-index: 1;}#sk-container-id-2 div.sk-parallel {display: flex;align-items: stretch;justify-content: center;background-color: white;position: relative;}#sk-container-id-2 div.sk-item::before, #sk-container-id-2 div.sk-parallel-item::before {content: \"\";position: absolute;border-left: 1px solid gray;box-sizing: border-box;top: 0;bottom: 0;left: 50%;z-index: -1;}#sk-container-id-2 div.sk-parallel-item {display: flex;flex-direction: column;z-index: 1;position: relative;background-color: white;}#sk-container-id-2 div.sk-parallel-item:first-child::after {align-self: flex-end;width: 50%;}#sk-container-id-2 div.sk-parallel-item:last-child::after {align-self: flex-start;width: 50%;}#sk-container-id-2 div.sk-parallel-item:only-child::after {width: 0;}#sk-container-id-2 div.sk-dashed-wrapped {border: 1px dashed gray;margin: 0 0.4em 0.5em 0.4em;box-sizing: border-box;padding-bottom: 0.4em;background-color: white;}#sk-container-id-2 div.sk-label label {font-family: monospace;font-weight: bold;display: inline-block;line-height: 1.2em;}#sk-container-id-2 div.sk-label-container {text-align: center;}#sk-container-id-2 div.sk-container {/* jupyter's `normalize.less` sets `[hidden] { display: none; }` but bootstrap.min.css set `[hidden] { display: none !important; }` so we also need the `!important` here to be able to override the default hidden behavior on the sphinx rendered scikit-learn.org. See: https://github.com/scikit-learn/scikit-learn/issues/21755 */display: inline-block !important;position: relative;}#sk-container-id-2 div.sk-text-repr-fallback {display: none;}</style><div id=\"sk-container-id-2\" class=\"sk-top-container\"><div class=\"sk-text-repr-fallback\"><pre>KNeighborsClassifier(n_neighbors=11)</pre><b>In a Jupyter environment, please rerun this cell to show the HTML representation or trust the notebook. <br />On GitHub, the HTML representation is unable to render, please try loading this page with nbviewer.org.</b></div><div class=\"sk-container\" hidden><div class=\"sk-item\"><div class=\"sk-estimator sk-toggleable\"><input class=\"sk-toggleable__control sk-hidden--visually\" id=\"sk-estimator-id-2\" type=\"checkbox\" checked><label for=\"sk-estimator-id-2\" class=\"sk-toggleable__label sk-toggleable__label-arrow\">KNeighborsClassifier</label><div class=\"sk-toggleable__content\"><pre>KNeighborsClassifier(n_neighbors=11)</pre></div></div></div></div></div>"
      ],
      "text/plain": [
       "KNeighborsClassifier(n_neighbors=11)"
      ]
     },
     "execution_count": 23,
     "metadata": {},
     "output_type": "execute_result"
    }
   ],
   "source": [
    "#Thực hiển huấn luyện với dữ liệu tập train\n",
    "KNN_ungthu2.fit(X_train, y_train)"
   ]
  },
  {
   "cell_type": "code",
   "execution_count": 24,
   "metadata": {},
   "outputs": [
    {
     "name": "stdout",
     "output_type": "stream",
     "text": [
      "Độ chính xác trên tập huấn luyện:  73.47\n"
     ]
    }
   ],
   "source": [
    "#Độ chính xác của Model trên tập huấn luyện\n",
    "acc_train = KNN_ungthu2.score(X_train, y_train)\n",
    "\n",
    "print('Độ chính xác trên tập huấn luyện: ', round(acc_train*100,2))"
   ]
  },
  {
   "cell_type": "code",
   "execution_count": 25,
   "metadata": {},
   "outputs": [
    {
     "name": "stdout",
     "output_type": "stream",
     "text": [
      "Kết quả dự đoán bệnh nhân có bị ung thư hay không trên tập dữ liệu Test: \n",
      "Kết quả cho 20 hành khách đầu tiên:\n",
      "Predictd label:  [1 0 1 0 1 1 1 0 0 0 1 1 1 1 0 0 1 0 1 1]\n",
      "Ground truth  :  [0 0 1 0 1 1 1 0 0 0 1 0 1 0 0 1 1 0 1 1]\n"
     ]
    }
   ],
   "source": [
    "#Sử dụng mô hình huấn luyện dự đoán trên tập dữ liệu test\n",
    "y_pred2 = KNN_ungthu2.predict(X_test)\n",
    "\n",
    "print('Kết quả dự đoán bệnh nhân có bị ung thư hay không trên tập dữ liệu Test: ')\n",
    "print('Kết quả cho 20 hành khách đầu tiên:')\n",
    "print('Predictd label: ', y_pred2[:20])\n",
    "print('Ground truth  : ', y_test[:20])"
   ]
  },
  {
   "cell_type": "code",
   "execution_count": 26,
   "metadata": {},
   "outputs": [
    {
     "name": "stdout",
     "output_type": "stream",
     "text": [
      "Tổng số mãu dự đoán đúng:  188 / 241\n"
     ]
    }
   ],
   "source": [
    "#1. Đếm số mẫu dự đoán đúng:\n",
    "acc21 = accuracy_score(y_test, y_pred2, normalize = False)\n",
    "print('Tổng số mãu dự đoán đúng: ',acc21, '/', len(y_test))"
   ]
  },
  {
   "cell_type": "code",
   "execution_count": 27,
   "metadata": {},
   "outputs": [
    {
     "name": "stdout",
     "output_type": "stream",
     "text": [
      "Độ chính xác của mô hình (k=11, weights = distance):  0.7800829875518672\n",
      "Độ chính xác theo %:  78.01\n"
     ]
    }
   ],
   "source": [
    "#2. Độ chính xác %\n",
    "acc22 = accuracy_score(y_test, y_pred2, normalize = True)\n",
    "\n",
    "print('Độ chính xác của mô hình (k=11, weights = distance): ', acc22)\n",
    "print('Độ chính xác theo %: ', round(acc22*100,2))"
   ]
  },
  {
   "cell_type": "code",
   "execution_count": 28,
   "metadata": {},
   "outputs": [
    {
     "name": "stdout",
     "output_type": "stream",
     "text": [
      "Confusion matrix - Ung thư vú: \n",
      "[[119  22]\n",
      " [ 31  69]]\n"
     ]
    },
    {
     "data": {
      "image/png": "[encoded data removed]",
      "text/plain": [
       "<Figure size 640x480 with 2 Axes>"
      ]
     },
     "metadata": {},
     "output_type": "display_data"
    }
   ],
   "source": [
    "#3. Sử dụng ma trận confusion matrix kiểm tra kết quả:\n",
    "from sklearn.metrics import confusion_matrix, ConfusionMatrixDisplay\n",
    "\n",
    "#TÍnh toán ma trận\n",
    "cnf_matrix_ungthu = confusion_matrix(y_test, y_pred2)\n",
    "\n",
    "#Hiển thị ma trận:\n",
    "print('Confusion matrix - Ung thư vú: ')\n",
    "print(cnf_matrix_ungthu)\n",
    "ConfusionMatrixDisplay.from_predictions(y_test, y_pred2)\n",
    "plt.show()"
   ]
  },
  {
   "cell_type": "markdown",
   "metadata": {},
   "source": [
    "## Lần 3"
   ]
  },
  {
   "cell_type": "code",
   "execution_count": 29,
   "metadata": {},
   "outputs": [
    {
     "data": {
      "text/plain": [
       "{'algorithm': 'auto',\n",
       " 'leaf_size': 30,\n",
       " 'metric': 'minkowski',\n",
       " 'metric_params': None,\n",
       " 'n_jobs': None,\n",
       " 'n_neighbors': 15,\n",
       " 'p': 2,\n",
       " 'weights': 'uniform'}"
      ]
     },
     "execution_count": 29,
     "metadata": {},
     "output_type": "execute_result"
    }
   ],
   "source": [
    "KNN_ungthu3 =KNeighborsClassifier(n_neighbors=15)\n",
    "KNN_ungthu3.get_params()"
   ]
  },
  {
   "cell_type": "code",
   "execution_count": 30,
   "metadata": {},
   "outputs": [
    {
     "data": {
      "text/html": [
       "<style>#sk-container-id-3 {color: black;}#sk-container-id-3 pre{padding: 0;}#sk-container-id-3 div.sk-toggleable {background-color: white;}#sk-container-id-3 label.sk-toggleable__label {cursor: pointer;display: block;width: 100%;margin-bottom: 0;padding: 0.3em;box-sizing: border-box;text-align: center;}#sk-container-id-3 label.sk-toggleable__label-arrow:before {content: \"▸\";float: left;margin-right: 0.25em;color: #696969;}#sk-container-id-3 label.sk-toggleable__label-arrow:hover:before {color: black;}#sk-container-id-3 div.sk-estimator:hover label.sk-toggleable__label-arrow:before {color: black;}#sk-container-id-3 div.sk-toggleable__content {max-height: 0;max-width: 0;overflow: hidden;text-align: left;background-color: #f0f8ff;}#sk-container-id-3 div.sk-toggleable__content pre {margin: 0.2em;color: black;border-radius: 0.25em;background-color: #f0f8ff;}#sk-container-id-3 input.sk-toggleable__control:checked~div.sk-toggleable__content {max-height: 200px;max-width: 100%;overflow: auto;}#sk-container-id-3 input.sk-toggleable__control:checked~label.sk-toggleable__label-arrow:before {content: \"▾\";}#sk-container-id-3 div.sk-estimator input.sk-toggleable__control:checked~label.sk-toggleable__label {background-color: #d4ebff;}#sk-container-id-3 div.sk-label input.sk-toggleable__control:checked~label.sk-toggleable__label {background-color: #d4ebff;}#sk-container-id-3 input.sk-hidden--visually {border: 0;clip: rect(1px 1px 1px 1px);clip: rect(1px, 1px, 1px, 1px);height: 1px;margin: -1px;overflow: hidden;padding: 0;position: absolute;width: 1px;}#sk-container-id-3 div.sk-estimator {font-family: monospace;background-color: #f0f8ff;border: 1px dotted black;border-radius: 0.25em;box-sizing: border-box;margin-bottom: 0.5em;}#sk-container-id-3 div.sk-estimator:hover {background-color: #d4ebff;}#sk-container-id-3 div.sk-parallel-item::after {content: \"\";width: 100%;border-bottom: 1px solid gray;flex-grow: 1;}#sk-container-id-3 div.sk-label:hover label.sk-toggleable__label {background-color: #d4ebff;}#sk-container-id-3 div.sk-serial::before {content: \"\";position: absolute;border-left: 1px solid gray;box-sizing: border-box;top: 0;bottom: 0;left: 50%;z-index: 0;}#sk-container-id-3 div.sk-serial {display: flex;flex-direction: column;align-items: center;background-color: white;padding-right: 0.2em;padding-left: 0.2em;position: relative;}#sk-container-id-3 div.sk-item {position: relative;z-index: 1;}#sk-container-id-3 div.sk-parallel {display: flex;align-items: stretch;justify-content: center;background-color: white;position: relative;}#sk-container-id-3 div.sk-item::before, #sk-container-id-3 div.sk-parallel-item::before {content: \"\";position: absolute;border-left: 1px solid gray;box-sizing: border-box;top: 0;bottom: 0;left: 50%;z-index: -1;}#sk-container-id-3 div.sk-parallel-item {display: flex;flex-direction: column;z-index: 1;position: relative;background-color: white;}#sk-container-id-3 div.sk-parallel-item:first-child::after {align-self: flex-end;width: 50%;}#sk-container-id-3 div.sk-parallel-item:last-child::after {align-self: flex-start;width: 50%;}#sk-container-id-3 div.sk-parallel-item:only-child::after {width: 0;}#sk-container-id-3 div.sk-dashed-wrapped {border: 1px dashed gray;margin: 0 0.4em 0.5em 0.4em;box-sizing: border-box;padding-bottom: 0.4em;background-color: white;}#sk-container-id-3 div.sk-label label {font-family: monospace;font-weight: bold;display: inline-block;line-height: 1.2em;}#sk-container-id-3 div.sk-label-container {text-align: center;}#sk-container-id-3 div.sk-container {/* jupyter's `normalize.less` sets `[hidden] { display: none; }` but bootstrap.min.css set `[hidden] { display: none !important; }` so we also need the `!important` here to be able to override the default hidden behavior on the sphinx rendered scikit-learn.org. See: https://github.com/scikit-learn/scikit-learn/issues/21755 */display: inline-block !important;position: relative;}#sk-container-id-3 div.sk-text-repr-fallback {display: none;}</style><div id=\"sk-container-id-3\" class=\"sk-top-container\"><div class=\"sk-text-repr-fallback\"><pre>KNeighborsClassifier(n_neighbors=15)</pre><b>In a Jupyter environment, please rerun this cell to show the HTML representation or trust the notebook. <br />On GitHub, the HTML representation is unable to render, please try loading this page with nbviewer.org.</b></div><div class=\"sk-container\" hidden><div class=\"sk-item\"><div class=\"sk-estimator sk-toggleable\"><input class=\"sk-toggleable__control sk-hidden--visually\" id=\"sk-estimator-id-3\" type=\"checkbox\" checked><label for=\"sk-estimator-id-3\" class=\"sk-toggleable__label sk-toggleable__label-arrow\">KNeighborsClassifier</label><div class=\"sk-toggleable__content\"><pre>KNeighborsClassifier(n_neighbors=15)</pre></div></div></div></div></div>"
      ],
      "text/plain": [
       "KNeighborsClassifier(n_neighbors=15)"
      ]
     },
     "execution_count": 30,
     "metadata": {},
     "output_type": "execute_result"
    }
   ],
   "source": [
    "KNN_ungthu3.fit(X_train, y_train)\n"
   ]
  },
  {
   "cell_type": "code",
   "execution_count": 31,
   "metadata": {},
   "outputs": [
    {
     "name": "stdout",
     "output_type": "stream",
     "text": [
      "Độ chính xác % train:  77.08\n"
     ]
    }
   ],
   "source": [
    "acc_train3 = KNN_ungthu3.score(X_train, y_train)\n",
    "print('Độ chính xác % train: ' , round(acc_train3*100,2))"
   ]
  },
  {
   "cell_type": "code",
   "execution_count": 32,
   "metadata": {},
   "outputs": [
    {
     "name": "stdout",
     "output_type": "stream",
     "text": [
      "[1 0 1 0 1 1 1 0 0 0 1 1 1 1 0 1 1 0 1 1]\n",
      "[0 0 1 0 1 1 1 0 0 0 1 0 1 0 0 1 1 0 1 1]\n"
     ]
    }
   ],
   "source": [
    "y_pred3 = KNN_ungthu3.predict(X_test)\n",
    "print(y_pred3[:20])\n",
    "print(y_test[:20])"
   ]
  },
  {
   "cell_type": "code",
   "execution_count": 33,
   "metadata": {},
   "outputs": [
    {
     "name": "stdout",
     "output_type": "stream",
     "text": [
      "Tổng số mẫu dự đoán đúng: 192  / 241\n"
     ]
    }
   ],
   "source": [
    "acc31 = accuracy_score(y_test, y_pred3, \n",
    "                       normalize=False)\n",
    "print('Tổng số mẫu dự đoán đúng:', acc31, ' /', len(y_test))"
   ]
  },
  {
   "cell_type": "code",
   "execution_count": 34,
   "metadata": {},
   "outputs": [
    {
     "name": "stdout",
     "output_type": "stream",
     "text": [
      "Độ chính xác của mô hình(k=11, weights=distance): 0.7966804979253111\n",
      "Độ chính xác theo %: 79.67\n"
     ]
    }
   ],
   "source": [
    "acc32 = accuracy_score(y_test, y_pred3,\n",
    "                       normalize=True)\n",
    "\n",
    "print('Độ chính xác của mô hình(k=11, weights=distance):', acc32)\n",
    "print('Độ chính xác theo %:', round(acc32*100,2))"
   ]
  },
  {
   "cell_type": "code",
   "execution_count": 35,
   "metadata": {},
   "outputs": [
    {
     "name": "stdout",
     "output_type": "stream",
     "text": [
      "Confusion matrix - Titanic:\n",
      "[[107  34]\n",
      " [ 15  85]]\n"
     ]
    },
    {
     "data": {
      "image/png": "[encoded data removed]",
      "text/plain": [
       "<Figure size 640x480 with 2 Axes>"
      ]
     },
     "metadata": {},
     "output_type": "display_data"
    }
   ],
   "source": [
    "#3.Sử dụng ma trận confussion matrix kiểm tra kết quả:\n",
    "from sklearn.metrics import confusion_matrix, ConfusionMatrixDisplay\n",
    "#Tính toán ma trận\n",
    "cnf_matrix_titanic = confusion_matrix(y_test,y_pred3)\n",
    "\n",
    "#Hiển thị ma trân:\n",
    "print('Confusion matrix - Titanic:')\n",
    "print(cnf_matrix_titanic)\n",
    "ConfusionMatrixDisplay.from_predictions(y_test, y_pred3)\n",
    "plt.show()"
   ]
  },
  {
   "cell_type": "code",
   "execution_count": 36,
   "metadata": {},
   "outputs": [],
   "source": [
    "#test đến khi tối ưu\n",
    "#Giả sử mô hình KNN_ungthu2 tốt hơn, độ chính xác chấp nhận được --> dùng mô hình này để đi dự đoán"
   ]
  },
  {
   "cell_type": "markdown",
   "metadata": {},
   "source": [
    "## 8. Sử dụng mô hình\n",
    "--- \n",
    "* 1.Age: Độ tuổi\n",
    "        * 0: Tuổi từ 0 - 16 tuổi\n",
    "        * 1: Tuổi từ 17 - 32 tuổi\n",
    "        * 2: Tuổi từ 32 - 48 tuổi\n",
    "        * 3: Tuổi từ 48 - 64 tuổi\n",
    "        * 4: Tuổi từ 64 tuổi trở lên\n",
    "* 2.Shape: Hình dáng ( 0: Lobular, 1: Round, 2:Oval )\n",
    "* 3.Margin: Viền ( 0: Spiculated, 1: Circumscribed, 2: ill-defined, 3: Obscured, 4: Microlobulated)\n",
    "* 4.Density: Tỉ trọng ( 0: Low, 1: High, 2: Iso, 3: Fat-containing)\n",
    "* 5.Target: Kết quả ( 0: Không bị ung thư, 1: Bị ung thư)"
   ]
  },
  {
   "cell_type": "code",
   "execution_count": 37,
   "metadata": {},
   "outputs": [
    {
     "data": {
      "text/html": [
       "<div>\n",
       "<style scoped>\n",
       "    .dataframe tbody tr th:only-of-type {\n",
       "        vertical-align: middle;\n",
       "    }\n",
       "\n",
       "    .dataframe tbody tr th {\n",
       "        vertical-align: top;\n",
       "    }\n",
       "\n",
       "    .dataframe thead th {\n",
       "        text-align: right;\n",
       "    }\n",
       "</style>\n",
       "<table border=\"1\" class=\"dataframe\">\n",
       "  <thead>\n",
       "    <tr style=\"text-align: right;\">\n",
       "      <th></th>\n",
       "      <th>Age</th>\n",
       "      <th>Shape</th>\n",
       "      <th>Margin</th>\n",
       "      <th>Density</th>\n",
       "      <th>Target</th>\n",
       "    </tr>\n",
       "  </thead>\n",
       "  <tbody>\n",
       "    <tr>\n",
       "      <th>0</th>\n",
       "      <td>4</td>\n",
       "      <td>0</td>\n",
       "      <td>0</td>\n",
       "      <td>0</td>\n",
       "      <td>1</td>\n",
       "    </tr>\n",
       "    <tr>\n",
       "      <th>1</th>\n",
       "      <td>2</td>\n",
       "      <td>1</td>\n",
       "      <td>1</td>\n",
       "      <td>0</td>\n",
       "      <td>1</td>\n",
       "    </tr>\n",
       "    <tr>\n",
       "      <th>2</th>\n",
       "      <td>3</td>\n",
       "      <td>2</td>\n",
       "      <td>0</td>\n",
       "      <td>0</td>\n",
       "      <td>1</td>\n",
       "    </tr>\n",
       "    <tr>\n",
       "      <th>3</th>\n",
       "      <td>1</td>\n",
       "      <td>1</td>\n",
       "      <td>1</td>\n",
       "      <td>0</td>\n",
       "      <td>0</td>\n",
       "    </tr>\n",
       "    <tr>\n",
       "      <th>4</th>\n",
       "      <td>4</td>\n",
       "      <td>1</td>\n",
       "      <td>0</td>\n",
       "      <td>0</td>\n",
       "      <td>1</td>\n",
       "    </tr>\n",
       "  </tbody>\n",
       "</table>\n",
       "</div>"
      ],
      "text/plain": [
       "   Age  Shape  Margin  Density  Target\n",
       "0    4      0       0        0       1\n",
       "1    2      1       1        0       1\n",
       "2    3      2       0        0       1\n",
       "3    1      1       1        0       0\n",
       "4    4      1       0        0       1"
      ]
     },
     "execution_count": 37,
     "metadata": {},
     "output_type": "execute_result"
    }
   ],
   "source": [
    "df.head()"
   ]
  },
  {
   "cell_type": "code",
   "execution_count": 38,
   "metadata": {},
   "outputs": [
    {
     "name": "stdout",
     "output_type": "stream",
     "text": [
      "[[1 1 1 0]]\n"
     ]
    }
   ],
   "source": [
    "#Khai báo dữ liệu bệnh nhân 1:\n",
    "\n",
    "age = 1\n",
    "shape = 1\n",
    "margin = 1\n",
    "density = 0\n",
    "\n",
    "patient1 = np.array([[age,shape,margin,density]])\n",
    "print(patient1)"
   ]
  },
  {
   "cell_type": "code",
   "execution_count": 39,
   "metadata": {},
   "outputs": [
    {
     "name": "stdout",
     "output_type": "stream",
     "text": [
      "Bạn không bị ung thư:  [0]\n"
     ]
    }
   ],
   "source": [
    "#Sử dụng mô hình để dự đoán cho bệnh nhân 1:\n",
    "y_pred_1 = KNN_ungthu2.predict(patient1)\n",
    "if(y_pred_1 == 0):\n",
    "    print('Bạn không bị ung thư: ', y_pred_1)\n",
    "else:\n",
    "    print('Bạn đã bị ung thư: ', y_pred_1)"
   ]
  },
  {
   "cell_type": "code",
   "execution_count": 40,
   "metadata": {},
   "outputs": [
    {
     "name": "stdout",
     "output_type": "stream",
     "text": [
      "[[2 1 1 1]]\n"
     ]
    }
   ],
   "source": [
    "#Khai báo dữ liệu bệnh nhân 2:\n",
    "\n",
    "age2 = 2\n",
    "shape2 = 1\n",
    "margin2 = 1\n",
    "density2 = 1\n",
    "\n",
    "patient2 = np.array([[age2,shape2,margin2,density2]])\n",
    "print(patient2)"
   ]
  },
  {
   "cell_type": "code",
   "execution_count": 41,
   "metadata": {},
   "outputs": [
    {
     "name": "stdout",
     "output_type": "stream",
     "text": [
      "Bạn không bị ung thư:  [0]\n"
     ]
    }
   ],
   "source": [
    "#Sử dụng mô hình để dự đoán cho bệnh nhân 2:\n",
    "y_pred_2 = KNN_ungthu2.predict(patient2)\n",
    "if(y_pred_2 == 0):\n",
    "    print('Bạn không bị ung thư: ', y_pred_2)\n",
    "else:\n",
    "    print('Bạn đã bị ung thư: ', y_pred_2)"
   ]
  }
 ],
 "metadata": {
  "kernelspec": {
   "display_name": "Python 3 (ipykernel)",
   "language": "python",
   "name": "python3"
  },
  "language_info": {
   "codemirror_mode": {
    "name": "ipython",
    "version": 3
   },
   "file_extension": ".py",
   "mimetype": "text/x-python",
   "name": "python",
   "nbconvert_exporter": "python",
   "pygments_lexer": "ipython3",
   "version": "3.11.4"
  }
 },
 "nbformat": 4,
 "nbformat_minor": 2
}
