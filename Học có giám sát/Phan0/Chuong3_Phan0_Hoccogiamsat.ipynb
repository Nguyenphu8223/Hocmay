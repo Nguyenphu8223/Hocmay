{
 "cells": [
  {
   "cell_type": "markdown",
   "id": "d0fe9295",
   "metadata": {},
   "source": [
    "<center>\n",
    "    <h2>CHƯƠNG 3 : HỌC CÓ GIÁM SÁT</h2>\n",
    "    <h3>Phần 0 : Xác định lớp bài toàn học máy có giám sát</h3>\n",
    "</center>\n",
    "\n",
    "---\n",
    "\n",
    "**Nội dung bài học**\n",
    "1. Xác định bài toán học máy tương ứng với tập dữ liệu\n",
    "2. Xác định biến độc lập (x, iến phụ thuộc (y) - Đầu vào - Đầu ra của mô hình.  -> Lớp bài toán tương ứng"
   ]
  },
  {
   "cell_type": "markdown",
   "id": "5d0b73d4",
   "metadata": {},
   "source": [
    "## Bài toán số 1: Tập dữ liệu titanic\n",
    "---\n",
    "\n",
    "Mục tiêu: xây dựng mô hình học máy có khả năng dự đoán một hành khách được cứu hay không được cứu nếu xảy ra sự cố dựa vào các thông tin liên quan"
   ]
  },
  {
   "cell_type": "code",
   "execution_count": 1,
   "id": "1875a000",
   "metadata": {},
   "outputs": [],
   "source": [
    "import numpy as np\n",
    "import pandas as pd\n",
    "import matplotlib.pyplot as plt"
   ]
  },
  {
   "cell_type": "code",
   "execution_count": 2,
   "id": "27f3355b",
   "metadata": {},
   "outputs": [
    {
     "name": "stdout",
     "output_type": "stream",
     "text": [
      "<class 'pandas.core.frame.DataFrame'>\n",
      "RangeIndex: 1309 entries, 0 to 1308\n",
      "Data columns (total 7 columns):\n",
      " #   Column    Non-Null Count  Dtype  \n",
      "---  ------    --------------  -----  \n",
      " 0   Survived  1309 non-null   int64  \n",
      " 1   Pclass    1309 non-null   int64  \n",
      " 2   Sex       1309 non-null   object \n",
      " 3   Age       1046 non-null   float64\n",
      " 4   SibSp     1309 non-null   int64  \n",
      " 5   Parch     1309 non-null   int64  \n",
      " 6   Embarked  1307 non-null   object \n",
      "dtypes: float64(1), int64(4), object(2)\n",
      "memory usage: 71.7+ KB\n"
     ]
    }
   ],
   "source": [
    "df_titanic = pd.read_csv('Data/Data_Titanic.csv')\n",
    "df_titanic.info()"
   ]
  },
  {
   "cell_type": "code",
   "execution_count": 3,
   "id": "d5d060f5",
   "metadata": {},
   "outputs": [
    {
     "data": {
      "text/html": [
       "<div>\n",
       "<style scoped>\n",
       "    .dataframe tbody tr th:only-of-type {\n",
       "        vertical-align: middle;\n",
       "    }\n",
       "\n",
       "    .dataframe tbody tr th {\n",
       "        vertical-align: top;\n",
       "    }\n",
       "\n",
       "    .dataframe thead th {\n",
       "        text-align: right;\n",
       "    }\n",
       "</style>\n",
       "<table border=\"1\" class=\"dataframe\">\n",
       "  <thead>\n",
       "    <tr style=\"text-align: right;\">\n",
       "      <th></th>\n",
       "      <th>Survived</th>\n",
       "      <th>Pclass</th>\n",
       "      <th>Age</th>\n",
       "      <th>SibSp</th>\n",
       "      <th>Parch</th>\n",
       "    </tr>\n",
       "  </thead>\n",
       "  <tbody>\n",
       "    <tr>\n",
       "      <th>count</th>\n",
       "      <td>1309.000000</td>\n",
       "      <td>1309.000000</td>\n",
       "      <td>1046.000000</td>\n",
       "      <td>1309.000000</td>\n",
       "      <td>1309.000000</td>\n",
       "    </tr>\n",
       "    <tr>\n",
       "      <th>mean</th>\n",
       "      <td>0.377387</td>\n",
       "      <td>2.294882</td>\n",
       "      <td>29.881138</td>\n",
       "      <td>0.498854</td>\n",
       "      <td>0.385027</td>\n",
       "    </tr>\n",
       "    <tr>\n",
       "      <th>std</th>\n",
       "      <td>0.484918</td>\n",
       "      <td>0.837836</td>\n",
       "      <td>14.413493</td>\n",
       "      <td>1.041658</td>\n",
       "      <td>0.865560</td>\n",
       "    </tr>\n",
       "    <tr>\n",
       "      <th>min</th>\n",
       "      <td>0.000000</td>\n",
       "      <td>1.000000</td>\n",
       "      <td>0.170000</td>\n",
       "      <td>0.000000</td>\n",
       "      <td>0.000000</td>\n",
       "    </tr>\n",
       "    <tr>\n",
       "      <th>25%</th>\n",
       "      <td>0.000000</td>\n",
       "      <td>2.000000</td>\n",
       "      <td>21.000000</td>\n",
       "      <td>0.000000</td>\n",
       "      <td>0.000000</td>\n",
       "    </tr>\n",
       "    <tr>\n",
       "      <th>50%</th>\n",
       "      <td>0.000000</td>\n",
       "      <td>3.000000</td>\n",
       "      <td>28.000000</td>\n",
       "      <td>0.000000</td>\n",
       "      <td>0.000000</td>\n",
       "    </tr>\n",
       "    <tr>\n",
       "      <th>75%</th>\n",
       "      <td>1.000000</td>\n",
       "      <td>3.000000</td>\n",
       "      <td>39.000000</td>\n",
       "      <td>1.000000</td>\n",
       "      <td>0.000000</td>\n",
       "    </tr>\n",
       "    <tr>\n",
       "      <th>max</th>\n",
       "      <td>1.000000</td>\n",
       "      <td>3.000000</td>\n",
       "      <td>80.000000</td>\n",
       "      <td>8.000000</td>\n",
       "      <td>9.000000</td>\n",
       "    </tr>\n",
       "  </tbody>\n",
       "</table>\n",
       "</div>"
      ],
      "text/plain": [
       "          Survived       Pclass          Age        SibSp        Parch\n",
       "count  1309.000000  1309.000000  1046.000000  1309.000000  1309.000000\n",
       "mean      0.377387     2.294882    29.881138     0.498854     0.385027\n",
       "std       0.484918     0.837836    14.413493     1.041658     0.865560\n",
       "min       0.000000     1.000000     0.170000     0.000000     0.000000\n",
       "25%       0.000000     2.000000    21.000000     0.000000     0.000000\n",
       "50%       0.000000     3.000000    28.000000     0.000000     0.000000\n",
       "75%       1.000000     3.000000    39.000000     1.000000     0.000000\n",
       "max       1.000000     3.000000    80.000000     8.000000     9.000000"
      ]
     },
     "execution_count": 3,
     "metadata": {},
     "output_type": "execute_result"
    }
   ],
   "source": [
    "df_titanic.describe()"
   ]
  },
  {
   "cell_type": "code",
   "execution_count": 4,
   "id": "572ec608",
   "metadata": {},
   "outputs": [
    {
     "data": {
      "text/html": [
       "<div>\n",
       "<style scoped>\n",
       "    .dataframe tbody tr th:only-of-type {\n",
       "        vertical-align: middle;\n",
       "    }\n",
       "\n",
       "    .dataframe tbody tr th {\n",
       "        vertical-align: top;\n",
       "    }\n",
       "\n",
       "    .dataframe thead th {\n",
       "        text-align: right;\n",
       "    }\n",
       "</style>\n",
       "<table border=\"1\" class=\"dataframe\">\n",
       "  <thead>\n",
       "    <tr style=\"text-align: right;\">\n",
       "      <th></th>\n",
       "      <th>Survived</th>\n",
       "      <th>Pclass</th>\n",
       "      <th>Sex</th>\n",
       "      <th>Age</th>\n",
       "      <th>SibSp</th>\n",
       "      <th>Parch</th>\n",
       "      <th>Embarked</th>\n",
       "    </tr>\n",
       "  </thead>\n",
       "  <tbody>\n",
       "    <tr>\n",
       "      <th>740</th>\n",
       "      <td>1</td>\n",
       "      <td>1</td>\n",
       "      <td>male</td>\n",
       "      <td>NaN</td>\n",
       "      <td>0</td>\n",
       "      <td>0</td>\n",
       "      <td>S</td>\n",
       "    </tr>\n",
       "  </tbody>\n",
       "</table>\n",
       "</div>"
      ],
      "text/plain": [
       "     Survived  Pclass   Sex  Age  SibSp  Parch Embarked\n",
       "740         1       1  male  NaN      0      0        S"
      ]
     },
     "execution_count": 4,
     "metadata": {},
     "output_type": "execute_result"
    }
   ],
   "source": [
    "df_titanic.sample()"
   ]
  },
  {
   "cell_type": "markdown",
   "id": "59947123",
   "metadata": {},
   "source": [
    "**Xác định đầu vào(x) - Đầu ra (y) của mô hình:**\n",
    "\n",
    "- 1. Các thuộc tính đầu vào của mô hình - Biến độc lập X: bao gồm 6 thuộc tính\n",
    "    * Pclass: Hạng vé\n",
    "    * Sex: Giới tính\n",
    "    * Age: Tuổi\n",
    "    * SibSp: Anh, chị em, vợ chồng đi cùng\n",
    "    * Parch: Con cái đi cùng\n",
    "    * Embarrked: Cảng\n",
    "\n",
    "- 2. Thuộc tính đầu ra - Biến phụ thuộc y: 01 thuộc tính\n",
    "    * Survived: Cho biết hành kác được cứu(1) hay không được cứu(1)\n",
    "    \n",
    "--> Nhận xét: Tập dữ liệu titanic là tập dữ liệu có gán nhãn"
   ]
  },
  {
   "cell_type": "code",
   "execution_count": 5,
   "id": "5ce01617",
   "metadata": {},
   "outputs": [
    {
     "data": {
      "text/plain": [
       "array([0, 1], dtype=int64)"
      ]
     },
     "execution_count": 5,
     "metadata": {},
     "output_type": "execute_result"
    }
   ],
   "source": [
    "# Tím hiểu chi tiết biến đầu ra: Survived\n",
    "#Biến y: có bao nhiêu giá trị khác nhau\n",
    "df_titanic['Survived'].unique()"
   ]
  },
  {
   "cell_type": "code",
   "execution_count": 6,
   "id": "4ace4376",
   "metadata": {},
   "outputs": [
    {
     "data": {
      "text/plain": [
       "0    815\n",
       "1    494\n",
       "Name: Survived, dtype: int64"
      ]
     },
     "execution_count": 6,
     "metadata": {},
     "output_type": "execute_result"
    }
   ],
   "source": [
    "#Thống kê số lượng của mỗi lớp :\n",
    "df_titanic['Survived'].value_counts()"
   ]
  },
  {
   "cell_type": "markdown",
   "id": "7824bf5a",
   "metadata": {},
   "source": [
    "**Nhận xét biến phụ thuộc Y:**\n",
    "- Biến đầu ra y chỉ có 2 giá trị khác nhau, là 0 hoặc 1\n",
    "- Biến y có đặc điểm là rời rạc và hữu hạn"
   ]
  },
  {
   "cell_type": "markdown",
   "id": "e74208f0",
   "metadata": {},
   "source": [
    "**Kết luận:**\n",
    "--\n",
    "Tập dữ liệu titanic là tập dữ liệu có gán nhãn  --> sử dụng lớp thuộc toán HỌC CÓ GIÁM SÁT --> nhãn là hữu hạn thuộc bài toán Phân Lớp --> y chỉ có 2 giá trị nên là PHÂN LỚP NHỊ PHÂN"
   ]
  },
  {
   "cell_type": "code",
   "execution_count": null,
   "id": "e62aafd0",
   "metadata": {},
   "outputs": [],
   "source": []
  },
  {
   "cell_type": "markdown",
   "id": "3add7b2d",
   "metadata": {},
   "source": [
    "## Bài toán số 2: Tập dữ liệu Iris\n",
    "---\n",
    "\n",
    "Mục tiêu: xâu dựng mô hình học máy có khả năng dự đoán một bông hoa lan thuộc lớp nào dựa vào chiều dài, chiều rộng của cánh hoa và đài hoa.\n"
   ]
  },
  {
   "cell_type": "code",
   "execution_count": 7,
   "id": "5dd49e18",
   "metadata": {},
   "outputs": [
    {
     "name": "stdout",
     "output_type": "stream",
     "text": [
      "<class 'pandas.core.frame.DataFrame'>\n",
      "RangeIndex: 150 entries, 0 to 149\n",
      "Data columns (total 5 columns):\n",
      " #   Column        Non-Null Count  Dtype  \n",
      "---  ------        --------------  -----  \n",
      " 0   sepal_length  150 non-null    float64\n",
      " 1   sepal_width   150 non-null    float64\n",
      " 2   petal_length  150 non-null    float64\n",
      " 3   petal_width   150 non-null    float64\n",
      " 4   species       150 non-null    object \n",
      "dtypes: float64(4), object(1)\n",
      "memory usage: 6.0+ KB\n"
     ]
    }
   ],
   "source": [
    "#Đọc dữ liệu Iris\n",
    "df_iris = pd.read_csv('Data/Data_Iris.csv')\n",
    "df_iris.info()"
   ]
  },
  {
   "cell_type": "code",
   "execution_count": 8,
   "id": "0d19108a",
   "metadata": {},
   "outputs": [
    {
     "data": {
      "text/html": [
       "<div>\n",
       "<style scoped>\n",
       "    .dataframe tbody tr th:only-of-type {\n",
       "        vertical-align: middle;\n",
       "    }\n",
       "\n",
       "    .dataframe tbody tr th {\n",
       "        vertical-align: top;\n",
       "    }\n",
       "\n",
       "    .dataframe thead th {\n",
       "        text-align: right;\n",
       "    }\n",
       "</style>\n",
       "<table border=\"1\" class=\"dataframe\">\n",
       "  <thead>\n",
       "    <tr style=\"text-align: right;\">\n",
       "      <th></th>\n",
       "      <th>sepal_length</th>\n",
       "      <th>sepal_width</th>\n",
       "      <th>petal_length</th>\n",
       "      <th>petal_width</th>\n",
       "      <th>species</th>\n",
       "    </tr>\n",
       "  </thead>\n",
       "  <tbody>\n",
       "    <tr>\n",
       "      <th>95</th>\n",
       "      <td>5.7</td>\n",
       "      <td>3.0</td>\n",
       "      <td>4.2</td>\n",
       "      <td>1.2</td>\n",
       "      <td>Iris-versicolor</td>\n",
       "    </tr>\n",
       "    <tr>\n",
       "      <th>1</th>\n",
       "      <td>4.9</td>\n",
       "      <td>3.0</td>\n",
       "      <td>1.4</td>\n",
       "      <td>0.2</td>\n",
       "      <td>Iris-setosa</td>\n",
       "    </tr>\n",
       "    <tr>\n",
       "      <th>78</th>\n",
       "      <td>6.0</td>\n",
       "      <td>2.9</td>\n",
       "      <td>4.5</td>\n",
       "      <td>1.5</td>\n",
       "      <td>Iris-versicolor</td>\n",
       "    </tr>\n",
       "    <tr>\n",
       "      <th>14</th>\n",
       "      <td>5.8</td>\n",
       "      <td>4.0</td>\n",
       "      <td>1.2</td>\n",
       "      <td>0.2</td>\n",
       "      <td>Iris-setosa</td>\n",
       "    </tr>\n",
       "    <tr>\n",
       "      <th>71</th>\n",
       "      <td>6.1</td>\n",
       "      <td>2.8</td>\n",
       "      <td>4.0</td>\n",
       "      <td>1.3</td>\n",
       "      <td>Iris-versicolor</td>\n",
       "    </tr>\n",
       "  </tbody>\n",
       "</table>\n",
       "</div>"
      ],
      "text/plain": [
       "    sepal_length  sepal_width  petal_length  petal_width          species\n",
       "95           5.7          3.0           4.2          1.2  Iris-versicolor\n",
       "1            4.9          3.0           1.4          0.2      Iris-setosa\n",
       "78           6.0          2.9           4.5          1.5  Iris-versicolor\n",
       "14           5.8          4.0           1.2          0.2      Iris-setosa\n",
       "71           6.1          2.8           4.0          1.3  Iris-versicolor"
      ]
     },
     "execution_count": 8,
     "metadata": {},
     "output_type": "execute_result"
    }
   ],
   "source": [
    "df_iris.sample(5)"
   ]
  },
  {
   "cell_type": "markdown",
   "id": "770b528d",
   "metadata": {},
   "source": [
    "**Xác định đầu vào X - đầu ra y của mô hình**\n",
    "\n",
    "- 1. Các thuộc tính đầu vào - Biến độc X:\n",
    "    * sepal_length: Chiều dài cánh hoa (cm)\n",
    "    * sepal_width: Chiều rộng cánh hoa (cm)\n",
    "    * penta_length: Chiều dài dài hoa (cm)\n",
    "    * petal_width: Chiều rộng dài hoa (cm)\n",
    "\n",
    "- 2. Thuộc tính đàu ra - Biến phụ thuộc y:\n",
    "    * species: Loài hoa\n",
    "    \n",
    "--> Tập dữ liệu Iris là tập dữ liệu có gán nhãn"
   ]
  },
  {
   "cell_type": "code",
   "execution_count": 9,
   "id": "9d1fdad9",
   "metadata": {},
   "outputs": [
    {
     "data": {
      "text/plain": [
       "array(['Iris-setosa', 'Iris-versicolor', 'Iris-virginica'], dtype=object)"
      ]
     },
     "execution_count": 9,
     "metadata": {},
     "output_type": "execute_result"
    }
   ],
   "source": [
    "#Tìm hiểu chi tiết biến đầu ra y: species\n",
    "#Số giá trị khác nhau\n",
    "df_iris['species'].unique()"
   ]
  },
  {
   "cell_type": "code",
   "execution_count": 10,
   "id": "c6cfe826",
   "metadata": {},
   "outputs": [
    {
     "data": {
      "text/plain": [
       "Iris-setosa        50\n",
       "Iris-versicolor    50\n",
       "Iris-virginica     50\n",
       "Name: species, dtype: int64"
      ]
     },
     "execution_count": 10,
     "metadata": {},
     "output_type": "execute_result"
    }
   ],
   "source": [
    "#Thống kê số lượng từng lớp:\n",
    "df_iris['species'].value_counts()"
   ]
  },
  {
   "cell_type": "markdown",
   "id": "58c82b11",
   "metadata": {},
   "source": [
    "**Nhận xét**\n",
    "- Biến đầu ra y có 3 giá trị khác nhau\n",
    "- Biến y là rời rạc và hữu hạn"
   ]
  },
  {
   "cell_type": "markdown",
   "id": "6a8b8eef",
   "metadata": {},
   "source": [
    "**Kết luận:**\n",
    "--\n",
    "Tập dữ liệu iris là tập dữ liệu có gán nhãn  --> sử dụng lớp thuộc toán HỌC CÓ GIÁM SÁT --> y là hữu hạn thuộc bài toán Phân Lớp --> y có 3 giá trị nên là PHÂN LỚP ĐA LỚP"
   ]
  },
  {
   "cell_type": "code",
   "execution_count": null,
   "id": "507614bb",
   "metadata": {},
   "outputs": [],
   "source": []
  },
  {
   "cell_type": "markdown",
   "id": "a5649456",
   "metadata": {},
   "source": [
    "## Bài 3 : Tập dữ liệu Diamond\n",
    "---\n",
    "Mục tiêu : xây dựng mô hình học máy có khả năng dự đoán giá bán viên kim cương khi nhập vào khối lượng"
   ]
  },
  {
   "cell_type": "code",
   "execution_count": 11,
   "id": "cea6f8c8",
   "metadata": {},
   "outputs": [
    {
     "name": "stdout",
     "output_type": "stream",
     "text": [
      "<class 'pandas.core.frame.DataFrame'>\n",
      "RangeIndex: 50 entries, 0 to 49\n",
      "Data columns (total 2 columns):\n",
      " #   Column         Non-Null Count  Dtype  \n",
      "---  ------         --------------  -----  \n",
      " 0   Weight(Carat)  50 non-null     float64\n",
      " 1   Price(USD)     50 non-null     int64  \n",
      "dtypes: float64(1), int64(1)\n",
      "memory usage: 932.0 bytes\n"
     ]
    }
   ],
   "source": [
    "df_diamond = pd.read_csv('Data/Data_Diamond.csv')\n",
    "df_diamond.info()"
   ]
  },
  {
   "cell_type": "code",
   "execution_count": 12,
   "id": "9884d735",
   "metadata": {},
   "outputs": [
    {
     "data": {
      "text/html": [
       "<div>\n",
       "<style scoped>\n",
       "    .dataframe tbody tr th:only-of-type {\n",
       "        vertical-align: middle;\n",
       "    }\n",
       "\n",
       "    .dataframe tbody tr th {\n",
       "        vertical-align: top;\n",
       "    }\n",
       "\n",
       "    .dataframe thead th {\n",
       "        text-align: right;\n",
       "    }\n",
       "</style>\n",
       "<table border=\"1\" class=\"dataframe\">\n",
       "  <thead>\n",
       "    <tr style=\"text-align: right;\">\n",
       "      <th></th>\n",
       "      <th>Weight(Carat)</th>\n",
       "      <th>Price(USD)</th>\n",
       "    </tr>\n",
       "  </thead>\n",
       "  <tbody>\n",
       "    <tr>\n",
       "      <th>0</th>\n",
       "      <td>0.23</td>\n",
       "      <td>484</td>\n",
       "    </tr>\n",
       "    <tr>\n",
       "      <th>35</th>\n",
       "      <td>1.79</td>\n",
       "      <td>10108</td>\n",
       "    </tr>\n",
       "    <tr>\n",
       "      <th>47</th>\n",
       "      <td>1.07</td>\n",
       "      <td>5220</td>\n",
       "    </tr>\n",
       "    <tr>\n",
       "      <th>6</th>\n",
       "      <td>2.01</td>\n",
       "      <td>11925</td>\n",
       "    </tr>\n",
       "    <tr>\n",
       "      <th>34</th>\n",
       "      <td>1.77</td>\n",
       "      <td>14561</td>\n",
       "    </tr>\n",
       "  </tbody>\n",
       "</table>\n",
       "</div>"
      ],
      "text/plain": [
       "    Weight(Carat)  Price(USD)\n",
       "0            0.23         484\n",
       "35           1.79       10108\n",
       "47           1.07        5220\n",
       "6            2.01       11925\n",
       "34           1.77       14561"
      ]
     },
     "execution_count": 12,
     "metadata": {},
     "output_type": "execute_result"
    }
   ],
   "source": [
    "df_diamond.sample(5)"
   ]
  },
  {
   "cell_type": "code",
   "execution_count": 13,
   "id": "ea0b8fa8",
   "metadata": {},
   "outputs": [
    {
     "data": {
      "image/png": "[encoded data removed]",
      "text/plain": [
       "<Figure size 640x480 with 1 Axes>"
      ]
     },
     "metadata": {},
     "output_type": "display_data"
    }
   ],
   "source": [
    "#Vẽ biểu đồ thể hiện mối quan hệ giữa giá bán và trọng lượng:\n",
    "plt.scatter(df_diamond['Weight(Carat)'],\n",
    "            df_diamond['Price(USD)'],\n",
    "            marker='d',\n",
    "            s=80, c='green', alpha=0.5)\n",
    "plt.xlabel('Weight(Carat)')\n",
    "plt.ylabel('Price(USD)')\n",
    "plt.grid(ls='--')\n",
    "plt.title('Biến đồ thể hiện mối quan hệ giữa trọng lượng và giá bán')\n",
    "plt.show()"
   ]
  },
  {
   "cell_type": "code",
   "execution_count": 14,
   "id": "0b3132de",
   "metadata": {},
   "outputs": [
    {
     "data": {
      "text/html": [
       "<div>\n",
       "<style scoped>\n",
       "    .dataframe tbody tr th:only-of-type {\n",
       "        vertical-align: middle;\n",
       "    }\n",
       "\n",
       "    .dataframe tbody tr th {\n",
       "        vertical-align: top;\n",
       "    }\n",
       "\n",
       "    .dataframe thead th {\n",
       "        text-align: right;\n",
       "    }\n",
       "</style>\n",
       "<table border=\"1\" class=\"dataframe\">\n",
       "  <thead>\n",
       "    <tr style=\"text-align: right;\">\n",
       "      <th></th>\n",
       "      <th>Weight(Carat)</th>\n",
       "      <th>Price(USD)</th>\n",
       "    </tr>\n",
       "  </thead>\n",
       "  <tbody>\n",
       "    <tr>\n",
       "      <th>count</th>\n",
       "      <td>50.000000</td>\n",
       "      <td>50.000000</td>\n",
       "    </tr>\n",
       "    <tr>\n",
       "      <th>mean</th>\n",
       "      <td>1.344800</td>\n",
       "      <td>7550.780000</td>\n",
       "    </tr>\n",
       "    <tr>\n",
       "      <th>std</th>\n",
       "      <td>0.837051</td>\n",
       "      <td>5038.766934</td>\n",
       "    </tr>\n",
       "    <tr>\n",
       "      <th>min</th>\n",
       "      <td>0.200000</td>\n",
       "      <td>345.000000</td>\n",
       "    </tr>\n",
       "    <tr>\n",
       "      <th>25%</th>\n",
       "      <td>0.902500</td>\n",
       "      <td>3560.750000</td>\n",
       "    </tr>\n",
       "    <tr>\n",
       "      <th>50%</th>\n",
       "      <td>1.140000</td>\n",
       "      <td>6796.000000</td>\n",
       "    </tr>\n",
       "    <tr>\n",
       "      <th>75%</th>\n",
       "      <td>1.737500</td>\n",
       "      <td>11452.500000</td>\n",
       "    </tr>\n",
       "    <tr>\n",
       "      <th>max</th>\n",
       "      <td>4.500000</td>\n",
       "      <td>18531.000000</td>\n",
       "    </tr>\n",
       "  </tbody>\n",
       "</table>\n",
       "</div>"
      ],
      "text/plain": [
       "       Weight(Carat)    Price(USD)\n",
       "count      50.000000     50.000000\n",
       "mean        1.344800   7550.780000\n",
       "std         0.837051   5038.766934\n",
       "min         0.200000    345.000000\n",
       "25%         0.902500   3560.750000\n",
       "50%         1.140000   6796.000000\n",
       "75%         1.737500  11452.500000\n",
       "max         4.500000  18531.000000"
      ]
     },
     "execution_count": 14,
     "metadata": {},
     "output_type": "execute_result"
    }
   ],
   "source": [
    "df_diamond.describe()"
   ]
  },
  {
   "cell_type": "markdown",
   "id": "a22c3dc6",
   "metadata": {},
   "source": [
    "**Xác định đầu vào X - đầu ra y của mô hình:**\n",
    "- 1. Đầu vào - Biến độc lập X: 1 thuộc tính\n",
    "    * Weight(Carat): trọng lượng của viên kim cương\n",
    "- 2. Đầu ra - Biến phụ thuộc y: 1 thuộc tính\n",
    "    * Price(USD): giá\n",
    "\n",
    "--> Tập dữ liệu Diamond là tập dữ liệu có gán nhãn"
   ]
  },
  {
   "cell_type": "code",
   "execution_count": 15,
   "id": "383aa22a",
   "metadata": {},
   "outputs": [
    {
     "data": {
      "text/plain": [
       "array([  484,   942,   345,  4459, 14022,  4212, 11925,  9548, 11605,\n",
       "        4642,  3541,  4504, 13691, 15964, 10453, 11560,  7979,  9533,\n",
       "        1723,  3344,  6133, 13827, 16538, 18531,  3625,  7879,  1319,\n",
       "        2761,  3620,  6165, 10640,  4138,  1094, 11130, 14561, 10108,\n",
       "       12654, 16280, 13498,  4586,  3105,  7745,  5047, 10830,   765,\n",
       "         827,  3120,  5220,  7427,  9890], dtype=int64)"
      ]
     },
     "execution_count": 15,
     "metadata": {},
     "output_type": "execute_result"
    }
   ],
   "source": [
    "#Tìm hiểu chi tiết thuộc tính đầu ra y\n",
    "df_diamond['Price(USD)'].unique()"
   ]
  },
  {
   "cell_type": "code",
   "execution_count": 16,
   "id": "64b31864",
   "metadata": {},
   "outputs": [
    {
     "data": {
      "text/plain": [
       "count       50.000000\n",
       "mean      7550.780000\n",
       "std       5038.766934\n",
       "min        345.000000\n",
       "25%       3560.750000\n",
       "50%       6796.000000\n",
       "75%      11452.500000\n",
       "max      18531.000000\n",
       "Name: Price(USD), dtype: float64"
      ]
     },
     "execution_count": 16,
     "metadata": {},
     "output_type": "execute_result"
    }
   ],
   "source": [
    "df_diamond['Price(USD)'].describe()"
   ]
  },
  {
   "cell_type": "markdown",
   "id": "3dd7a461",
   "metadata": {},
   "source": [
    "**Nhận xét:**\n",
    "- Biến đầu ra y có thể nhận rất nhiều các giá trị khác nhau\n",
    "- Biến y là vô hạn và liên tục"
   ]
  },
  {
   "cell_type": "markdown",
   "id": "5d9df6ab",
   "metadata": {},
   "source": [
    "**Kết luận:**\n",
    "--\n",
    "Tập dữ liệu diamond là tập dữ liệu có gán nhãn --> sử dụng lớp thuật toán Học Có giám sát --> y là vô hạn thuộc bài toán Hồi Quy\n"
   ]
  },
  {
   "cell_type": "markdown",
   "id": "b82d54df",
   "metadata": {},
   "source": [
    "**Bài tập**\n",
    "\n",
    "Sinh viên thực hiện tương tự như trên với 2 tập dữ liệu còn lại: \n",
    "comment\n",
    "housing"
   ]
  },
  {
   "cell_type": "code",
   "execution_count": null,
   "id": "a7d808c2",
   "metadata": {},
   "outputs": [],
   "source": []
  },
  {
   "cell_type": "markdown",
   "id": "967fbf9f",
   "metadata": {},
   "source": [
    "## Bài 4: Tập dữ liệu Comment"
   ]
  },
  {
   "cell_type": "code",
   "execution_count": 17,
   "id": "69c52e8c",
   "metadata": {},
   "outputs": [
    {
     "name": "stdout",
     "output_type": "stream",
     "text": [
      "<class 'pandas.core.frame.DataFrame'>\n",
      "RangeIndex: 14477 entries, 0 to 14476\n",
      "Data columns (total 2 columns):\n",
      " #   Column     Non-Null Count  Dtype \n",
      "---  ------     --------------  ----- \n",
      " 0   Comment    14477 non-null  object\n",
      " 1   Sentiment  14477 non-null  object\n",
      "dtypes: object(2)\n",
      "memory usage: 226.3+ KB\n"
     ]
    }
   ],
   "source": [
    "df_cmt = pd.read_csv('Data/Data_Comment.csv')\n",
    "df_cmt.info()"
   ]
  },
  {
   "cell_type": "code",
   "execution_count": null,
   "id": "6c09c523",
   "metadata": {},
   "outputs": [],
   "source": []
  },
  {
   "cell_type": "code",
   "execution_count": 19,
   "id": "b7b93897",
   "metadata": {},
   "outputs": [
    {
     "data": {
      "text/html": [
       "<div>\n",
       "<style scoped>\n",
       "    .dataframe tbody tr th:only-of-type {\n",
       "        vertical-align: middle;\n",
       "    }\n",
       "\n",
       "    .dataframe tbody tr th {\n",
       "        vertical-align: top;\n",
       "    }\n",
       "\n",
       "    .dataframe thead th {\n",
       "        text-align: right;\n",
       "    }\n",
       "</style>\n",
       "<table border=\"1\" class=\"dataframe\">\n",
       "  <thead>\n",
       "    <tr style=\"text-align: right;\">\n",
       "      <th></th>\n",
       "      <th>Comment</th>\n",
       "      <th>Sentiment</th>\n",
       "    </tr>\n",
       "  </thead>\n",
       "  <tbody>\n",
       "    <tr>\n",
       "      <th>2594</th>\n",
       "      <td>@united that would have been nice earlier  tod...</td>\n",
       "      <td>negative</td>\n",
       "    </tr>\n",
       "    <tr>\n",
       "      <th>12631</th>\n",
       "      <td>.@AmericanAir No. I watched these bags be aban...</td>\n",
       "      <td>negative</td>\n",
       "    </tr>\n",
       "    <tr>\n",
       "      <th>309</th>\n",
       "      <td>@VirginAmerica is saving my sanity right now: ...</td>\n",
       "      <td>neutral</td>\n",
       "    </tr>\n",
       "    <tr>\n",
       "      <th>13229</th>\n",
       "      <td>@AmericanAir  thanks hoping that by wed I can ...</td>\n",
       "      <td>positive</td>\n",
       "    </tr>\n",
       "    <tr>\n",
       "      <th>11579</th>\n",
       "      <td>@USAirways I'm sick of living in an airport!! ...</td>\n",
       "      <td>negative</td>\n",
       "    </tr>\n",
       "  </tbody>\n",
       "</table>\n",
       "</div>"
      ],
      "text/plain": [
       "                                                 Comment Sentiment\n",
       "2594   @united that would have been nice earlier  tod...  negative\n",
       "12631  .@AmericanAir No. I watched these bags be aban...  negative\n",
       "309    @VirginAmerica is saving my sanity right now: ...   neutral\n",
       "13229  @AmericanAir  thanks hoping that by wed I can ...  positive\n",
       "11579  @USAirways I'm sick of living in an airport!! ...  negative"
      ]
     },
     "execution_count": 19,
     "metadata": {},
     "output_type": "execute_result"
    }
   ],
   "source": [
    "df_cmt.sample(5)"
   ]
  },
  {
   "cell_type": "code",
   "execution_count": null,
   "id": "bc4aedbb",
   "metadata": {},
   "outputs": [],
   "source": []
  },
  {
   "cell_type": "code",
   "execution_count": 21,
   "id": "f486816e",
   "metadata": {},
   "outputs": [
    {
     "data": {
      "text/html": [
       "<div>\n",
       "<style scoped>\n",
       "    .dataframe tbody tr th:only-of-type {\n",
       "        vertical-align: middle;\n",
       "    }\n",
       "\n",
       "    .dataframe tbody tr th {\n",
       "        vertical-align: top;\n",
       "    }\n",
       "\n",
       "    .dataframe thead th {\n",
       "        text-align: right;\n",
       "    }\n",
       "</style>\n",
       "<table border=\"1\" class=\"dataframe\">\n",
       "  <thead>\n",
       "    <tr style=\"text-align: right;\">\n",
       "      <th></th>\n",
       "      <th>Comment</th>\n",
       "      <th>Sentiment</th>\n",
       "    </tr>\n",
       "  </thead>\n",
       "  <tbody>\n",
       "    <tr>\n",
       "      <th>count</th>\n",
       "      <td>14477</td>\n",
       "      <td>14477</td>\n",
       "    </tr>\n",
       "    <tr>\n",
       "      <th>unique</th>\n",
       "      <td>14401</td>\n",
       "      <td>3</td>\n",
       "    </tr>\n",
       "    <tr>\n",
       "      <th>top</th>\n",
       "      <td>@united thanks</td>\n",
       "      <td>negative</td>\n",
       "    </tr>\n",
       "    <tr>\n",
       "      <th>freq</th>\n",
       "      <td>6</td>\n",
       "      <td>9080</td>\n",
       "    </tr>\n",
       "  </tbody>\n",
       "</table>\n",
       "</div>"
      ],
      "text/plain": [
       "               Comment Sentiment\n",
       "count            14477     14477\n",
       "unique           14401         3\n",
       "top     @united thanks  negative\n",
       "freq                 6      9080"
      ]
     },
     "execution_count": 21,
     "metadata": {},
     "output_type": "execute_result"
    }
   ],
   "source": [
    "df_cmt.describe()"
   ]
  },
  {
   "cell_type": "code",
   "execution_count": 22,
   "id": "45f00dcc",
   "metadata": {},
   "outputs": [
    {
     "data": {
      "text/plain": [
       "array(['neutral', 'positive', 'negative'], dtype=object)"
      ]
     },
     "execution_count": 22,
     "metadata": {},
     "output_type": "execute_result"
    }
   ],
   "source": [
    "df_cmt['Sentiment'].unique()"
   ]
  },
  {
   "cell_type": "code",
   "execution_count": 23,
   "id": "179d4895",
   "metadata": {},
   "outputs": [
    {
     "data": {
      "text/plain": [
       "negative    9080\n",
       "neutral     3060\n",
       "positive    2337\n",
       "Name: Sentiment, dtype: int64"
      ]
     },
     "execution_count": 23,
     "metadata": {},
     "output_type": "execute_result"
    }
   ],
   "source": [
    "df_cmt['Sentiment'].value_counts()"
   ]
  },
  {
   "cell_type": "code",
   "execution_count": null,
   "id": "c22f8850",
   "metadata": {},
   "outputs": [],
   "source": []
  },
  {
   "cell_type": "code",
   "execution_count": null,
   "id": "8f5343f5",
   "metadata": {},
   "outputs": [],
   "source": []
  },
  {
   "cell_type": "code",
   "execution_count": null,
   "id": "15e6d5bb",
   "metadata": {},
   "outputs": [],
   "source": []
  },
  {
   "cell_type": "markdown",
   "id": "0003d333",
   "metadata": {},
   "source": [
    "## Bài 5: Tập dữ liệu Housing"
   ]
  },
  {
   "cell_type": "code",
   "execution_count": 25,
   "id": "01862914",
   "metadata": {},
   "outputs": [
    {
     "name": "stdout",
     "output_type": "stream",
     "text": [
      "<class 'pandas.core.frame.DataFrame'>\n",
      "RangeIndex: 545 entries, 0 to 544\n",
      "Data columns (total 9 columns):\n",
      " #   Column            Non-Null Count  Dtype \n",
      "---  ------            --------------  ----- \n",
      " 0   area              545 non-null    int64 \n",
      " 1   bedrooms          545 non-null    int64 \n",
      " 2   bathrooms         545 non-null    int64 \n",
      " 3   mainroad          545 non-null    object\n",
      " 4   guestroom         545 non-null    object\n",
      " 5   basement          545 non-null    object\n",
      " 6   parking           545 non-null    int64 \n",
      " 7   furnishingstatus  545 non-null    object\n",
      " 8   price             545 non-null    int64 \n",
      "dtypes: int64(5), object(4)\n",
      "memory usage: 38.4+ KB\n"
     ]
    }
   ],
   "source": [
    "df_housing = pd.read_csv('Data/Data_Housing.csv')\n",
    "df_housing.info()"
   ]
  },
  {
   "cell_type": "code",
   "execution_count": null,
   "id": "0f30c7b0",
   "metadata": {},
   "outputs": [],
   "source": []
  },
  {
   "cell_type": "code",
   "execution_count": 26,
   "id": "9811aa6f",
   "metadata": {},
   "outputs": [
    {
     "data": {
      "text/html": [
       "<div>\n",
       "<style scoped>\n",
       "    .dataframe tbody tr th:only-of-type {\n",
       "        vertical-align: middle;\n",
       "    }\n",
       "\n",
       "    .dataframe tbody tr th {\n",
       "        vertical-align: top;\n",
       "    }\n",
       "\n",
       "    .dataframe thead th {\n",
       "        text-align: right;\n",
       "    }\n",
       "</style>\n",
       "<table border=\"1\" class=\"dataframe\">\n",
       "  <thead>\n",
       "    <tr style=\"text-align: right;\">\n",
       "      <th></th>\n",
       "      <th>area</th>\n",
       "      <th>bedrooms</th>\n",
       "      <th>bathrooms</th>\n",
       "      <th>mainroad</th>\n",
       "      <th>guestroom</th>\n",
       "      <th>basement</th>\n",
       "      <th>parking</th>\n",
       "      <th>furnishingstatus</th>\n",
       "      <th>price</th>\n",
       "    </tr>\n",
       "  </thead>\n",
       "  <tbody>\n",
       "    <tr>\n",
       "      <th>369</th>\n",
       "      <td>3600</td>\n",
       "      <td>2</td>\n",
       "      <td>1</td>\n",
       "      <td>yes</td>\n",
       "      <td>no</td>\n",
       "      <td>no</td>\n",
       "      <td>0</td>\n",
       "      <td>furnished</td>\n",
       "      <td>3675000</td>\n",
       "    </tr>\n",
       "    <tr>\n",
       "      <th>42</th>\n",
       "      <td>6480</td>\n",
       "      <td>3</td>\n",
       "      <td>2</td>\n",
       "      <td>yes</td>\n",
       "      <td>no</td>\n",
       "      <td>no</td>\n",
       "      <td>2</td>\n",
       "      <td>unfurnished</td>\n",
       "      <td>7700000</td>\n",
       "    </tr>\n",
       "    <tr>\n",
       "      <th>300</th>\n",
       "      <td>4079</td>\n",
       "      <td>3</td>\n",
       "      <td>1</td>\n",
       "      <td>yes</td>\n",
       "      <td>no</td>\n",
       "      <td>no</td>\n",
       "      <td>0</td>\n",
       "      <td>semi-furnished</td>\n",
       "      <td>4200000</td>\n",
       "    </tr>\n",
       "    <tr>\n",
       "      <th>277</th>\n",
       "      <td>10360</td>\n",
       "      <td>2</td>\n",
       "      <td>1</td>\n",
       "      <td>yes</td>\n",
       "      <td>no</td>\n",
       "      <td>no</td>\n",
       "      <td>1</td>\n",
       "      <td>semi-furnished</td>\n",
       "      <td>4305000</td>\n",
       "    </tr>\n",
       "    <tr>\n",
       "      <th>521</th>\n",
       "      <td>3635</td>\n",
       "      <td>2</td>\n",
       "      <td>1</td>\n",
       "      <td>no</td>\n",
       "      <td>no</td>\n",
       "      <td>no</td>\n",
       "      <td>0</td>\n",
       "      <td>unfurnished</td>\n",
       "      <td>2408000</td>\n",
       "    </tr>\n",
       "  </tbody>\n",
       "</table>\n",
       "</div>"
      ],
      "text/plain": [
       "      area  bedrooms  bathrooms mainroad guestroom basement  parking  \\\n",
       "369   3600         2          1      yes        no       no        0   \n",
       "42    6480         3          2      yes        no       no        2   \n",
       "300   4079         3          1      yes        no       no        0   \n",
       "277  10360         2          1      yes        no       no        1   \n",
       "521   3635         2          1       no        no       no        0   \n",
       "\n",
       "    furnishingstatus    price  \n",
       "369        furnished  3675000  \n",
       "42       unfurnished  7700000  \n",
       "300   semi-furnished  4200000  \n",
       "277   semi-furnished  4305000  \n",
       "521      unfurnished  2408000  "
      ]
     },
     "execution_count": 26,
     "metadata": {},
     "output_type": "execute_result"
    }
   ],
   "source": [
    "df_housing.sample(5)"
   ]
  },
  {
   "cell_type": "code",
   "execution_count": 27,
   "id": "d0bed058",
   "metadata": {},
   "outputs": [
    {
     "data": {
      "text/plain": [
       "array([13300000, 12250000, 12215000, 11410000, 10850000, 10150000,\n",
       "        9870000,  9800000,  9681000,  9310000,  9240000,  9100000,\n",
       "        8960000,  8890000,  8855000,  8750000,  8680000,  8645000,\n",
       "        8575000,  8540000,  8463000,  8400000,  8295000,  8190000,\n",
       "        8120000,  8080940,  8043000,  7980000,  7962500,  7910000,\n",
       "        7875000,  7840000,  7700000,  7560000,  7525000,  7490000,\n",
       "        7455000,  7420000,  7350000,  7343000,  7245000,  7210000,\n",
       "        7140000,  7070000,  7035000,  7000000,  6930000,  6895000,\n",
       "        6860000,  6790000,  6755000,  6720000,  6685000,  6650000,\n",
       "        6629000,  6615000,  6580000,  6510000,  6475000,  6440000,\n",
       "        6419000,  6405000,  6300000,  6293000,  6265000,  6230000,\n",
       "        6195000,  6160000,  6125000,  6107500,  6090000,  6083000,\n",
       "        6020000,  5950000,  5943000,  5880000,  5873000,  5866000,\n",
       "        5810000,  5803000,  5775000,  5740000,  5652500,  5600000,\n",
       "        5565000,  5530000,  5523000,  5495000,  5460000,  5425000,\n",
       "        5390000,  5383000,  5320000,  5285000,  5250000,  5243000,\n",
       "        5229000,  5215000,  5145000,  5110000,  5075000,  5040000,\n",
       "        5033000,  5005000,  4970000,  4956000,  4935000,  4907000,\n",
       "        4900000,  4893000,  4865000,  4830000,  4795000,  4767000,\n",
       "        4760000,  4753000,  4690000,  4655000,  4620000,  4613000,\n",
       "        4585000,  4550000,  4543000,  4515000,  4480000,  4473000,\n",
       "        4445000,  4410000,  4403000,  4382000,  4375000,  4340000,\n",
       "        4319000,  4305000,  4277000,  4270000,  4235000,  4200000,\n",
       "        4193000,  4165000,  4130000,  4123000,  4098500,  4095000,\n",
       "        4060000,  4025000,  4007500,  3990000,  3920000,  3885000,\n",
       "        3850000,  3836000,  3815000,  3780000,  3773000,  3745000,\n",
       "        3710000,  3703000,  3675000,  3640000,  3633000,  3605000,\n",
       "        3570000,  3535000,  3500000,  3493000,  3465000,  3430000,\n",
       "        3423000,  3395000,  3360000,  3353000,  3332000,  3325000,\n",
       "        3290000,  3255000,  3234000,  3220000,  3150000,  3143000,\n",
       "        3129000,  3118850,  3115000,  3087000,  3080000,  3045000,\n",
       "        3010000,  3003000,  2975000,  2961000,  2940000,  2870000,\n",
       "        2852500,  2835000,  2800000,  2730000,  2695000,  2660000,\n",
       "        2653000,  2604000,  2590000,  2520000,  2485000,  2450000,\n",
       "        2408000,  2380000,  2345000,  2310000,  2275000,  2240000,\n",
       "        2233000,  2135000,  2100000,  1960000,  1890000,  1855000,\n",
       "        1820000,  1767150,  1750000], dtype=int64)"
      ]
     },
     "execution_count": 27,
     "metadata": {},
     "output_type": "execute_result"
    }
   ],
   "source": [
    "df_housing['price'].unique()"
   ]
  },
  {
   "cell_type": "code",
   "execution_count": null,
   "id": "b9994584",
   "metadata": {},
   "outputs": [],
   "source": []
  },
  {
   "cell_type": "code",
   "execution_count": null,
   "id": "33453042",
   "metadata": {},
   "outputs": [],
   "source": []
  },
  {
   "cell_type": "code",
   "execution_count": null,
   "id": "2398932a",
   "metadata": {},
   "outputs": [],
   "source": []
  },
  {
   "cell_type": "code",
   "execution_count": null,
   "id": "7c47c7a5",
   "metadata": {},
   "outputs": [],
   "source": []
  },
  {
   "cell_type": "code",
   "execution_count": null,
   "id": "db1493e3",
   "metadata": {},
   "outputs": [],
   "source": []
  },
  {
   "cell_type": "code",
   "execution_count": null,
   "id": "20fd6a46",
   "metadata": {},
   "outputs": [],
   "source": []
  },
  {
   "cell_type": "code",
   "execution_count": null,
   "id": "2d2e65c8",
   "metadata": {},
   "outputs": [],
   "source": []
  },
  {
   "cell_type": "code",
   "execution_count": null,
   "id": "24c92f83",
   "metadata": {},
   "outputs": [],
   "source": []
  },
  {
   "cell_type": "code",
   "execution_count": null,
   "id": "3d46454b",
   "metadata": {},
   "outputs": [],
   "source": []
  },
  {
   "cell_type": "code",
   "execution_count": null,
   "id": "fb3b93ff",
   "metadata": {},
   "outputs": [],
   "source": []
  },
  {
   "cell_type": "code",
   "execution_count": null,
   "id": "832547e3",
   "metadata": {},
   "outputs": [],
   "source": []
  },
  {
   "cell_type": "code",
   "execution_count": null,
   "id": "49bcb8ce",
   "metadata": {},
   "outputs": [],
   "source": []
  },
  {
   "cell_type": "code",
   "execution_count": null,
   "id": "dea82c99",
   "metadata": {},
   "outputs": [],
   "source": []
  },
  {
   "cell_type": "code",
   "execution_count": null,
   "id": "791214e3",
   "metadata": {},
   "outputs": [],
   "source": []
  },
  {
   "cell_type": "code",
   "execution_count": null,
   "id": "2213b6d0",
   "metadata": {},
   "outputs": [],
   "source": []
  },
  {
   "cell_type": "code",
   "execution_count": null,
   "id": "f71a5662",
   "metadata": {},
   "outputs": [],
   "source": []
  },
  {
   "cell_type": "code",
   "execution_count": null,
   "id": "4750854a",
   "metadata": {},
   "outputs": [],
   "source": []
  },
  {
   "cell_type": "code",
   "execution_count": null,
   "id": "ffc5b6c0",
   "metadata": {},
   "outputs": [],
   "source": []
  },
  {
   "cell_type": "code",
   "execution_count": null,
   "id": "c84f6418",
   "metadata": {},
   "outputs": [],
   "source": [
    "\n"
   ]
  }
 ],
 "metadata": {
  "kernelspec": {
   "display_name": "Python 3 (ipykernel)",
   "language": "python",
   "name": "python3"
  },
  "language_info": {
   "codemirror_mode": {
    "name": "ipython",
    "version": 3
   },
   "file_extension": ".py",
   "mimetype": "text/x-python",
   "name": "python",
   "nbconvert_exporter": "python",
   "pygments_lexer": "ipython3",
   "version": "3.12.3"
  }
 },
 "nbformat": 4,
 "nbformat_minor": 5
}
